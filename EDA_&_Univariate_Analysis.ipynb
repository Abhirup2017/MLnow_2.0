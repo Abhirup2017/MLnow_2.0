{
  "nbformat": 4,
  "nbformat_minor": 0,
  "metadata": {
    "colab": {
      "name": "EDA & Univariate Analysis.ipynb",
      "provenance": [],
      "collapsed_sections": [],
      "mount_file_id": "1wssDgkCrXZiH-jg8xzhHL7fdvURd3Ukk",
      "authorship_tag": "ABX9TyNS6IMmAizdgzHTBYti8HoW",
      "include_colab_link": true
    },
    "kernelspec": {
      "name": "python3",
      "display_name": "Python 3"
    },
    "language_info": {
      "name": "python"
    }
  },
  "cells": [
    {
      "cell_type": "markdown",
      "metadata": {
        "id": "view-in-github",
        "colab_type": "text"
      },
      "source": [
        "<a href=\"https://colab.research.google.com/github/Abhirup2017/MLnow_2.0/blob/main/EDA_%26_Univariate_Analysis.ipynb\" target=\"_parent\"><img src=\"https://colab.research.google.com/assets/colab-badge.svg\" alt=\"Open In Colab\"/></a>"
      ]
    },
    {
      "cell_type": "markdown",
      "metadata": {
        "id": "RFOyNzSIvrxY"
      },
      "source": [
        "> This notebook was created for assignment of the `ML.now()` course\n",
        "\n",
        "`Univariate Linear Regression`\n",
        "\n",
        "[Link to Download the dataset](https://drive.google.com/file/d/12538hF4aSIy9LTQvFH_HCq8mxhBomG2C/view?usp=sharing)\n",
        "\n",
        "**Date Created**: June 6, 2021\n",
        "\n",
        "\n",
        "**Author**:\n",
        "Abhirup Bhattacharjee \n",
        "\n",
        "**Reach out**:\n",
        " [GitHub](https://github.com/Abhirup2017) | [LinkedIn](https://www.linkedin.com/in/abhirup-bhattacharjee-9aa676193?lipi=urn%3Ali%3Apage%3Ad_flagship3_profile_view_base_contact_details%3B0CB3yyVlRTGPEM0O9kCQFA%3D%3D)\n",
        "\n",
        "[[Course Repository](https://github.com/Abhirup2017/MLnow_2.0)]"
      ]
    },
    {
      "cell_type": "code",
      "metadata": {
        "id": "vQPsVV6euvDa",
        "colab": {
          "base_uri": "https://localhost:8080/"
        },
        "outputId": "b6f232fb-828d-40c7-c6fa-f4e143989f96"
      },
      "source": [
        "from google.colab import drive\n",
        "drive.mount('/content/drive')"
      ],
      "execution_count": 73,
      "outputs": [
        {
          "output_type": "stream",
          "text": [
            "Drive already mounted at /content/drive; to attempt to forcibly remount, call drive.mount(\"/content/drive\", force_remount=True).\n"
          ],
          "name": "stdout"
        }
      ]
    },
    {
      "cell_type": "code",
      "metadata": {
        "colab": {
          "base_uri": "https://localhost:8080/"
        },
        "id": "c3pYzX1Vy3vy",
        "outputId": "30cc2b34-51ac-435b-948e-2b292efda1fa"
      },
      "source": [
        "cd \"/content/drive/MyDrive/Google Cllab_GirlScript\""
      ],
      "execution_count": 2,
      "outputs": [
        {
          "output_type": "stream",
          "text": [
            "/content/drive/MyDrive/Google Cllab_GirlScript\n"
          ],
          "name": "stdout"
        }
      ]
    },
    {
      "cell_type": "code",
      "metadata": {
        "colab": {
          "base_uri": "https://localhost:8080/"
        },
        "id": "FWTJjNzlzBlx",
        "outputId": "99fb56e1-2898-4c02-fbe7-0830628696d2"
      },
      "source": [
        "ls"
      ],
      "execution_count": 3,
      "outputs": [
        {
          "output_type": "stream",
          "text": [
            " 01_Perceptron_Training.ipynb       Pokemon_Data.csv\n",
            "'EDA & Univariate Analysis.ipynb'   top_charts.csv\n"
          ],
          "name": "stdout"
        }
      ]
    },
    {
      "cell_type": "markdown",
      "metadata": {
        "id": "CDODEMo01Qcp"
      },
      "source": [
        "# Importing the important libraries"
      ]
    },
    {
      "cell_type": "code",
      "metadata": {
        "id": "jyjqWYuWzUqJ"
      },
      "source": [
        "import numpy as np\n",
        "import pandas as pd\n",
        "import matplotlib.pyplot as plt\n",
        "import tensorflow as tf #framework\n",
        "from tensorflow import keras\n",
        "import seaborn as sns"
      ],
      "execution_count": 4,
      "outputs": []
    },
    {
      "cell_type": "code",
      "metadata": {
        "id": "Hi360Vkq5xMc"
      },
      "source": [
        ""
      ],
      "execution_count": 76,
      "outputs": []
    },
    {
      "cell_type": "markdown",
      "metadata": {
        "id": "a0BlRGAUwC6x"
      },
      "source": [
        "# Accessing the pokemon data set "
      ]
    },
    {
      "cell_type": "code",
      "metadata": {
        "id": "4_35KMIyzb0w"
      },
      "source": [
        "pokemon_data = pd.read_csv(\"/content/drive/MyDrive/Google Cllab_GirlScript/Pokemon_Data.csv\") #reading the data using pandas"
      ],
      "execution_count": 7,
      "outputs": []
    },
    {
      "cell_type": "code",
      "metadata": {
        "colab": {
          "base_uri": "https://localhost:8080/",
          "height": 423
        },
        "id": "HvJ4M4ih0wZx",
        "outputId": "23df0609-7330-4b7e-f9c2-2a8eaf7953c2"
      },
      "source": [
        "pokemon_data #printing the dataset"
      ],
      "execution_count": 8,
      "outputs": [
        {
          "output_type": "execute_result",
          "data": {
            "text/html": [
              "<div>\n",
              "<style scoped>\n",
              "    .dataframe tbody tr th:only-of-type {\n",
              "        vertical-align: middle;\n",
              "    }\n",
              "\n",
              "    .dataframe tbody tr th {\n",
              "        vertical-align: top;\n",
              "    }\n",
              "\n",
              "    .dataframe thead th {\n",
              "        text-align: right;\n",
              "    }\n",
              "</style>\n",
              "<table border=\"1\" class=\"dataframe\">\n",
              "  <thead>\n",
              "    <tr style=\"text-align: right;\">\n",
              "      <th></th>\n",
              "      <th>Sr.no</th>\n",
              "      <th>Name</th>\n",
              "      <th>Type 1</th>\n",
              "      <th>Type 2</th>\n",
              "      <th>HP</th>\n",
              "      <th>Attack</th>\n",
              "      <th>Defense</th>\n",
              "      <th>Sp. Atk</th>\n",
              "      <th>Sp. Def</th>\n",
              "      <th>Speed</th>\n",
              "      <th>Generation</th>\n",
              "      <th>Legendary</th>\n",
              "    </tr>\n",
              "  </thead>\n",
              "  <tbody>\n",
              "    <tr>\n",
              "      <th>0</th>\n",
              "      <td>1</td>\n",
              "      <td>Bulbasaur</td>\n",
              "      <td>Grass</td>\n",
              "      <td>Poison</td>\n",
              "      <td>45</td>\n",
              "      <td>49</td>\n",
              "      <td>49</td>\n",
              "      <td>65</td>\n",
              "      <td>65</td>\n",
              "      <td>45</td>\n",
              "      <td>1</td>\n",
              "      <td>False</td>\n",
              "    </tr>\n",
              "    <tr>\n",
              "      <th>1</th>\n",
              "      <td>2</td>\n",
              "      <td>Ivysaur</td>\n",
              "      <td>Grass</td>\n",
              "      <td>Poison</td>\n",
              "      <td>60</td>\n",
              "      <td>62</td>\n",
              "      <td>63</td>\n",
              "      <td>80</td>\n",
              "      <td>80</td>\n",
              "      <td>60</td>\n",
              "      <td>1</td>\n",
              "      <td>False</td>\n",
              "    </tr>\n",
              "    <tr>\n",
              "      <th>2</th>\n",
              "      <td>3</td>\n",
              "      <td>Venusaur</td>\n",
              "      <td>Grass</td>\n",
              "      <td>Poison</td>\n",
              "      <td>80</td>\n",
              "      <td>82</td>\n",
              "      <td>83</td>\n",
              "      <td>100</td>\n",
              "      <td>100</td>\n",
              "      <td>80</td>\n",
              "      <td>1</td>\n",
              "      <td>False</td>\n",
              "    </tr>\n",
              "    <tr>\n",
              "      <th>3</th>\n",
              "      <td>3</td>\n",
              "      <td>VenusaurMega Venusaur</td>\n",
              "      <td>Grass</td>\n",
              "      <td>Poison</td>\n",
              "      <td>80</td>\n",
              "      <td>100</td>\n",
              "      <td>123</td>\n",
              "      <td>122</td>\n",
              "      <td>120</td>\n",
              "      <td>80</td>\n",
              "      <td>1</td>\n",
              "      <td>False</td>\n",
              "    </tr>\n",
              "    <tr>\n",
              "      <th>4</th>\n",
              "      <td>4</td>\n",
              "      <td>Charmander</td>\n",
              "      <td>Fire</td>\n",
              "      <td>NaN</td>\n",
              "      <td>39</td>\n",
              "      <td>52</td>\n",
              "      <td>43</td>\n",
              "      <td>60</td>\n",
              "      <td>50</td>\n",
              "      <td>65</td>\n",
              "      <td>1</td>\n",
              "      <td>False</td>\n",
              "    </tr>\n",
              "    <tr>\n",
              "      <th>...</th>\n",
              "      <td>...</td>\n",
              "      <td>...</td>\n",
              "      <td>...</td>\n",
              "      <td>...</td>\n",
              "      <td>...</td>\n",
              "      <td>...</td>\n",
              "      <td>...</td>\n",
              "      <td>...</td>\n",
              "      <td>...</td>\n",
              "      <td>...</td>\n",
              "      <td>...</td>\n",
              "      <td>...</td>\n",
              "    </tr>\n",
              "    <tr>\n",
              "      <th>795</th>\n",
              "      <td>719</td>\n",
              "      <td>Diancie</td>\n",
              "      <td>Rock</td>\n",
              "      <td>Fairy</td>\n",
              "      <td>50</td>\n",
              "      <td>100</td>\n",
              "      <td>150</td>\n",
              "      <td>100</td>\n",
              "      <td>150</td>\n",
              "      <td>50</td>\n",
              "      <td>6</td>\n",
              "      <td>True</td>\n",
              "    </tr>\n",
              "    <tr>\n",
              "      <th>796</th>\n",
              "      <td>719</td>\n",
              "      <td>DiancieMega Diancie</td>\n",
              "      <td>Rock</td>\n",
              "      <td>Fairy</td>\n",
              "      <td>50</td>\n",
              "      <td>160</td>\n",
              "      <td>110</td>\n",
              "      <td>160</td>\n",
              "      <td>110</td>\n",
              "      <td>110</td>\n",
              "      <td>6</td>\n",
              "      <td>True</td>\n",
              "    </tr>\n",
              "    <tr>\n",
              "      <th>797</th>\n",
              "      <td>720</td>\n",
              "      <td>HoopaHoopa Confined</td>\n",
              "      <td>Psychic</td>\n",
              "      <td>Ghost</td>\n",
              "      <td>80</td>\n",
              "      <td>110</td>\n",
              "      <td>60</td>\n",
              "      <td>150</td>\n",
              "      <td>130</td>\n",
              "      <td>70</td>\n",
              "      <td>6</td>\n",
              "      <td>True</td>\n",
              "    </tr>\n",
              "    <tr>\n",
              "      <th>798</th>\n",
              "      <td>720</td>\n",
              "      <td>HoopaHoopa Unbound</td>\n",
              "      <td>Psychic</td>\n",
              "      <td>Dark</td>\n",
              "      <td>80</td>\n",
              "      <td>160</td>\n",
              "      <td>60</td>\n",
              "      <td>170</td>\n",
              "      <td>130</td>\n",
              "      <td>80</td>\n",
              "      <td>6</td>\n",
              "      <td>True</td>\n",
              "    </tr>\n",
              "    <tr>\n",
              "      <th>799</th>\n",
              "      <td>721</td>\n",
              "      <td>Volcanion</td>\n",
              "      <td>Fire</td>\n",
              "      <td>Water</td>\n",
              "      <td>80</td>\n",
              "      <td>110</td>\n",
              "      <td>120</td>\n",
              "      <td>130</td>\n",
              "      <td>90</td>\n",
              "      <td>70</td>\n",
              "      <td>6</td>\n",
              "      <td>True</td>\n",
              "    </tr>\n",
              "  </tbody>\n",
              "</table>\n",
              "<p>800 rows × 12 columns</p>\n",
              "</div>"
            ],
            "text/plain": [
              "     Sr.no                   Name   Type 1  ... Speed  Generation  Legendary\n",
              "0        1              Bulbasaur    Grass  ...    45           1      False\n",
              "1        2                Ivysaur    Grass  ...    60           1      False\n",
              "2        3               Venusaur    Grass  ...    80           1      False\n",
              "3        3  VenusaurMega Venusaur    Grass  ...    80           1      False\n",
              "4        4             Charmander     Fire  ...    65           1      False\n",
              "..     ...                    ...      ...  ...   ...         ...        ...\n",
              "795    719                Diancie     Rock  ...    50           6       True\n",
              "796    719    DiancieMega Diancie     Rock  ...   110           6       True\n",
              "797    720    HoopaHoopa Confined  Psychic  ...    70           6       True\n",
              "798    720     HoopaHoopa Unbound  Psychic  ...    80           6       True\n",
              "799    721              Volcanion     Fire  ...    70           6       True\n",
              "\n",
              "[800 rows x 12 columns]"
            ]
          },
          "metadata": {
            "tags": []
          },
          "execution_count": 8
        }
      ]
    },
    {
      "cell_type": "markdown",
      "metadata": {
        "id": "33uLvHOJ1ied"
      },
      "source": [
        " **So, we have 800 rows and 12 columns**"
      ]
    },
    {
      "cell_type": "code",
      "metadata": {
        "colab": {
          "base_uri": "https://localhost:8080/",
          "height": 206
        },
        "id": "z3EWATP10xxB",
        "outputId": "cda8157a-6ab8-431b-b7d1-837300ffb8ba"
      },
      "source": [
        "pokemon_data.head() #reading the first 5 rows"
      ],
      "execution_count": 9,
      "outputs": [
        {
          "output_type": "execute_result",
          "data": {
            "text/html": [
              "<div>\n",
              "<style scoped>\n",
              "    .dataframe tbody tr th:only-of-type {\n",
              "        vertical-align: middle;\n",
              "    }\n",
              "\n",
              "    .dataframe tbody tr th {\n",
              "        vertical-align: top;\n",
              "    }\n",
              "\n",
              "    .dataframe thead th {\n",
              "        text-align: right;\n",
              "    }\n",
              "</style>\n",
              "<table border=\"1\" class=\"dataframe\">\n",
              "  <thead>\n",
              "    <tr style=\"text-align: right;\">\n",
              "      <th></th>\n",
              "      <th>Sr.no</th>\n",
              "      <th>Name</th>\n",
              "      <th>Type 1</th>\n",
              "      <th>Type 2</th>\n",
              "      <th>HP</th>\n",
              "      <th>Attack</th>\n",
              "      <th>Defense</th>\n",
              "      <th>Sp. Atk</th>\n",
              "      <th>Sp. Def</th>\n",
              "      <th>Speed</th>\n",
              "      <th>Generation</th>\n",
              "      <th>Legendary</th>\n",
              "    </tr>\n",
              "  </thead>\n",
              "  <tbody>\n",
              "    <tr>\n",
              "      <th>0</th>\n",
              "      <td>1</td>\n",
              "      <td>Bulbasaur</td>\n",
              "      <td>Grass</td>\n",
              "      <td>Poison</td>\n",
              "      <td>45</td>\n",
              "      <td>49</td>\n",
              "      <td>49</td>\n",
              "      <td>65</td>\n",
              "      <td>65</td>\n",
              "      <td>45</td>\n",
              "      <td>1</td>\n",
              "      <td>False</td>\n",
              "    </tr>\n",
              "    <tr>\n",
              "      <th>1</th>\n",
              "      <td>2</td>\n",
              "      <td>Ivysaur</td>\n",
              "      <td>Grass</td>\n",
              "      <td>Poison</td>\n",
              "      <td>60</td>\n",
              "      <td>62</td>\n",
              "      <td>63</td>\n",
              "      <td>80</td>\n",
              "      <td>80</td>\n",
              "      <td>60</td>\n",
              "      <td>1</td>\n",
              "      <td>False</td>\n",
              "    </tr>\n",
              "    <tr>\n",
              "      <th>2</th>\n",
              "      <td>3</td>\n",
              "      <td>Venusaur</td>\n",
              "      <td>Grass</td>\n",
              "      <td>Poison</td>\n",
              "      <td>80</td>\n",
              "      <td>82</td>\n",
              "      <td>83</td>\n",
              "      <td>100</td>\n",
              "      <td>100</td>\n",
              "      <td>80</td>\n",
              "      <td>1</td>\n",
              "      <td>False</td>\n",
              "    </tr>\n",
              "    <tr>\n",
              "      <th>3</th>\n",
              "      <td>3</td>\n",
              "      <td>VenusaurMega Venusaur</td>\n",
              "      <td>Grass</td>\n",
              "      <td>Poison</td>\n",
              "      <td>80</td>\n",
              "      <td>100</td>\n",
              "      <td>123</td>\n",
              "      <td>122</td>\n",
              "      <td>120</td>\n",
              "      <td>80</td>\n",
              "      <td>1</td>\n",
              "      <td>False</td>\n",
              "    </tr>\n",
              "    <tr>\n",
              "      <th>4</th>\n",
              "      <td>4</td>\n",
              "      <td>Charmander</td>\n",
              "      <td>Fire</td>\n",
              "      <td>NaN</td>\n",
              "      <td>39</td>\n",
              "      <td>52</td>\n",
              "      <td>43</td>\n",
              "      <td>60</td>\n",
              "      <td>50</td>\n",
              "      <td>65</td>\n",
              "      <td>1</td>\n",
              "      <td>False</td>\n",
              "    </tr>\n",
              "  </tbody>\n",
              "</table>\n",
              "</div>"
            ],
            "text/plain": [
              "   Sr.no                   Name Type 1  ... Speed  Generation  Legendary\n",
              "0      1              Bulbasaur  Grass  ...    45           1      False\n",
              "1      2                Ivysaur  Grass  ...    60           1      False\n",
              "2      3               Venusaur  Grass  ...    80           1      False\n",
              "3      3  VenusaurMega Venusaur  Grass  ...    80           1      False\n",
              "4      4             Charmander   Fire  ...    65           1      False\n",
              "\n",
              "[5 rows x 12 columns]"
            ]
          },
          "metadata": {
            "tags": []
          },
          "execution_count": 9
        }
      ]
    },
    {
      "cell_type": "code",
      "metadata": {
        "colab": {
          "base_uri": "https://localhost:8080/",
          "height": 206
        },
        "id": "zty85mJs1ArF",
        "outputId": "f0621fba-67d4-4028-fe66-c25602cc3b04"
      },
      "source": [
        "pokemon_data.tail() #reading the last 5 rows"
      ],
      "execution_count": 10,
      "outputs": [
        {
          "output_type": "execute_result",
          "data": {
            "text/html": [
              "<div>\n",
              "<style scoped>\n",
              "    .dataframe tbody tr th:only-of-type {\n",
              "        vertical-align: middle;\n",
              "    }\n",
              "\n",
              "    .dataframe tbody tr th {\n",
              "        vertical-align: top;\n",
              "    }\n",
              "\n",
              "    .dataframe thead th {\n",
              "        text-align: right;\n",
              "    }\n",
              "</style>\n",
              "<table border=\"1\" class=\"dataframe\">\n",
              "  <thead>\n",
              "    <tr style=\"text-align: right;\">\n",
              "      <th></th>\n",
              "      <th>Sr.no</th>\n",
              "      <th>Name</th>\n",
              "      <th>Type 1</th>\n",
              "      <th>Type 2</th>\n",
              "      <th>HP</th>\n",
              "      <th>Attack</th>\n",
              "      <th>Defense</th>\n",
              "      <th>Sp. Atk</th>\n",
              "      <th>Sp. Def</th>\n",
              "      <th>Speed</th>\n",
              "      <th>Generation</th>\n",
              "      <th>Legendary</th>\n",
              "    </tr>\n",
              "  </thead>\n",
              "  <tbody>\n",
              "    <tr>\n",
              "      <th>795</th>\n",
              "      <td>719</td>\n",
              "      <td>Diancie</td>\n",
              "      <td>Rock</td>\n",
              "      <td>Fairy</td>\n",
              "      <td>50</td>\n",
              "      <td>100</td>\n",
              "      <td>150</td>\n",
              "      <td>100</td>\n",
              "      <td>150</td>\n",
              "      <td>50</td>\n",
              "      <td>6</td>\n",
              "      <td>True</td>\n",
              "    </tr>\n",
              "    <tr>\n",
              "      <th>796</th>\n",
              "      <td>719</td>\n",
              "      <td>DiancieMega Diancie</td>\n",
              "      <td>Rock</td>\n",
              "      <td>Fairy</td>\n",
              "      <td>50</td>\n",
              "      <td>160</td>\n",
              "      <td>110</td>\n",
              "      <td>160</td>\n",
              "      <td>110</td>\n",
              "      <td>110</td>\n",
              "      <td>6</td>\n",
              "      <td>True</td>\n",
              "    </tr>\n",
              "    <tr>\n",
              "      <th>797</th>\n",
              "      <td>720</td>\n",
              "      <td>HoopaHoopa Confined</td>\n",
              "      <td>Psychic</td>\n",
              "      <td>Ghost</td>\n",
              "      <td>80</td>\n",
              "      <td>110</td>\n",
              "      <td>60</td>\n",
              "      <td>150</td>\n",
              "      <td>130</td>\n",
              "      <td>70</td>\n",
              "      <td>6</td>\n",
              "      <td>True</td>\n",
              "    </tr>\n",
              "    <tr>\n",
              "      <th>798</th>\n",
              "      <td>720</td>\n",
              "      <td>HoopaHoopa Unbound</td>\n",
              "      <td>Psychic</td>\n",
              "      <td>Dark</td>\n",
              "      <td>80</td>\n",
              "      <td>160</td>\n",
              "      <td>60</td>\n",
              "      <td>170</td>\n",
              "      <td>130</td>\n",
              "      <td>80</td>\n",
              "      <td>6</td>\n",
              "      <td>True</td>\n",
              "    </tr>\n",
              "    <tr>\n",
              "      <th>799</th>\n",
              "      <td>721</td>\n",
              "      <td>Volcanion</td>\n",
              "      <td>Fire</td>\n",
              "      <td>Water</td>\n",
              "      <td>80</td>\n",
              "      <td>110</td>\n",
              "      <td>120</td>\n",
              "      <td>130</td>\n",
              "      <td>90</td>\n",
              "      <td>70</td>\n",
              "      <td>6</td>\n",
              "      <td>True</td>\n",
              "    </tr>\n",
              "  </tbody>\n",
              "</table>\n",
              "</div>"
            ],
            "text/plain": [
              "     Sr.no                 Name   Type 1  ... Speed  Generation  Legendary\n",
              "795    719              Diancie     Rock  ...    50           6       True\n",
              "796    719  DiancieMega Diancie     Rock  ...   110           6       True\n",
              "797    720  HoopaHoopa Confined  Psychic  ...    70           6       True\n",
              "798    720   HoopaHoopa Unbound  Psychic  ...    80           6       True\n",
              "799    721            Volcanion     Fire  ...    70           6       True\n",
              "\n",
              "[5 rows x 12 columns]"
            ]
          },
          "metadata": {
            "tags": []
          },
          "execution_count": 10
        }
      ]
    },
    {
      "cell_type": "markdown",
      "metadata": {
        "id": "nckkPFU-7ItD"
      },
      "source": [
        "## Here we are seeing each column's data type"
      ]
    },
    {
      "cell_type": "code",
      "metadata": {
        "colab": {
          "base_uri": "https://localhost:8080/"
        },
        "id": "bLHeAx_V1fqD",
        "outputId": "fc8ca5a7-4623-40ba-ee8f-bc87804905ec"
      },
      "source": [
        "pokemon_data.info(verbose = True) # using verbose =  True will give you each column's data type"
      ],
      "execution_count": 14,
      "outputs": [
        {
          "output_type": "stream",
          "text": [
            "<class 'pandas.core.frame.DataFrame'>\n",
            "RangeIndex: 800 entries, 0 to 799\n",
            "Data columns (total 12 columns):\n",
            " #   Column      Non-Null Count  Dtype \n",
            "---  ------      --------------  ----- \n",
            " 0   Sr.no       800 non-null    int64 \n",
            " 1   Name        800 non-null    object\n",
            " 2   Type 1      800 non-null    object\n",
            " 3   Type 2      414 non-null    object\n",
            " 4   HP          800 non-null    int64 \n",
            " 5   Attack      800 non-null    int64 \n",
            " 6   Defense     800 non-null    int64 \n",
            " 7   Sp. Atk     800 non-null    int64 \n",
            " 8   Sp. Def     800 non-null    int64 \n",
            " 9   Speed       800 non-null    int64 \n",
            " 10  Generation  800 non-null    int64 \n",
            " 11  Legendary   800 non-null    bool  \n",
            "dtypes: bool(1), int64(8), object(3)\n",
            "memory usage: 69.7+ KB\n"
          ],
          "name": "stdout"
        }
      ]
    },
    {
      "cell_type": "markdown",
      "metadata": {
        "id": "tUASoz-sy2Cx"
      },
      "source": [
        "## Checking if there is any null value containing column"
      ]
    },
    {
      "cell_type": "code",
      "metadata": {
        "colab": {
          "base_uri": "https://localhost:8080/"
        },
        "id": "isoNe0-41xT3",
        "outputId": "b4354851-d99b-4954-cef4-bc75545dfe7a"
      },
      "source": [
        "print(pokemon_data.isnull().values.any())"
      ],
      "execution_count": 15,
      "outputs": [
        {
          "output_type": "stream",
          "text": [
            "True\n"
          ],
          "name": "stdout"
        }
      ]
    },
    {
      "cell_type": "markdown",
      "metadata": {
        "id": "rjco2sZMzND3"
      },
      "source": [
        "## Counting how many null values are there"
      ]
    },
    {
      "cell_type": "code",
      "metadata": {
        "colab": {
          "base_uri": "https://localhost:8080/"
        },
        "id": "M6-f1yo73p_m",
        "outputId": "2a49ecf5-d118-41d2-ca99-c81f65f51aa6"
      },
      "source": [
        "null_columns=pokemon_data.columns[pokemon_data.isnull().any()]\n",
        "pokemon_data[null_columns].isnull().sum()"
      ],
      "execution_count": 13,
      "outputs": [
        {
          "output_type": "execute_result",
          "data": {
            "text/plain": [
              "Type 2    386\n",
              "dtype: int64"
            ]
          },
          "metadata": {
            "tags": []
          },
          "execution_count": 13
        }
      ]
    },
    {
      "cell_type": "markdown",
      "metadata": {
        "id": "6nSbDTes39_9"
      },
      "source": [
        "Only, Type 2 column has 386 null values"
      ]
    },
    {
      "cell_type": "markdown",
      "metadata": {
        "id": "uUNUme800itj"
      },
      "source": [
        "## Printing null values with their respective index"
      ]
    },
    {
      "cell_type": "code",
      "metadata": {
        "colab": {
          "base_uri": "https://localhost:8080/"
        },
        "id": "LSznrxqo3G9y",
        "outputId": "61e7174e-dc37-4fee-eee0-0c06a2a0b46e"
      },
      "source": [
        "print(pokemon_data[pokemon_data.isnull().any(axis=\"columns\")][null_columns])"
      ],
      "execution_count": 84,
      "outputs": [
        {
          "output_type": "stream",
          "text": [
            "    Type 2\n",
            "4      NaN\n",
            "5      NaN\n",
            "9      NaN\n",
            "10     NaN\n",
            "11     NaN\n",
            "..     ...\n",
            "775    NaN\n",
            "776    NaN\n",
            "788    NaN\n",
            "789    NaN\n",
            "792    NaN\n",
            "\n",
            "[386 rows x 1 columns]\n"
          ],
          "name": "stdout"
        }
      ]
    },
    {
      "cell_type": "markdown",
      "metadata": {
        "id": "Jm3wlEr_1DK8"
      },
      "source": [
        "## Printing unique values"
      ]
    },
    {
      "cell_type": "code",
      "metadata": {
        "colab": {
          "base_uri": "https://localhost:8080/"
        },
        "id": "XwUyF1-S3eD8",
        "outputId": "34387a84-5893-49dd-8639-26b2e85d5cca"
      },
      "source": [
        "print(pokemon_data.nunique())"
      ],
      "execution_count": 85,
      "outputs": [
        {
          "output_type": "execute_result",
          "data": {
            "text/plain": [
              "Sr.no         721\n",
              "Name          800\n",
              "Type 1         18\n",
              "Type 2         18\n",
              "HP             94\n",
              "Attack        111\n",
              "Defense       103\n",
              "Sp. Atk       105\n",
              "Sp. Def        92\n",
              "Speed         108\n",
              "Generation      6\n",
              "Legendary       2\n",
              "dtype: int64"
            ]
          },
          "metadata": {
            "tags": []
          },
          "execution_count": 85
        }
      ]
    },
    {
      "cell_type": "markdown",
      "metadata": {
        "id": "dWM_HFuw2oD6"
      },
      "source": [
        "## Converting \"Legendary\" Column into 0,1 \n",
        "\n",
        "False === 0\n",
        "\n",
        "True === 1\n",
        "\n",
        "\n"
      ]
    },
    {
      "cell_type": "code",
      "metadata": {
        "colab": {
          "base_uri": "https://localhost:8080/",
          "height": 143
        },
        "id": "t_BVOZaq3cWe",
        "outputId": "e81ba087-d09c-4ffb-cb56-32cb8d47fdfa"
      },
      "source": [
        "pokemon_data[\"Legendary\"] = pokemon_data[\"Legendary\"].astype(int)\n",
        "pokemon_data.head(3)"
      ],
      "execution_count": 36,
      "outputs": [
        {
          "output_type": "execute_result",
          "data": {
            "text/html": [
              "<div>\n",
              "<style scoped>\n",
              "    .dataframe tbody tr th:only-of-type {\n",
              "        vertical-align: middle;\n",
              "    }\n",
              "\n",
              "    .dataframe tbody tr th {\n",
              "        vertical-align: top;\n",
              "    }\n",
              "\n",
              "    .dataframe thead th {\n",
              "        text-align: right;\n",
              "    }\n",
              "</style>\n",
              "<table border=\"1\" class=\"dataframe\">\n",
              "  <thead>\n",
              "    <tr style=\"text-align: right;\">\n",
              "      <th></th>\n",
              "      <th>Sr.no</th>\n",
              "      <th>Name</th>\n",
              "      <th>Type 1</th>\n",
              "      <th>Type 2</th>\n",
              "      <th>HP</th>\n",
              "      <th>Attack</th>\n",
              "      <th>Defense</th>\n",
              "      <th>Sp. Atk</th>\n",
              "      <th>Sp. Def</th>\n",
              "      <th>Speed</th>\n",
              "      <th>Generation</th>\n",
              "      <th>Legendary</th>\n",
              "    </tr>\n",
              "  </thead>\n",
              "  <tbody>\n",
              "    <tr>\n",
              "      <th>0</th>\n",
              "      <td>1</td>\n",
              "      <td>Bulbasaur</td>\n",
              "      <td>Grass</td>\n",
              "      <td>Poison</td>\n",
              "      <td>45</td>\n",
              "      <td>49</td>\n",
              "      <td>49</td>\n",
              "      <td>65</td>\n",
              "      <td>65</td>\n",
              "      <td>45</td>\n",
              "      <td>1</td>\n",
              "      <td>0</td>\n",
              "    </tr>\n",
              "    <tr>\n",
              "      <th>1</th>\n",
              "      <td>2</td>\n",
              "      <td>Ivysaur</td>\n",
              "      <td>Grass</td>\n",
              "      <td>Poison</td>\n",
              "      <td>60</td>\n",
              "      <td>62</td>\n",
              "      <td>63</td>\n",
              "      <td>80</td>\n",
              "      <td>80</td>\n",
              "      <td>60</td>\n",
              "      <td>1</td>\n",
              "      <td>0</td>\n",
              "    </tr>\n",
              "    <tr>\n",
              "      <th>2</th>\n",
              "      <td>3</td>\n",
              "      <td>Venusaur</td>\n",
              "      <td>Grass</td>\n",
              "      <td>Poison</td>\n",
              "      <td>80</td>\n",
              "      <td>82</td>\n",
              "      <td>83</td>\n",
              "      <td>100</td>\n",
              "      <td>100</td>\n",
              "      <td>80</td>\n",
              "      <td>1</td>\n",
              "      <td>0</td>\n",
              "    </tr>\n",
              "  </tbody>\n",
              "</table>\n",
              "</div>"
            ],
            "text/plain": [
              "   Sr.no       Name Type 1  Type 2  ...  Sp. Def  Speed  Generation  Legendary\n",
              "0      1  Bulbasaur  Grass  Poison  ...       65     45           1          0\n",
              "1      2    Ivysaur  Grass  Poison  ...       80     60           1          0\n",
              "2      3   Venusaur  Grass  Poison  ...      100     80           1          0\n",
              "\n",
              "[3 rows x 12 columns]"
            ]
          },
          "metadata": {
            "tags": []
          },
          "execution_count": 36
        }
      ]
    },
    {
      "cell_type": "markdown",
      "metadata": {
        "id": "CTccFx5L4qXK"
      },
      "source": [
        "# **Explotary Data Analysis and Visualization**\n",
        "\n",
        "Let's get some insight about this pokemon dataset"
      ]
    },
    {
      "cell_type": "markdown",
      "metadata": {
        "id": "XHZD4Wqv2KfA"
      },
      "source": [
        "## 1. Analyzing various statistics lie within the dataset"
      ]
    },
    {
      "cell_type": "code",
      "metadata": {
        "id": "DUrVVNnL4zAB",
        "colab": {
          "base_uri": "https://localhost:8080/",
          "height": 300
        },
        "outputId": "0593f567-5f75-4c0a-b74c-80719fc7ebd4"
      },
      "source": [
        "pokemon_data.describe()"
      ],
      "execution_count": 19,
      "outputs": [
        {
          "output_type": "execute_result",
          "data": {
            "text/html": [
              "<div>\n",
              "<style scoped>\n",
              "    .dataframe tbody tr th:only-of-type {\n",
              "        vertical-align: middle;\n",
              "    }\n",
              "\n",
              "    .dataframe tbody tr th {\n",
              "        vertical-align: top;\n",
              "    }\n",
              "\n",
              "    .dataframe thead th {\n",
              "        text-align: right;\n",
              "    }\n",
              "</style>\n",
              "<table border=\"1\" class=\"dataframe\">\n",
              "  <thead>\n",
              "    <tr style=\"text-align: right;\">\n",
              "      <th></th>\n",
              "      <th>Sr.no</th>\n",
              "      <th>HP</th>\n",
              "      <th>Attack</th>\n",
              "      <th>Defense</th>\n",
              "      <th>Sp. Atk</th>\n",
              "      <th>Sp. Def</th>\n",
              "      <th>Speed</th>\n",
              "      <th>Generation</th>\n",
              "      <th>Legendary</th>\n",
              "    </tr>\n",
              "  </thead>\n",
              "  <tbody>\n",
              "    <tr>\n",
              "      <th>count</th>\n",
              "      <td>800.000000</td>\n",
              "      <td>800.000000</td>\n",
              "      <td>800.000000</td>\n",
              "      <td>800.000000</td>\n",
              "      <td>800.000000</td>\n",
              "      <td>800.000000</td>\n",
              "      <td>800.000000</td>\n",
              "      <td>800.00000</td>\n",
              "      <td>800.00000</td>\n",
              "    </tr>\n",
              "    <tr>\n",
              "      <th>mean</th>\n",
              "      <td>362.813750</td>\n",
              "      <td>69.258750</td>\n",
              "      <td>79.001250</td>\n",
              "      <td>73.842500</td>\n",
              "      <td>72.820000</td>\n",
              "      <td>71.902500</td>\n",
              "      <td>68.277500</td>\n",
              "      <td>3.32375</td>\n",
              "      <td>0.08125</td>\n",
              "    </tr>\n",
              "    <tr>\n",
              "      <th>std</th>\n",
              "      <td>208.343798</td>\n",
              "      <td>25.534669</td>\n",
              "      <td>32.457366</td>\n",
              "      <td>31.183501</td>\n",
              "      <td>32.722294</td>\n",
              "      <td>27.828916</td>\n",
              "      <td>29.060474</td>\n",
              "      <td>1.66129</td>\n",
              "      <td>0.27339</td>\n",
              "    </tr>\n",
              "    <tr>\n",
              "      <th>min</th>\n",
              "      <td>1.000000</td>\n",
              "      <td>1.000000</td>\n",
              "      <td>5.000000</td>\n",
              "      <td>5.000000</td>\n",
              "      <td>10.000000</td>\n",
              "      <td>20.000000</td>\n",
              "      <td>5.000000</td>\n",
              "      <td>1.00000</td>\n",
              "      <td>0.00000</td>\n",
              "    </tr>\n",
              "    <tr>\n",
              "      <th>25%</th>\n",
              "      <td>184.750000</td>\n",
              "      <td>50.000000</td>\n",
              "      <td>55.000000</td>\n",
              "      <td>50.000000</td>\n",
              "      <td>49.750000</td>\n",
              "      <td>50.000000</td>\n",
              "      <td>45.000000</td>\n",
              "      <td>2.00000</td>\n",
              "      <td>0.00000</td>\n",
              "    </tr>\n",
              "    <tr>\n",
              "      <th>50%</th>\n",
              "      <td>364.500000</td>\n",
              "      <td>65.000000</td>\n",
              "      <td>75.000000</td>\n",
              "      <td>70.000000</td>\n",
              "      <td>65.000000</td>\n",
              "      <td>70.000000</td>\n",
              "      <td>65.000000</td>\n",
              "      <td>3.00000</td>\n",
              "      <td>0.00000</td>\n",
              "    </tr>\n",
              "    <tr>\n",
              "      <th>75%</th>\n",
              "      <td>539.250000</td>\n",
              "      <td>80.000000</td>\n",
              "      <td>100.000000</td>\n",
              "      <td>90.000000</td>\n",
              "      <td>95.000000</td>\n",
              "      <td>90.000000</td>\n",
              "      <td>90.000000</td>\n",
              "      <td>5.00000</td>\n",
              "      <td>0.00000</td>\n",
              "    </tr>\n",
              "    <tr>\n",
              "      <th>max</th>\n",
              "      <td>721.000000</td>\n",
              "      <td>255.000000</td>\n",
              "      <td>190.000000</td>\n",
              "      <td>230.000000</td>\n",
              "      <td>194.000000</td>\n",
              "      <td>230.000000</td>\n",
              "      <td>180.000000</td>\n",
              "      <td>6.00000</td>\n",
              "      <td>1.00000</td>\n",
              "    </tr>\n",
              "  </tbody>\n",
              "</table>\n",
              "</div>"
            ],
            "text/plain": [
              "            Sr.no          HP      Attack  ...       Speed  Generation  Legendary\n",
              "count  800.000000  800.000000  800.000000  ...  800.000000   800.00000  800.00000\n",
              "mean   362.813750   69.258750   79.001250  ...   68.277500     3.32375    0.08125\n",
              "std    208.343798   25.534669   32.457366  ...   29.060474     1.66129    0.27339\n",
              "min      1.000000    1.000000    5.000000  ...    5.000000     1.00000    0.00000\n",
              "25%    184.750000   50.000000   55.000000  ...   45.000000     2.00000    0.00000\n",
              "50%    364.500000   65.000000   75.000000  ...   65.000000     3.00000    0.00000\n",
              "75%    539.250000   80.000000  100.000000  ...   90.000000     5.00000    0.00000\n",
              "max    721.000000  255.000000  190.000000  ...  180.000000     6.00000    1.00000\n",
              "\n",
              "[8 rows x 9 columns]"
            ]
          },
          "metadata": {
            "tags": []
          },
          "execution_count": 19
        }
      ]
    },
    {
      "cell_type": "markdown",
      "metadata": {
        "id": "SgkCNXlI3ZCP"
      },
      "source": [
        "# 2. Let's check, how many pookemons are in Type 1 & Type 2"
      ]
    },
    {
      "cell_type": "code",
      "metadata": {
        "id": "7C3IaUeendwm",
        "colab": {
          "base_uri": "https://localhost:8080/",
          "height": 613
        },
        "outputId": "5c3e49dd-c2a7-4778-889d-c0fed137afc9"
      },
      "source": [
        " type1 = pokemon_data[\"Type 1\"].value_counts().reset_index()\n",
        " type1.columns= [\"Type1\", \"Total\"]\n",
        " type1"
      ],
      "execution_count": 32,
      "outputs": [
        {
          "output_type": "execute_result",
          "data": {
            "text/html": [
              "<div>\n",
              "<style scoped>\n",
              "    .dataframe tbody tr th:only-of-type {\n",
              "        vertical-align: middle;\n",
              "    }\n",
              "\n",
              "    .dataframe tbody tr th {\n",
              "        vertical-align: top;\n",
              "    }\n",
              "\n",
              "    .dataframe thead th {\n",
              "        text-align: right;\n",
              "    }\n",
              "</style>\n",
              "<table border=\"1\" class=\"dataframe\">\n",
              "  <thead>\n",
              "    <tr style=\"text-align: right;\">\n",
              "      <th></th>\n",
              "      <th>Type1</th>\n",
              "      <th>Total</th>\n",
              "    </tr>\n",
              "  </thead>\n",
              "  <tbody>\n",
              "    <tr>\n",
              "      <th>0</th>\n",
              "      <td>Water</td>\n",
              "      <td>112</td>\n",
              "    </tr>\n",
              "    <tr>\n",
              "      <th>1</th>\n",
              "      <td>Normal</td>\n",
              "      <td>98</td>\n",
              "    </tr>\n",
              "    <tr>\n",
              "      <th>2</th>\n",
              "      <td>Grass</td>\n",
              "      <td>70</td>\n",
              "    </tr>\n",
              "    <tr>\n",
              "      <th>3</th>\n",
              "      <td>Bug</td>\n",
              "      <td>69</td>\n",
              "    </tr>\n",
              "    <tr>\n",
              "      <th>4</th>\n",
              "      <td>Psychic</td>\n",
              "      <td>57</td>\n",
              "    </tr>\n",
              "    <tr>\n",
              "      <th>5</th>\n",
              "      <td>Fire</td>\n",
              "      <td>52</td>\n",
              "    </tr>\n",
              "    <tr>\n",
              "      <th>6</th>\n",
              "      <td>Electric</td>\n",
              "      <td>44</td>\n",
              "    </tr>\n",
              "    <tr>\n",
              "      <th>7</th>\n",
              "      <td>Rock</td>\n",
              "      <td>44</td>\n",
              "    </tr>\n",
              "    <tr>\n",
              "      <th>8</th>\n",
              "      <td>Dragon</td>\n",
              "      <td>32</td>\n",
              "    </tr>\n",
              "    <tr>\n",
              "      <th>9</th>\n",
              "      <td>Ghost</td>\n",
              "      <td>32</td>\n",
              "    </tr>\n",
              "    <tr>\n",
              "      <th>10</th>\n",
              "      <td>Ground</td>\n",
              "      <td>32</td>\n",
              "    </tr>\n",
              "    <tr>\n",
              "      <th>11</th>\n",
              "      <td>Dark</td>\n",
              "      <td>31</td>\n",
              "    </tr>\n",
              "    <tr>\n",
              "      <th>12</th>\n",
              "      <td>Poison</td>\n",
              "      <td>28</td>\n",
              "    </tr>\n",
              "    <tr>\n",
              "      <th>13</th>\n",
              "      <td>Steel</td>\n",
              "      <td>27</td>\n",
              "    </tr>\n",
              "    <tr>\n",
              "      <th>14</th>\n",
              "      <td>Fighting</td>\n",
              "      <td>27</td>\n",
              "    </tr>\n",
              "    <tr>\n",
              "      <th>15</th>\n",
              "      <td>Ice</td>\n",
              "      <td>24</td>\n",
              "    </tr>\n",
              "    <tr>\n",
              "      <th>16</th>\n",
              "      <td>Fairy</td>\n",
              "      <td>17</td>\n",
              "    </tr>\n",
              "    <tr>\n",
              "      <th>17</th>\n",
              "      <td>Flying</td>\n",
              "      <td>4</td>\n",
              "    </tr>\n",
              "  </tbody>\n",
              "</table>\n",
              "</div>"
            ],
            "text/plain": [
              "       Type1  Total\n",
              "0      Water    112\n",
              "1     Normal     98\n",
              "2      Grass     70\n",
              "3        Bug     69\n",
              "4    Psychic     57\n",
              "5       Fire     52\n",
              "6   Electric     44\n",
              "7       Rock     44\n",
              "8     Dragon     32\n",
              "9      Ghost     32\n",
              "10    Ground     32\n",
              "11      Dark     31\n",
              "12    Poison     28\n",
              "13     Steel     27\n",
              "14  Fighting     27\n",
              "15       Ice     24\n",
              "16     Fairy     17\n",
              "17    Flying      4"
            ]
          },
          "metadata": {
            "tags": []
          },
          "execution_count": 32
        }
      ]
    },
    {
      "cell_type": "code",
      "metadata": {
        "colab": {
          "base_uri": "https://localhost:8080/",
          "height": 613
        },
        "id": "g8877iJVTS5P",
        "outputId": "9a5781e8-2282-4baa-aa12-aec9ca998d27"
      },
      "source": [
        "type2 = pokemon_data[\"Type 2\"].value_counts().reset_index()\n",
        "type2.columns= [\"Type2\", \"Total\"]\n",
        "type2"
      ],
      "execution_count": 33,
      "outputs": [
        {
          "output_type": "execute_result",
          "data": {
            "text/html": [
              "<div>\n",
              "<style scoped>\n",
              "    .dataframe tbody tr th:only-of-type {\n",
              "        vertical-align: middle;\n",
              "    }\n",
              "\n",
              "    .dataframe tbody tr th {\n",
              "        vertical-align: top;\n",
              "    }\n",
              "\n",
              "    .dataframe thead th {\n",
              "        text-align: right;\n",
              "    }\n",
              "</style>\n",
              "<table border=\"1\" class=\"dataframe\">\n",
              "  <thead>\n",
              "    <tr style=\"text-align: right;\">\n",
              "      <th></th>\n",
              "      <th>Type2</th>\n",
              "      <th>Total</th>\n",
              "    </tr>\n",
              "  </thead>\n",
              "  <tbody>\n",
              "    <tr>\n",
              "      <th>0</th>\n",
              "      <td>Flying</td>\n",
              "      <td>97</td>\n",
              "    </tr>\n",
              "    <tr>\n",
              "      <th>1</th>\n",
              "      <td>Ground</td>\n",
              "      <td>35</td>\n",
              "    </tr>\n",
              "    <tr>\n",
              "      <th>2</th>\n",
              "      <td>Poison</td>\n",
              "      <td>34</td>\n",
              "    </tr>\n",
              "    <tr>\n",
              "      <th>3</th>\n",
              "      <td>Psychic</td>\n",
              "      <td>33</td>\n",
              "    </tr>\n",
              "    <tr>\n",
              "      <th>4</th>\n",
              "      <td>Fighting</td>\n",
              "      <td>26</td>\n",
              "    </tr>\n",
              "    <tr>\n",
              "      <th>5</th>\n",
              "      <td>Grass</td>\n",
              "      <td>25</td>\n",
              "    </tr>\n",
              "    <tr>\n",
              "      <th>6</th>\n",
              "      <td>Fairy</td>\n",
              "      <td>23</td>\n",
              "    </tr>\n",
              "    <tr>\n",
              "      <th>7</th>\n",
              "      <td>Steel</td>\n",
              "      <td>22</td>\n",
              "    </tr>\n",
              "    <tr>\n",
              "      <th>8</th>\n",
              "      <td>Dark</td>\n",
              "      <td>20</td>\n",
              "    </tr>\n",
              "    <tr>\n",
              "      <th>9</th>\n",
              "      <td>Dragon</td>\n",
              "      <td>18</td>\n",
              "    </tr>\n",
              "    <tr>\n",
              "      <th>10</th>\n",
              "      <td>Ice</td>\n",
              "      <td>14</td>\n",
              "    </tr>\n",
              "    <tr>\n",
              "      <th>11</th>\n",
              "      <td>Rock</td>\n",
              "      <td>14</td>\n",
              "    </tr>\n",
              "    <tr>\n",
              "      <th>12</th>\n",
              "      <td>Water</td>\n",
              "      <td>14</td>\n",
              "    </tr>\n",
              "    <tr>\n",
              "      <th>13</th>\n",
              "      <td>Ghost</td>\n",
              "      <td>14</td>\n",
              "    </tr>\n",
              "    <tr>\n",
              "      <th>14</th>\n",
              "      <td>Fire</td>\n",
              "      <td>12</td>\n",
              "    </tr>\n",
              "    <tr>\n",
              "      <th>15</th>\n",
              "      <td>Electric</td>\n",
              "      <td>6</td>\n",
              "    </tr>\n",
              "    <tr>\n",
              "      <th>16</th>\n",
              "      <td>Normal</td>\n",
              "      <td>4</td>\n",
              "    </tr>\n",
              "    <tr>\n",
              "      <th>17</th>\n",
              "      <td>Bug</td>\n",
              "      <td>3</td>\n",
              "    </tr>\n",
              "  </tbody>\n",
              "</table>\n",
              "</div>"
            ],
            "text/plain": [
              "       Type2  Total\n",
              "0     Flying     97\n",
              "1     Ground     35\n",
              "2     Poison     34\n",
              "3    Psychic     33\n",
              "4   Fighting     26\n",
              "5      Grass     25\n",
              "6      Fairy     23\n",
              "7      Steel     22\n",
              "8       Dark     20\n",
              "9     Dragon     18\n",
              "10       Ice     14\n",
              "11      Rock     14\n",
              "12     Water     14\n",
              "13     Ghost     14\n",
              "14      Fire     12\n",
              "15  Electric      6\n",
              "16    Normal      4\n",
              "17       Bug      3"
            ]
          },
          "metadata": {
            "tags": []
          },
          "execution_count": 33
        }
      ]
    },
    {
      "cell_type": "markdown",
      "metadata": {
        "id": "Rj9Oi2N8_kVt"
      },
      "source": [
        "# Let's check how many Legendary & and Non_legendary pokemon we have and their percentage"
      ]
    },
    {
      "cell_type": "code",
      "metadata": {
        "colab": {
          "base_uri": "https://localhost:8080/"
        },
        "id": "CRywr9wTH3Rf",
        "outputId": "27fa1eaf-01eb-4c92-e61a-62ee3a2daef2"
      },
      "source": [
        "legendary_pokemon = pokemon_data.loc[(pokemon_data[\"Legendary\"]==True)]\n",
        "len(legendary_pokemon)\n",
        "Non_legendary_pokemon = pokemon_data.loc[(pokemon_data[\"Legendary\"]==False)]\n",
        "len(Non_legendary_pokemon)\n",
        "\n",
        "\n",
        "print(f''' Total legendary & Non_legendary Pokemon we have : \n",
        "{len(legendary_pokemon), len(Non_legendary_pokemon)}\n",
        "\n",
        "''')\n",
        "\n"
      ],
      "execution_count": 69,
      "outputs": [
        {
          "output_type": "stream",
          "text": [
            " Total legendary & Non_legendary Pokemon we have : \n",
            "(65, 735)\n",
            "\n",
            "\n"
          ],
          "name": "stdout"
        }
      ]
    },
    {
      "cell_type": "markdown",
      "metadata": {
        "id": "MFlAoz0LKkhb"
      },
      "source": [
        "## Thier percentage"
      ]
    },
    {
      "cell_type": "code",
      "metadata": {
        "colab": {
          "base_uri": "https://localhost:8080/"
        },
        "id": "ECk-5zq51fpA",
        "outputId": "091cd14a-ad24-427d-affc-dd912b976b48"
      },
      "source": [
        "print(f'''Unique values in column Legendary has :\n",
        "{pokemon_data[\"Legendary\"].unique()}\n",
        "\n",
        "Total percentage of Legendary and Non-Legendary pokemon is :\n",
        "{100*pokemon_data['Legendary'].value_counts()/len(pokemon_data['Legendary'])}\n",
        "\n",
        "''')\n"
      ],
      "execution_count": 42,
      "outputs": [
        {
          "output_type": "stream",
          "text": [
            "Unique values in column Legendary has :\n",
            "[0 1]\n",
            "\n",
            "Total percentage of Legendary and Non-Legendary pokemon is :\n",
            "0    91.875\n",
            "1     8.125\n",
            "Name: Legendary, dtype: float64\n",
            "\n",
            "\n"
          ],
          "name": "stdout"
        }
      ]
    },
    {
      "cell_type": "markdown",
      "metadata": {
        "id": "0zO1jQ-_EuFX"
      },
      "source": [
        "# Plotting this percentage on a pie_chart"
      ]
    },
    {
      "cell_type": "markdown",
      "metadata": {
        "id": "Hk6jeKrAE3oT"
      },
      "source": [
        "*Creating a new dataframe*"
      ]
    },
    {
      "cell_type": "code",
      "metadata": {
        "colab": {
          "base_uri": "https://localhost:8080/",
          "height": 112
        },
        "id": "4EQTVTbQAWRy",
        "outputId": "b9d8c9e4-5a9c-4c33-c4d4-085c3923ece1"
      },
      "source": [
        "Legendary_Non_Legendary = 100*pokemon_data['Legendary'].value_counts()/len(pokemon_data['Legendary'])\n",
        "new_dataframe= Legendary_Non_Legendary.to_frame()\n",
        "new_dataframe.columns=[\"Percentage\"]\n",
        "new_dataframe.index=[\"Non_Legendary\", \"Legendary\"]\n",
        "new_dataframe"
      ],
      "execution_count": 53,
      "outputs": [
        {
          "output_type": "execute_result",
          "data": {
            "text/html": [
              "<div>\n",
              "<style scoped>\n",
              "    .dataframe tbody tr th:only-of-type {\n",
              "        vertical-align: middle;\n",
              "    }\n",
              "\n",
              "    .dataframe tbody tr th {\n",
              "        vertical-align: top;\n",
              "    }\n",
              "\n",
              "    .dataframe thead th {\n",
              "        text-align: right;\n",
              "    }\n",
              "</style>\n",
              "<table border=\"1\" class=\"dataframe\">\n",
              "  <thead>\n",
              "    <tr style=\"text-align: right;\">\n",
              "      <th></th>\n",
              "      <th>Percentage</th>\n",
              "    </tr>\n",
              "  </thead>\n",
              "  <tbody>\n",
              "    <tr>\n",
              "      <th>Non_Legendary</th>\n",
              "      <td>91.875</td>\n",
              "    </tr>\n",
              "    <tr>\n",
              "      <th>Legendary</th>\n",
              "      <td>8.125</td>\n",
              "    </tr>\n",
              "  </tbody>\n",
              "</table>\n",
              "</div>"
            ],
            "text/plain": [
              "               Percentage\n",
              "Non_Legendary      91.875\n",
              "Legendary           8.125"
            ]
          },
          "metadata": {
            "tags": []
          },
          "execution_count": 53
        }
      ]
    },
    {
      "cell_type": "code",
      "metadata": {
        "colab": {
          "base_uri": "https://localhost:8080/",
          "height": 319
        },
        "id": "gYWRoRA0AWVC",
        "outputId": "c1ec690d-be36-41b1-be7c-3dbc7ad4adea"
      },
      "source": [
        "my_labels = 'Non_Legendary','Legendary'\n",
        "plt.pie(new_dataframe,labels=my_labels,autopct='%1.1f%%')\n",
        "plt.title('Pie Chart')\n",
        "plt.axis('equal')\n",
        "plt.show()"
      ],
      "execution_count": 55,
      "outputs": [
        {
          "output_type": "stream",
          "text": [
            "/usr/local/lib/python3.7/dist-packages/ipykernel_launcher.py:2: MatplotlibDeprecationWarning: Non-1D inputs to pie() are currently squeeze()d, but this behavior is deprecated since 3.1 and will be removed in 3.3; pass a 1D array instead.\n",
            "  \n"
          ],
          "name": "stderr"
        },
        {
          "output_type": "display_data",
          "data": {
            "image/png": "[encoded data removed]",
            "text/plain": [
              "<Figure size 432x288 with 1 Axes>"
            ]
          },
          "metadata": {
            "tags": []
          }
        }
      ]
    },
    {
      "cell_type": "markdown",
      "metadata": {
        "id": "8C-onB2gLMV9"
      },
      "source": [
        "# Which Pokemons in Type 1 have highest Attack?"
      ]
    },
    {
      "cell_type": "code",
      "metadata": {
        "colab": {
          "base_uri": "https://localhost:8080/",
          "height": 613
        },
        "id": "FbszSNptAWYc",
        "outputId": "c41940da-721a-4225-f7ef-ab5b271b1483"
      },
      "source": [
        "Median_Attack = pokemon_data.groupby(\"Type 1\")['Attack'].median().reset_index()\n",
        "Median_Attack"
      ],
      "execution_count": 87,
      "outputs": [
        {
          "output_type": "execute_result",
          "data": {
            "text/html": [
              "<div>\n",
              "<style scoped>\n",
              "    .dataframe tbody tr th:only-of-type {\n",
              "        vertical-align: middle;\n",
              "    }\n",
              "\n",
              "    .dataframe tbody tr th {\n",
              "        vertical-align: top;\n",
              "    }\n",
              "\n",
              "    .dataframe thead th {\n",
              "        text-align: right;\n",
              "    }\n",
              "</style>\n",
              "<table border=\"1\" class=\"dataframe\">\n",
              "  <thead>\n",
              "    <tr style=\"text-align: right;\">\n",
              "      <th></th>\n",
              "      <th>Type 1</th>\n",
              "      <th>Attack</th>\n",
              "    </tr>\n",
              "  </thead>\n",
              "  <tbody>\n",
              "    <tr>\n",
              "      <th>0</th>\n",
              "      <td>Bug</td>\n",
              "      <td>65.0</td>\n",
              "    </tr>\n",
              "    <tr>\n",
              "      <th>1</th>\n",
              "      <td>Dark</td>\n",
              "      <td>88.0</td>\n",
              "    </tr>\n",
              "    <tr>\n",
              "      <th>2</th>\n",
              "      <td>Dragon</td>\n",
              "      <td>113.5</td>\n",
              "    </tr>\n",
              "    <tr>\n",
              "      <th>3</th>\n",
              "      <td>Electric</td>\n",
              "      <td>65.0</td>\n",
              "    </tr>\n",
              "    <tr>\n",
              "      <th>4</th>\n",
              "      <td>Fairy</td>\n",
              "      <td>52.0</td>\n",
              "    </tr>\n",
              "    <tr>\n",
              "      <th>5</th>\n",
              "      <td>Fighting</td>\n",
              "      <td>100.0</td>\n",
              "    </tr>\n",
              "    <tr>\n",
              "      <th>6</th>\n",
              "      <td>Fire</td>\n",
              "      <td>84.5</td>\n",
              "    </tr>\n",
              "    <tr>\n",
              "      <th>7</th>\n",
              "      <td>Flying</td>\n",
              "      <td>85.0</td>\n",
              "    </tr>\n",
              "    <tr>\n",
              "      <th>8</th>\n",
              "      <td>Ghost</td>\n",
              "      <td>66.0</td>\n",
              "    </tr>\n",
              "    <tr>\n",
              "      <th>9</th>\n",
              "      <td>Grass</td>\n",
              "      <td>70.0</td>\n",
              "    </tr>\n",
              "    <tr>\n",
              "      <th>10</th>\n",
              "      <td>Ground</td>\n",
              "      <td>85.0</td>\n",
              "    </tr>\n",
              "    <tr>\n",
              "      <th>11</th>\n",
              "      <td>Ice</td>\n",
              "      <td>67.0</td>\n",
              "    </tr>\n",
              "    <tr>\n",
              "      <th>12</th>\n",
              "      <td>Normal</td>\n",
              "      <td>70.5</td>\n",
              "    </tr>\n",
              "    <tr>\n",
              "      <th>13</th>\n",
              "      <td>Poison</td>\n",
              "      <td>74.0</td>\n",
              "    </tr>\n",
              "    <tr>\n",
              "      <th>14</th>\n",
              "      <td>Psychic</td>\n",
              "      <td>57.0</td>\n",
              "    </tr>\n",
              "    <tr>\n",
              "      <th>15</th>\n",
              "      <td>Rock</td>\n",
              "      <td>95.0</td>\n",
              "    </tr>\n",
              "    <tr>\n",
              "      <th>16</th>\n",
              "      <td>Steel</td>\n",
              "      <td>89.0</td>\n",
              "    </tr>\n",
              "    <tr>\n",
              "      <th>17</th>\n",
              "      <td>Water</td>\n",
              "      <td>72.0</td>\n",
              "    </tr>\n",
              "  </tbody>\n",
              "</table>\n",
              "</div>"
            ],
            "text/plain": [
              "      Type 1  Attack\n",
              "0        Bug    65.0\n",
              "1       Dark    88.0\n",
              "2     Dragon   113.5\n",
              "3   Electric    65.0\n",
              "4      Fairy    52.0\n",
              "5   Fighting   100.0\n",
              "6       Fire    84.5\n",
              "7     Flying    85.0\n",
              "8      Ghost    66.0\n",
              "9      Grass    70.0\n",
              "10    Ground    85.0\n",
              "11       Ice    67.0\n",
              "12    Normal    70.5\n",
              "13    Poison    74.0\n",
              "14   Psychic    57.0\n",
              "15      Rock    95.0\n",
              "16     Steel    89.0\n",
              "17     Water    72.0"
            ]
          },
          "metadata": {
            "tags": []
          },
          "execution_count": 87
        }
      ]
    },
    {
      "cell_type": "code",
      "metadata": {
        "colab": {
          "base_uri": "https://localhost:8080/",
          "height": 412
        },
        "id": "h0fQ5QtAKwBt",
        "outputId": "a15a4124-7afd-4873-fb20-922b0868f363"
      },
      "source": [
        "sns.set(rc = {\"figure.figsize\":[10,6]})\n",
        "plt.title(\"Median_Attack\",fontdict={\"fontsize\":15})\n",
        "sns.barplot(x = \"Attack\", y=\"Type 1\",data=Median_Attack)\n",
        "plt.show()"
      ],
      "execution_count": 107,
      "outputs": [
        {
          "output_type": "display_data",
          "data": {
            "image/png": "[encoded data removed]",
            "text/plain": [
              "<Figure size 720x432 with 1 Axes>"
            ]
          },
          "metadata": {
            "tags": []
          }
        }
      ]
    },
    {
      "cell_type": "markdown",
      "metadata": {
        "id": "PTu9x4WENiK_"
      },
      "source": [
        "So, Dragon Type pokemon has the highest attack and Fairy type pokemon has the lowest attack"
      ]
    },
    {
      "cell_type": "markdown",
      "metadata": {
        "id": "-1MAd38hPFMd"
      },
      "source": [
        "# **Why I choose Median instead of mean?**\n",
        "\n",
        "Sometimes Mean can be affected by the outliers of the dataset where as median will be remain almost same. Let's comparison between \"Mean of Attack\" & \"Median of Attack\". \n",
        "\n",
        "Let's take a example!"
      ]
    },
    {
      "cell_type": "markdown",
      "metadata": {
        "id": "Gvk3DVroUvJF"
      },
      "source": [
        "Analyzing \"HP\" column with mean & median"
      ]
    },
    {
      "cell_type": "code",
      "metadata": {
        "colab": {
          "base_uri": "https://localhost:8080/",
          "height": 613
        },
        "id": "Wtq05NmqAWbI",
        "outputId": "bfdadd14-5beb-45c2-ce9b-69f18259886d"
      },
      "source": [
        "Mean_HP= pokemon_data.groupby(\"Type 1\")['HP'].mean().reset_index()\n",
        "Median_HP = pokemon_data.groupby(\"Type 1\")['HP'].median().reset_index()\n",
        "Mean_med =pd.merge(Mean_HP, Median_HP , on= \"Type 1\")\n",
        "Mean_med.rename(columns = {\"HP_x\":\"Mean\", \"HP_y\":\"Median\"}, inplace =True)\n",
        "Mean_med"
      ],
      "execution_count": 127,
      "outputs": [
        {
          "output_type": "execute_result",
          "data": {
            "text/html": [
              "<div>\n",
              "<style scoped>\n",
              "    .dataframe tbody tr th:only-of-type {\n",
              "        vertical-align: middle;\n",
              "    }\n",
              "\n",
              "    .dataframe tbody tr th {\n",
              "        vertical-align: top;\n",
              "    }\n",
              "\n",
              "    .dataframe thead th {\n",
              "        text-align: right;\n",
              "    }\n",
              "</style>\n",
              "<table border=\"1\" class=\"dataframe\">\n",
              "  <thead>\n",
              "    <tr style=\"text-align: right;\">\n",
              "      <th></th>\n",
              "      <th>Type 1</th>\n",
              "      <th>Mean</th>\n",
              "      <th>Median</th>\n",
              "    </tr>\n",
              "  </thead>\n",
              "  <tbody>\n",
              "    <tr>\n",
              "      <th>0</th>\n",
              "      <td>Bug</td>\n",
              "      <td>56.884058</td>\n",
              "      <td>60.0</td>\n",
              "    </tr>\n",
              "    <tr>\n",
              "      <th>1</th>\n",
              "      <td>Dark</td>\n",
              "      <td>66.806452</td>\n",
              "      <td>65.0</td>\n",
              "    </tr>\n",
              "    <tr>\n",
              "      <th>2</th>\n",
              "      <td>Dragon</td>\n",
              "      <td>83.312500</td>\n",
              "      <td>80.0</td>\n",
              "    </tr>\n",
              "    <tr>\n",
              "      <th>3</th>\n",
              "      <td>Electric</td>\n",
              "      <td>59.795455</td>\n",
              "      <td>60.0</td>\n",
              "    </tr>\n",
              "    <tr>\n",
              "      <th>4</th>\n",
              "      <td>Fairy</td>\n",
              "      <td>74.117647</td>\n",
              "      <td>78.0</td>\n",
              "    </tr>\n",
              "    <tr>\n",
              "      <th>5</th>\n",
              "      <td>Fighting</td>\n",
              "      <td>69.851852</td>\n",
              "      <td>70.0</td>\n",
              "    </tr>\n",
              "    <tr>\n",
              "      <th>6</th>\n",
              "      <td>Fire</td>\n",
              "      <td>69.903846</td>\n",
              "      <td>70.0</td>\n",
              "    </tr>\n",
              "    <tr>\n",
              "      <th>7</th>\n",
              "      <td>Flying</td>\n",
              "      <td>70.750000</td>\n",
              "      <td>79.0</td>\n",
              "    </tr>\n",
              "    <tr>\n",
              "      <th>8</th>\n",
              "      <td>Ghost</td>\n",
              "      <td>64.437500</td>\n",
              "      <td>59.5</td>\n",
              "    </tr>\n",
              "    <tr>\n",
              "      <th>9</th>\n",
              "      <td>Grass</td>\n",
              "      <td>67.271429</td>\n",
              "      <td>65.5</td>\n",
              "    </tr>\n",
              "    <tr>\n",
              "      <th>10</th>\n",
              "      <td>Ground</td>\n",
              "      <td>73.781250</td>\n",
              "      <td>75.0</td>\n",
              "    </tr>\n",
              "    <tr>\n",
              "      <th>11</th>\n",
              "      <td>Ice</td>\n",
              "      <td>72.000000</td>\n",
              "      <td>70.0</td>\n",
              "    </tr>\n",
              "    <tr>\n",
              "      <th>12</th>\n",
              "      <td>Normal</td>\n",
              "      <td>77.275510</td>\n",
              "      <td>70.0</td>\n",
              "    </tr>\n",
              "    <tr>\n",
              "      <th>13</th>\n",
              "      <td>Poison</td>\n",
              "      <td>67.250000</td>\n",
              "      <td>67.5</td>\n",
              "    </tr>\n",
              "    <tr>\n",
              "      <th>14</th>\n",
              "      <td>Psychic</td>\n",
              "      <td>70.631579</td>\n",
              "      <td>68.0</td>\n",
              "    </tr>\n",
              "    <tr>\n",
              "      <th>15</th>\n",
              "      <td>Rock</td>\n",
              "      <td>65.363636</td>\n",
              "      <td>68.5</td>\n",
              "    </tr>\n",
              "    <tr>\n",
              "      <th>16</th>\n",
              "      <td>Steel</td>\n",
              "      <td>65.222222</td>\n",
              "      <td>60.0</td>\n",
              "    </tr>\n",
              "    <tr>\n",
              "      <th>17</th>\n",
              "      <td>Water</td>\n",
              "      <td>72.062500</td>\n",
              "      <td>70.0</td>\n",
              "    </tr>\n",
              "  </tbody>\n",
              "</table>\n",
              "</div>"
            ],
            "text/plain": [
              "      Type 1       Mean  Median\n",
              "0        Bug  56.884058    60.0\n",
              "1       Dark  66.806452    65.0\n",
              "2     Dragon  83.312500    80.0\n",
              "3   Electric  59.795455    60.0\n",
              "4      Fairy  74.117647    78.0\n",
              "5   Fighting  69.851852    70.0\n",
              "6       Fire  69.903846    70.0\n",
              "7     Flying  70.750000    79.0\n",
              "8      Ghost  64.437500    59.5\n",
              "9      Grass  67.271429    65.5\n",
              "10    Ground  73.781250    75.0\n",
              "11       Ice  72.000000    70.0\n",
              "12    Normal  77.275510    70.0\n",
              "13    Poison  67.250000    67.5\n",
              "14   Psychic  70.631579    68.0\n",
              "15      Rock  65.363636    68.5\n",
              "16     Steel  65.222222    60.0\n",
              "17     Water  72.062500    70.0"
            ]
          },
          "metadata": {
            "tags": []
          },
          "execution_count": 127
        }
      ]
    },
    {
      "cell_type": "code",
      "metadata": {
        "colab": {
          "base_uri": "https://localhost:8080/",
          "height": 482
        },
        "id": "PL3GbseyRErz",
        "outputId": "3069fff7-7130-4e19-ce25-36f332ebcbdd"
      },
      "source": [
        "sns.set(rc = {\"figure.figsize\":[11,7]})\n",
        "sns.set_style(\"whitegrid\")\n",
        "plt.ylabel=(\"Attack\")\n",
        "Mean_med.plot(x =\"Type 1\", y = [\"Mean\", \"Median\"], kind = 'bar', width = 0.6,color =[ \"green\",\"blue\"])\n",
        "plt.show()"
      ],
      "execution_count": 128,
      "outputs": [
        {
          "output_type": "display_data",
          "data": {
            "image/png": "[encoded data removed]",
            "text/plain": [
              "<Figure size 792x504 with 1 Axes>"
            ]
          },
          "metadata": {
            "tags": []
          }
        }
      ]
    },
    {
      "cell_type": "markdown",
      "metadata": {
        "id": "y6i2tsUWU4Ry"
      },
      "source": [
        "So, For Normal Pokemon they have much much greater mean HP than median. Which is beacause of outliers."
      ]
    },
    {
      "cell_type": "markdown",
      "metadata": {
        "id": "GmklFVSmOGTX"
      },
      "source": [
        "# Let's check which pokemon has the highest Sp. Defense in Type 1 "
      ]
    },
    {
      "cell_type": "code",
      "metadata": {
        "colab": {
          "base_uri": "https://localhost:8080/",
          "height": 412
        },
        "id": "iPdytH_oVyo9",
        "outputId": "a374f0de-118a-4096-b4cf-7a115026b2e8"
      },
      "source": [
        "Median_Sp_Defense = pokemon_data.groupby(\"Type 1\")['Sp. Def'].median().reset_index()\n",
        "\n",
        "sns.set(rc = {\"figure.figsize\":[10,6]})\n",
        "plt.title(\"Median_Sp_Defense\",fontdict={\"fontsize\":15})\n",
        "sns.barplot(x = \"Sp. Def\", y=\"Type 1\",data=Median_Sp_Defense)\n",
        "plt.show()"
      ],
      "execution_count": 135,
      "outputs": [
        {
          "output_type": "display_data",
          "data": {
            "image/png": "[encoded data removed]",
            "text/plain": [
              "<Figure size 720x432 with 1 Axes>"
            ]
          },
          "metadata": {
            "tags": []
          }
        }
      ]
    },
    {
      "cell_type": "markdown",
      "metadata": {
        "id": "-wvhakTGPEO4"
      },
      "source": [
        "So, Dragon & Psychic has highest Sp.Def, where as Bug has lowest"
      ]
    },
    {
      "cell_type": "code",
      "metadata": {
        "colab": {
          "base_uri": "https://localhost:8080/"
        },
        "id": "hnO-KqMTAWhu",
        "outputId": "5ed96d69-29d5-48ce-f827-af8e28640f89"
      },
      "source": [
        "print(f'''Unique values in column Legendary has :\n",
        "{pokemon_data[\"Generation\"].unique()}\n",
        "\n",
        "Total percentage of Legendary and Non-Legendary pokemon is :\n",
        "{100*pokemon_data['Generation'].value_counts()/len(pokemon_data['Generation'])}\n",
        "\n",
        "''')"
      ],
      "execution_count": 138,
      "outputs": [
        {
          "output_type": "stream",
          "text": [
            "Unique values in column Legendary has :\n",
            "[1 2 3 4 5 6]\n",
            "\n",
            "Total percentage of Legendary and Non-Legendary pokemon is :\n",
            "1    20.750\n",
            "5    20.625\n",
            "3    20.000\n",
            "4    15.125\n",
            "2    13.250\n",
            "6    10.250\n",
            "Name: Generation, dtype: float64\n",
            "\n",
            "\n"
          ],
          "name": "stdout"
        }
      ]
    },
    {
      "cell_type": "code",
      "metadata": {
        "colab": {
          "base_uri": "https://localhost:8080/",
          "height": 237
        },
        "id": "5iOet0BfTZNR",
        "outputId": "e5b43e2a-1c01-49f7-9c2c-cdadc1caadbc"
      },
      "source": [
        "Generation = 100*pokemon_data['Generation'].value_counts()/len(pokemon_data['Generation'])\n",
        "new_dataframe= Generation.to_frame()\n",
        "new_dataframe.columns=[\"Percentage\"]\n",
        "new_dataframe.index=[\"Gen_1\", \"Gen_2\", \"Gen_3\",\"Gen_4\", \"Gen_5\", \"Gen_6\"]\n",
        "new_dataframe"
      ],
      "execution_count": 146,
      "outputs": [
        {
          "output_type": "execute_result",
          "data": {
            "text/html": [
              "<div>\n",
              "<style scoped>\n",
              "    .dataframe tbody tr th:only-of-type {\n",
              "        vertical-align: middle;\n",
              "    }\n",
              "\n",
              "    .dataframe tbody tr th {\n",
              "        vertical-align: top;\n",
              "    }\n",
              "\n",
              "    .dataframe thead th {\n",
              "        text-align: right;\n",
              "    }\n",
              "</style>\n",
              "<table border=\"1\" class=\"dataframe\">\n",
              "  <thead>\n",
              "    <tr style=\"text-align: right;\">\n",
              "      <th></th>\n",
              "      <th>Percentage</th>\n",
              "    </tr>\n",
              "  </thead>\n",
              "  <tbody>\n",
              "    <tr>\n",
              "      <th>Gen_1</th>\n",
              "      <td>20.750</td>\n",
              "    </tr>\n",
              "    <tr>\n",
              "      <th>Gen_2</th>\n",
              "      <td>20.625</td>\n",
              "    </tr>\n",
              "    <tr>\n",
              "      <th>Gen_3</th>\n",
              "      <td>20.000</td>\n",
              "    </tr>\n",
              "    <tr>\n",
              "      <th>Gen_4</th>\n",
              "      <td>15.125</td>\n",
              "    </tr>\n",
              "    <tr>\n",
              "      <th>Gen_5</th>\n",
              "      <td>13.250</td>\n",
              "    </tr>\n",
              "    <tr>\n",
              "      <th>Gen_6</th>\n",
              "      <td>10.250</td>\n",
              "    </tr>\n",
              "  </tbody>\n",
              "</table>\n",
              "</div>"
            ],
            "text/plain": [
              "       Percentage\n",
              "Gen_1      20.750\n",
              "Gen_2      20.625\n",
              "Gen_3      20.000\n",
              "Gen_4      15.125\n",
              "Gen_5      13.250\n",
              "Gen_6      10.250"
            ]
          },
          "metadata": {
            "tags": []
          },
          "execution_count": 146
        }
      ]
    },
    {
      "cell_type": "code",
      "metadata": {
        "colab": {
          "base_uri": "https://localhost:8080/",
          "height": 428
        },
        "id": "zpfv2BmjTtT1",
        "outputId": "f0e82c79-e790-4b37-fc2e-4e756d459aab"
      },
      "source": [
        "my_labels = \"Gen_1\", \"Gen_2\", \"Gen_3\",\"Gen_4\", \"Gen_5\", \"Gen_6\"\n",
        "plt.pie(new_dataframe,labels=my_labels,autopct='%1.1f%%')\n",
        "plt.title('Pie Chart on Generation')\n",
        "plt.axis('equal')\n",
        "plt.show()"
      ],
      "execution_count": 148,
      "outputs": [
        {
          "output_type": "stream",
          "text": [
            "/usr/local/lib/python3.7/dist-packages/ipykernel_launcher.py:2: MatplotlibDeprecationWarning: Non-1D inputs to pie() are currently squeeze()d, but this behavior is deprecated since 3.1 and will be removed in 3.3; pass a 1D array instead.\n",
            "  \n"
          ],
          "name": "stderr"
        },
        {
          "output_type": "display_data",
          "data": {
            "image/png": "[encoded data removed]",
            "text/plain": [
              "<Figure size 720x432 with 1 Axes>"
            ]
          },
          "metadata": {
            "tags": []
          }
        }
      ]
    },
    {
      "cell_type": "code",
      "metadata": {
        "id": "oMW8O2q0XsB4"
      },
      "source": [
        ""
      ],
      "execution_count": null,
      "outputs": []
    },
    {
      "cell_type": "code",
      "metadata": {
        "id": "mKJvUxU3Xu9D"
      },
      "source": [
        ""
      ],
      "execution_count": null,
      "outputs": []
    }
  ]
}