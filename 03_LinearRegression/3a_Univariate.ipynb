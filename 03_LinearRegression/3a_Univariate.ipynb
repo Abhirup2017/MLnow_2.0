{
  "nbformat": 4,
  "nbformat_minor": 0,
  "metadata": {
    "colab": {
      "name": "3.1_Univariate.ipynb",
      "provenance": [],
      "toc_visible": true,
      "include_colab_link": true
    },
    "kernelspec": {
      "name": "python3",
      "display_name": "Python 3"
    }
  },
  "cells": [
    {
      "cell_type": "markdown",
      "metadata": {
        "id": "view-in-github",
        "colab_type": "text"
      },
      "source": [
        "<a href=\"https://colab.research.google.com/github/Abhirup2017/MLnow_2.0/blob/main/03_LinearRegression/3a_Univariate.ipynb\" target=\"_parent\"><img src=\"https://colab.research.google.com/assets/colab-badge.svg\" alt=\"Open In Colab\"/></a>"
      ]
    },
    {
      "cell_type": "markdown",
      "metadata": {
        "id": "q_569ugy6lyY"
      },
      "source": [
        "> This notebook was created for code illustration of the `ML.now()` course\n",
        "\n",
        "\n",
        "`Univariate Linear Regression`\n",
        "\n",
        "[Link to Download the dataset](https://archive.ics.uci.edu/ml/datasets/Student+Performance)\n",
        "\n",
        "**Date Created**: June 6, 2021\n",
        "\n",
        "\n",
        "**Author**:\n",
        " Shivani Shimpi \n",
        "\n",
        "**Reach out**:\n",
        "[Email](https://www.google.com/intl/en-GB/gmail/about/#) | [GitHub](https://github.com/shivanishimpi) | [LinkedIn](https://www.linkedin.com/in/shivani-shimpi-5113a8170/)\n",
        "\n",
        "[[Course Repository](https://github.com/shivanishimpi/MLnow_2.0)]\n",
        "\n",
        "Feel free to check out my [website](http://shivanishimpi.github.io/) for more information"
      ]
    },
    {
      "cell_type": "markdown",
      "metadata": {
        "id": "KmW9S6zjaauQ"
      },
      "source": [
        "## Setup"
      ]
    },
    {
      "cell_type": "code",
      "metadata": {
        "colab": {
          "base_uri": "https://localhost:8080/"
        },
        "id": "oX_QibhWsnnX",
        "outputId": "11282816-8287-41d2-bbd9-18dcc2401525"
      },
      "source": [
        "from google.colab import drive\n",
        "drive.mount('/content/drive')"
      ],
      "execution_count": 17,
      "outputs": [
        {
          "output_type": "stream",
          "text": [
            "Drive already mounted at /content/drive; to attempt to forcibly remount, call drive.mount(\"/content/drive\", force_remount=True).\n"
          ],
          "name": "stdout"
        }
      ]
    },
    {
      "cell_type": "code",
      "metadata": {
        "colab": {
          "base_uri": "https://localhost:8080/"
        },
        "id": "wYuNn17Isvml",
        "outputId": "2853b09c-6905-4a2a-d17f-3727972de991"
      },
      "source": [
        "cd '/content/sample_data'"
      ],
      "execution_count": 18,
      "outputs": [
        {
          "output_type": "stream",
          "text": [
            "/content/sample_data\n"
          ],
          "name": "stdout"
        }
      ]
    },
    {
      "cell_type": "code",
      "metadata": {
        "colab": {
          "base_uri": "https://localhost:8080/"
        },
        "id": "oR69jwALs-uP",
        "outputId": "7e9d2f89-00fd-4a50-f928-6138798e0ee6"
      },
      "source": [
        "ls"
      ],
      "execution_count": 19,
      "outputs": [
        {
          "output_type": "stream",
          "text": [
            "\u001b[0m\u001b[01;32manscombe.json\u001b[0m*                mnist_test.csv\n",
            "california_housing_test.csv   mnist_train_small.csv\n",
            "california_housing_train.csv  \u001b[01;32mREADME.md\u001b[0m*\n"
          ],
          "name": "stdout"
        }
      ]
    },
    {
      "cell_type": "code",
      "metadata": {
        "id": "0rYwvbeMtPJg"
      },
      "source": [
        "import os"
      ],
      "execution_count": 20,
      "outputs": []
    },
    {
      "cell_type": "code",
      "metadata": {
        "id": "cnGQRbmes_tZ"
      },
      "source": [
        "import pandas as pd #working with csv or excel files\n",
        "import numpy as np #working with numbers/ arrays/ tensors\n",
        "import tensorflow as tf #framework\n",
        "from tensorflow import keras #API / library \n",
        "import os #using os commands between the python language"
      ],
      "execution_count": 21,
      "outputs": []
    },
    {
      "cell_type": "code",
      "metadata": {
        "id": "VV-Ps6dJtX6B"
      },
      "source": [
        "mathData = pd.read_csv('/content/student-mat.csv', sep=';') #load the csv file as dataframe"
      ],
      "execution_count": 22,
      "outputs": []
    },
    {
      "cell_type": "code",
      "metadata": {
        "colab": {
          "base_uri": "https://localhost:8080/",
          "height": 383
        },
        "id": "2_KId_bptr05",
        "outputId": "78841c51-c528-4b53-f112-7d163be3aa91"
      },
      "source": [
        "mathData.head(10) #print the first ten rows of the dataframe"
      ],
      "execution_count": 23,
      "outputs": [
        {
          "output_type": "execute_result",
          "data": {
            "text/html": [
              "<div>\n",
              "<style scoped>\n",
              "    .dataframe tbody tr th:only-of-type {\n",
              "        vertical-align: middle;\n",
              "    }\n",
              "\n",
              "    .dataframe tbody tr th {\n",
              "        vertical-align: top;\n",
              "    }\n",
              "\n",
              "    .dataframe thead th {\n",
              "        text-align: right;\n",
              "    }\n",
              "</style>\n",
              "<table border=\"1\" class=\"dataframe\">\n",
              "  <thead>\n",
              "    <tr style=\"text-align: right;\">\n",
              "      <th></th>\n",
              "      <th>school</th>\n",
              "      <th>sex</th>\n",
              "      <th>age</th>\n",
              "      <th>address</th>\n",
              "      <th>famsize</th>\n",
              "      <th>Pstatus</th>\n",
              "      <th>Medu</th>\n",
              "      <th>Fedu</th>\n",
              "      <th>Mjob</th>\n",
              "      <th>Fjob</th>\n",
              "      <th>reason</th>\n",
              "      <th>guardian</th>\n",
              "      <th>traveltime</th>\n",
              "      <th>studytime</th>\n",
              "      <th>failures</th>\n",
              "      <th>schoolsup</th>\n",
              "      <th>famsup</th>\n",
              "      <th>paid</th>\n",
              "      <th>activities</th>\n",
              "      <th>nursery</th>\n",
              "      <th>higher</th>\n",
              "      <th>internet</th>\n",
              "      <th>romantic</th>\n",
              "      <th>famrel</th>\n",
              "      <th>freetime</th>\n",
              "      <th>goout</th>\n",
              "      <th>Dalc</th>\n",
              "      <th>Walc</th>\n",
              "      <th>health</th>\n",
              "      <th>absences</th>\n",
              "      <th>G1</th>\n",
              "      <th>G2</th>\n",
              "      <th>G3</th>\n",
              "    </tr>\n",
              "  </thead>\n",
              "  <tbody>\n",
              "    <tr>\n",
              "      <th>0</th>\n",
              "      <td>GP</td>\n",
              "      <td>F</td>\n",
              "      <td>18</td>\n",
              "      <td>U</td>\n",
              "      <td>GT3</td>\n",
              "      <td>A</td>\n",
              "      <td>4</td>\n",
              "      <td>4</td>\n",
              "      <td>at_home</td>\n",
              "      <td>teacher</td>\n",
              "      <td>course</td>\n",
              "      <td>mother</td>\n",
              "      <td>2</td>\n",
              "      <td>2</td>\n",
              "      <td>0</td>\n",
              "      <td>yes</td>\n",
              "      <td>no</td>\n",
              "      <td>no</td>\n",
              "      <td>no</td>\n",
              "      <td>yes</td>\n",
              "      <td>yes</td>\n",
              "      <td>no</td>\n",
              "      <td>no</td>\n",
              "      <td>4</td>\n",
              "      <td>3</td>\n",
              "      <td>4</td>\n",
              "      <td>1</td>\n",
              "      <td>1</td>\n",
              "      <td>3</td>\n",
              "      <td>6</td>\n",
              "      <td>5</td>\n",
              "      <td>6</td>\n",
              "      <td>6</td>\n",
              "    </tr>\n",
              "    <tr>\n",
              "      <th>1</th>\n",
              "      <td>GP</td>\n",
              "      <td>F</td>\n",
              "      <td>17</td>\n",
              "      <td>U</td>\n",
              "      <td>GT3</td>\n",
              "      <td>T</td>\n",
              "      <td>1</td>\n",
              "      <td>1</td>\n",
              "      <td>at_home</td>\n",
              "      <td>other</td>\n",
              "      <td>course</td>\n",
              "      <td>father</td>\n",
              "      <td>1</td>\n",
              "      <td>2</td>\n",
              "      <td>0</td>\n",
              "      <td>no</td>\n",
              "      <td>yes</td>\n",
              "      <td>no</td>\n",
              "      <td>no</td>\n",
              "      <td>no</td>\n",
              "      <td>yes</td>\n",
              "      <td>yes</td>\n",
              "      <td>no</td>\n",
              "      <td>5</td>\n",
              "      <td>3</td>\n",
              "      <td>3</td>\n",
              "      <td>1</td>\n",
              "      <td>1</td>\n",
              "      <td>3</td>\n",
              "      <td>4</td>\n",
              "      <td>5</td>\n",
              "      <td>5</td>\n",
              "      <td>6</td>\n",
              "    </tr>\n",
              "    <tr>\n",
              "      <th>2</th>\n",
              "      <td>GP</td>\n",
              "      <td>F</td>\n",
              "      <td>15</td>\n",
              "      <td>U</td>\n",
              "      <td>LE3</td>\n",
              "      <td>T</td>\n",
              "      <td>1</td>\n",
              "      <td>1</td>\n",
              "      <td>at_home</td>\n",
              "      <td>other</td>\n",
              "      <td>other</td>\n",
              "      <td>mother</td>\n",
              "      <td>1</td>\n",
              "      <td>2</td>\n",
              "      <td>3</td>\n",
              "      <td>yes</td>\n",
              "      <td>no</td>\n",
              "      <td>yes</td>\n",
              "      <td>no</td>\n",
              "      <td>yes</td>\n",
              "      <td>yes</td>\n",
              "      <td>yes</td>\n",
              "      <td>no</td>\n",
              "      <td>4</td>\n",
              "      <td>3</td>\n",
              "      <td>2</td>\n",
              "      <td>2</td>\n",
              "      <td>3</td>\n",
              "      <td>3</td>\n",
              "      <td>10</td>\n",
              "      <td>7</td>\n",
              "      <td>8</td>\n",
              "      <td>10</td>\n",
              "    </tr>\n",
              "    <tr>\n",
              "      <th>3</th>\n",
              "      <td>GP</td>\n",
              "      <td>F</td>\n",
              "      <td>15</td>\n",
              "      <td>U</td>\n",
              "      <td>GT3</td>\n",
              "      <td>T</td>\n",
              "      <td>4</td>\n",
              "      <td>2</td>\n",
              "      <td>health</td>\n",
              "      <td>services</td>\n",
              "      <td>home</td>\n",
              "      <td>mother</td>\n",
              "      <td>1</td>\n",
              "      <td>3</td>\n",
              "      <td>0</td>\n",
              "      <td>no</td>\n",
              "      <td>yes</td>\n",
              "      <td>yes</td>\n",
              "      <td>yes</td>\n",
              "      <td>yes</td>\n",
              "      <td>yes</td>\n",
              "      <td>yes</td>\n",
              "      <td>yes</td>\n",
              "      <td>3</td>\n",
              "      <td>2</td>\n",
              "      <td>2</td>\n",
              "      <td>1</td>\n",
              "      <td>1</td>\n",
              "      <td>5</td>\n",
              "      <td>2</td>\n",
              "      <td>15</td>\n",
              "      <td>14</td>\n",
              "      <td>15</td>\n",
              "    </tr>\n",
              "    <tr>\n",
              "      <th>4</th>\n",
              "      <td>GP</td>\n",
              "      <td>F</td>\n",
              "      <td>16</td>\n",
              "      <td>U</td>\n",
              "      <td>GT3</td>\n",
              "      <td>T</td>\n",
              "      <td>3</td>\n",
              "      <td>3</td>\n",
              "      <td>other</td>\n",
              "      <td>other</td>\n",
              "      <td>home</td>\n",
              "      <td>father</td>\n",
              "      <td>1</td>\n",
              "      <td>2</td>\n",
              "      <td>0</td>\n",
              "      <td>no</td>\n",
              "      <td>yes</td>\n",
              "      <td>yes</td>\n",
              "      <td>no</td>\n",
              "      <td>yes</td>\n",
              "      <td>yes</td>\n",
              "      <td>no</td>\n",
              "      <td>no</td>\n",
              "      <td>4</td>\n",
              "      <td>3</td>\n",
              "      <td>2</td>\n",
              "      <td>1</td>\n",
              "      <td>2</td>\n",
              "      <td>5</td>\n",
              "      <td>4</td>\n",
              "      <td>6</td>\n",
              "      <td>10</td>\n",
              "      <td>10</td>\n",
              "    </tr>\n",
              "    <tr>\n",
              "      <th>5</th>\n",
              "      <td>GP</td>\n",
              "      <td>M</td>\n",
              "      <td>16</td>\n",
              "      <td>U</td>\n",
              "      <td>LE3</td>\n",
              "      <td>T</td>\n",
              "      <td>4</td>\n",
              "      <td>3</td>\n",
              "      <td>services</td>\n",
              "      <td>other</td>\n",
              "      <td>reputation</td>\n",
              "      <td>mother</td>\n",
              "      <td>1</td>\n",
              "      <td>2</td>\n",
              "      <td>0</td>\n",
              "      <td>no</td>\n",
              "      <td>yes</td>\n",
              "      <td>yes</td>\n",
              "      <td>yes</td>\n",
              "      <td>yes</td>\n",
              "      <td>yes</td>\n",
              "      <td>yes</td>\n",
              "      <td>no</td>\n",
              "      <td>5</td>\n",
              "      <td>4</td>\n",
              "      <td>2</td>\n",
              "      <td>1</td>\n",
              "      <td>2</td>\n",
              "      <td>5</td>\n",
              "      <td>10</td>\n",
              "      <td>15</td>\n",
              "      <td>15</td>\n",
              "      <td>15</td>\n",
              "    </tr>\n",
              "    <tr>\n",
              "      <th>6</th>\n",
              "      <td>GP</td>\n",
              "      <td>M</td>\n",
              "      <td>16</td>\n",
              "      <td>U</td>\n",
              "      <td>LE3</td>\n",
              "      <td>T</td>\n",
              "      <td>2</td>\n",
              "      <td>2</td>\n",
              "      <td>other</td>\n",
              "      <td>other</td>\n",
              "      <td>home</td>\n",
              "      <td>mother</td>\n",
              "      <td>1</td>\n",
              "      <td>2</td>\n",
              "      <td>0</td>\n",
              "      <td>no</td>\n",
              "      <td>no</td>\n",
              "      <td>no</td>\n",
              "      <td>no</td>\n",
              "      <td>yes</td>\n",
              "      <td>yes</td>\n",
              "      <td>yes</td>\n",
              "      <td>no</td>\n",
              "      <td>4</td>\n",
              "      <td>4</td>\n",
              "      <td>4</td>\n",
              "      <td>1</td>\n",
              "      <td>1</td>\n",
              "      <td>3</td>\n",
              "      <td>0</td>\n",
              "      <td>12</td>\n",
              "      <td>12</td>\n",
              "      <td>11</td>\n",
              "    </tr>\n",
              "    <tr>\n",
              "      <th>7</th>\n",
              "      <td>GP</td>\n",
              "      <td>F</td>\n",
              "      <td>17</td>\n",
              "      <td>U</td>\n",
              "      <td>GT3</td>\n",
              "      <td>A</td>\n",
              "      <td>4</td>\n",
              "      <td>4</td>\n",
              "      <td>other</td>\n",
              "      <td>teacher</td>\n",
              "      <td>home</td>\n",
              "      <td>mother</td>\n",
              "      <td>2</td>\n",
              "      <td>2</td>\n",
              "      <td>0</td>\n",
              "      <td>yes</td>\n",
              "      <td>yes</td>\n",
              "      <td>no</td>\n",
              "      <td>no</td>\n",
              "      <td>yes</td>\n",
              "      <td>yes</td>\n",
              "      <td>no</td>\n",
              "      <td>no</td>\n",
              "      <td>4</td>\n",
              "      <td>1</td>\n",
              "      <td>4</td>\n",
              "      <td>1</td>\n",
              "      <td>1</td>\n",
              "      <td>1</td>\n",
              "      <td>6</td>\n",
              "      <td>6</td>\n",
              "      <td>5</td>\n",
              "      <td>6</td>\n",
              "    </tr>\n",
              "    <tr>\n",
              "      <th>8</th>\n",
              "      <td>GP</td>\n",
              "      <td>M</td>\n",
              "      <td>15</td>\n",
              "      <td>U</td>\n",
              "      <td>LE3</td>\n",
              "      <td>A</td>\n",
              "      <td>3</td>\n",
              "      <td>2</td>\n",
              "      <td>services</td>\n",
              "      <td>other</td>\n",
              "      <td>home</td>\n",
              "      <td>mother</td>\n",
              "      <td>1</td>\n",
              "      <td>2</td>\n",
              "      <td>0</td>\n",
              "      <td>no</td>\n",
              "      <td>yes</td>\n",
              "      <td>yes</td>\n",
              "      <td>no</td>\n",
              "      <td>yes</td>\n",
              "      <td>yes</td>\n",
              "      <td>yes</td>\n",
              "      <td>no</td>\n",
              "      <td>4</td>\n",
              "      <td>2</td>\n",
              "      <td>2</td>\n",
              "      <td>1</td>\n",
              "      <td>1</td>\n",
              "      <td>1</td>\n",
              "      <td>0</td>\n",
              "      <td>16</td>\n",
              "      <td>18</td>\n",
              "      <td>19</td>\n",
              "    </tr>\n",
              "    <tr>\n",
              "      <th>9</th>\n",
              "      <td>GP</td>\n",
              "      <td>M</td>\n",
              "      <td>15</td>\n",
              "      <td>U</td>\n",
              "      <td>GT3</td>\n",
              "      <td>T</td>\n",
              "      <td>3</td>\n",
              "      <td>4</td>\n",
              "      <td>other</td>\n",
              "      <td>other</td>\n",
              "      <td>home</td>\n",
              "      <td>mother</td>\n",
              "      <td>1</td>\n",
              "      <td>2</td>\n",
              "      <td>0</td>\n",
              "      <td>no</td>\n",
              "      <td>yes</td>\n",
              "      <td>yes</td>\n",
              "      <td>yes</td>\n",
              "      <td>yes</td>\n",
              "      <td>yes</td>\n",
              "      <td>yes</td>\n",
              "      <td>no</td>\n",
              "      <td>5</td>\n",
              "      <td>5</td>\n",
              "      <td>1</td>\n",
              "      <td>1</td>\n",
              "      <td>1</td>\n",
              "      <td>5</td>\n",
              "      <td>0</td>\n",
              "      <td>14</td>\n",
              "      <td>15</td>\n",
              "      <td>15</td>\n",
              "    </tr>\n",
              "  </tbody>\n",
              "</table>\n",
              "</div>"
            ],
            "text/plain": [
              "  school sex  age address famsize Pstatus  ...  Walc  health absences  G1  G2  G3\n",
              "0     GP   F   18       U     GT3       A  ...     1       3        6   5   6   6\n",
              "1     GP   F   17       U     GT3       T  ...     1       3        4   5   5   6\n",
              "2     GP   F   15       U     LE3       T  ...     3       3       10   7   8  10\n",
              "3     GP   F   15       U     GT3       T  ...     1       5        2  15  14  15\n",
              "4     GP   F   16       U     GT3       T  ...     2       5        4   6  10  10\n",
              "5     GP   M   16       U     LE3       T  ...     2       5       10  15  15  15\n",
              "6     GP   M   16       U     LE3       T  ...     1       3        0  12  12  11\n",
              "7     GP   F   17       U     GT3       A  ...     1       1        6   6   5   6\n",
              "8     GP   M   15       U     LE3       A  ...     1       1        0  16  18  19\n",
              "9     GP   M   15       U     GT3       T  ...     1       5        0  14  15  15\n",
              "\n",
              "[10 rows x 33 columns]"
            ]
          },
          "metadata": {
            "tags": []
          },
          "execution_count": 23
        }
      ]
    },
    {
      "cell_type": "markdown",
      "metadata": {
        "id": "i2bal50yG_PZ"
      },
      "source": [
        "We are just going to consider the columns `G1` and `G3` for univariate linear regression\n",
        "\n",
        "$G3_i = G1_i  \\cdot \\theta_1 + \\theta_0$"
      ]
    },
    {
      "cell_type": "code",
      "metadata": {
        "colab": {
          "base_uri": "https://localhost:8080/",
          "height": 206
        },
        "id": "Yw0PNCuTSEDC",
        "outputId": "a4e59876-31d3-450d-c61b-07d909effb3f"
      },
      "source": [
        "uniMathData = mathData[['G1', 'G3']]\n",
        "uniMathData.head(5)"
      ],
      "execution_count": 24,
      "outputs": [
        {
          "output_type": "execute_result",
          "data": {
            "text/html": [
              "<div>\n",
              "<style scoped>\n",
              "    .dataframe tbody tr th:only-of-type {\n",
              "        vertical-align: middle;\n",
              "    }\n",
              "\n",
              "    .dataframe tbody tr th {\n",
              "        vertical-align: top;\n",
              "    }\n",
              "\n",
              "    .dataframe thead th {\n",
              "        text-align: right;\n",
              "    }\n",
              "</style>\n",
              "<table border=\"1\" class=\"dataframe\">\n",
              "  <thead>\n",
              "    <tr style=\"text-align: right;\">\n",
              "      <th></th>\n",
              "      <th>G1</th>\n",
              "      <th>G3</th>\n",
              "    </tr>\n",
              "  </thead>\n",
              "  <tbody>\n",
              "    <tr>\n",
              "      <th>0</th>\n",
              "      <td>5</td>\n",
              "      <td>6</td>\n",
              "    </tr>\n",
              "    <tr>\n",
              "      <th>1</th>\n",
              "      <td>5</td>\n",
              "      <td>6</td>\n",
              "    </tr>\n",
              "    <tr>\n",
              "      <th>2</th>\n",
              "      <td>7</td>\n",
              "      <td>10</td>\n",
              "    </tr>\n",
              "    <tr>\n",
              "      <th>3</th>\n",
              "      <td>15</td>\n",
              "      <td>15</td>\n",
              "    </tr>\n",
              "    <tr>\n",
              "      <th>4</th>\n",
              "      <td>6</td>\n",
              "      <td>10</td>\n",
              "    </tr>\n",
              "  </tbody>\n",
              "</table>\n",
              "</div>"
            ],
            "text/plain": [
              "   G1  G3\n",
              "0   5   6\n",
              "1   5   6\n",
              "2   7  10\n",
              "3  15  15\n",
              "4   6  10"
            ]
          },
          "metadata": {
            "tags": []
          },
          "execution_count": 24
        }
      ]
    },
    {
      "cell_type": "code",
      "metadata": {
        "id": "eyzP9mL4Hmb5"
      },
      "source": [
        "uniMathData.to_csv('univariate_MathData_2.csv')"
      ],
      "execution_count": 25,
      "outputs": []
    },
    {
      "cell_type": "code",
      "metadata": {
        "colab": {
          "base_uri": "https://localhost:8080/"
        },
        "id": "I-3qK_nNxnTA",
        "outputId": "dad41b0b-d3e0-4dbf-b58c-cccac6e3550f"
      },
      "source": [
        "ls"
      ],
      "execution_count": 26,
      "outputs": [
        {
          "output_type": "stream",
          "text": [
            "\u001b[0m\u001b[01;32manscombe.json\u001b[0m*                mnist_test.csv         univariate_MathData_2.csv\n",
            "california_housing_test.csv   mnist_train_small.csv\n",
            "california_housing_train.csv  \u001b[01;32mREADME.md\u001b[0m*\n"
          ],
          "name": "stdout"
        }
      ]
    },
    {
      "cell_type": "markdown",
      "metadata": {
        "id": "ImV3p6AKxszU"
      },
      "source": [
        "## Data visualization"
      ]
    },
    {
      "cell_type": "code",
      "metadata": {
        "colab": {
          "base_uri": "https://localhost:8080/",
          "height": 157
        },
        "id": "RqumcsZLxq4v",
        "outputId": "6508d73d-113a-485d-f253-2e610a094b1b"
      },
      "source": [
        "import seaborn as sns\n",
        "sns.palplot(sns.color_palette('PuOr')) #Purple to Orange colors\n",
        "pal = sns.color_palette('PuOr', 6) #print 6 color shades from Purple to Orange\n",
        "pal.as_hex() #set hex code values for colors\n",
        "\n",
        "import matplotlib.pyplot as plt\n",
        "plt.style.use(['seaborn'])\n",
        "sns_colors = ['#c6690c', '#664697'] #orange Purple hex codes\n",
        "sns.set_palette(sns_colors) #set the palette as sns_colors \n",
        "sns.palplot(sns.color_palette(sns_colors)) #plot the color codes"
      ],
      "execution_count": 27,
      "outputs": [
        {
          "output_type": "display_data",
          "data": {
            "image/png": "[encoded data removed]",
            "text/plain": [
              "<Figure size 432x72 with 1 Axes>"
            ]
          },
          "metadata": {
            "tags": [],
            "needs_background": "light"
          }
        },
        {
          "output_type": "display_data",
          "data": {
            "image/png": "[encoded data removed]",
            "text/plain": [
              "<Figure size 144x72 with 1 Axes>"
            ]
          },
          "metadata": {
            "tags": []
          }
        }
      ]
    },
    {
      "cell_type": "code",
      "metadata": {
        "colab": {
          "base_uri": "https://localhost:8080/"
        },
        "id": "A6MT5E8Fy7MZ",
        "outputId": "d7f01096-b613-4329-e34f-3c34ee7e0310"
      },
      "source": [
        "uniMathData.columns #columns in the dataframe"
      ],
      "execution_count": 28,
      "outputs": [
        {
          "output_type": "execute_result",
          "data": {
            "text/plain": [
              "Index(['G1', 'G3'], dtype='object')"
            ]
          },
          "metadata": {
            "tags": []
          },
          "execution_count": 28
        }
      ]
    },
    {
      "cell_type": "code",
      "metadata": {
        "colab": {
          "base_uri": "https://localhost:8080/",
          "height": 391
        },
        "id": "PrsTwdHHzBbk",
        "outputId": "7e72d437-0780-4b8e-eb4c-260fa3736a62"
      },
      "source": [
        "#pairplot for all the values\n",
        "\n",
        "sns.pairplot(uniMathData,\n",
        "             x_vars = ['G1', 'G3'],\n",
        "             y_vars =  ['G1', 'G3'],\n",
        "       diag_kind='kde'\n",
        "             )"
      ],
      "execution_count": 29,
      "outputs": [
        {
          "output_type": "execute_result",
          "data": {
            "text/plain": [
              "<seaborn.axisgrid.PairGrid at 0x7fb40075f710>"
            ]
          },
          "metadata": {
            "tags": []
          },
          "execution_count": 29
        },
        {
          "output_type": "display_data",
          "data": {
            "image/png": "[encoded data removed]",
            "text/plain": [
              "<Figure size 360x360 with 6 Axes>"
            ]
          },
          "metadata": {
            "tags": []
          }
        }
      ]
    },
    {
      "cell_type": "markdown",
      "metadata": {
        "id": "Klm33YcpKZkl"
      },
      "source": [
        "## Data Splits"
      ]
    },
    {
      "cell_type": "code",
      "metadata": {
        "colab": {
          "base_uri": "https://localhost:8080/"
        },
        "id": "UwrSOCKS1NhN",
        "outputId": "5f23940c-0397-45f2-d43e-e9a4a93a8c44"
      },
      "source": [
        "#80-20 train-test percent split\n",
        "\n",
        "trainDataset = uniMathData.sample(frac=0.8, random_state=0) \n",
        "testDataset = uniMathData.drop(trainDataset.index)\n",
        "\n",
        "print(trainDataset.head())\n",
        "print(testDataset.head())"
      ],
      "execution_count": 30,
      "outputs": [
        {
          "output_type": "stream",
          "text": [
            "     G1  G3\n",
            "329  14  14\n",
            "318  11  10\n",
            "317   9   9\n",
            "65   16  15\n",
            "59   15  16\n",
            "    G1  G3\n",
            "9   14  15\n",
            "25   6   8\n",
            "28  11  11\n",
            "31  17  17\n",
            "32  17  16\n"
          ],
          "name": "stdout"
        }
      ]
    },
    {
      "cell_type": "code",
      "metadata": {
        "colab": {
          "base_uri": "https://localhost:8080/"
        },
        "id": "YWO2xRV53wV-",
        "outputId": "1096c547-a757-4cf1-a321-5a3548466c7c"
      },
      "source": [
        "print(trainDataset.shape)\n",
        "print(testDataset.shape)"
      ],
      "execution_count": 31,
      "outputs": [
        {
          "output_type": "stream",
          "text": [
            "(316, 2)\n",
            "(79, 2)\n"
          ],
          "name": "stdout"
        }
      ]
    },
    {
      "cell_type": "code",
      "metadata": {
        "colab": {
          "base_uri": "https://localhost:8080/"
        },
        "id": "OmDTbvMC32hg",
        "outputId": "cdb68151-7289-44d9-9756-0f3b8710ff1d"
      },
      "source": [
        "#copy the trainDataset dataframe for getting the features\n",
        "\n",
        "trainFeatures = trainDataset.copy()\n",
        "testFeatures = testDataset.copy()\n",
        "\n",
        "print(trainFeatures.head())\n",
        "print(testFeatures.head())"
      ],
      "execution_count": 32,
      "outputs": [
        {
          "output_type": "stream",
          "text": [
            "     G1  G3\n",
            "329  14  14\n",
            "318  11  10\n",
            "317   9   9\n",
            "65   16  15\n",
            "59   15  16\n",
            "    G1  G3\n",
            "9   14  15\n",
            "25   6   8\n",
            "28  11  11\n",
            "31  17  17\n",
            "32  17  16\n"
          ],
          "name": "stdout"
        }
      ]
    },
    {
      "cell_type": "code",
      "metadata": {
        "colab": {
          "base_uri": "https://localhost:8080/"
        },
        "id": "jSR0_uni4ayh",
        "outputId": "3d4793ee-450b-49b3-87e9-ddaa4452bd4b"
      },
      "source": [
        "#removing the G3 column and saving it into the labels variable\n",
        "\n",
        "trainLabels = trainFeatures.pop('G3')\n",
        "testLabels = testFeatures.pop('G3')\n",
        "\n",
        "print(trainLabels.head())\n",
        "print(testLabels.head())"
      ],
      "execution_count": 33,
      "outputs": [
        {
          "output_type": "stream",
          "text": [
            "329    14\n",
            "318    10\n",
            "317     9\n",
            "65     15\n",
            "59     16\n",
            "Name: G3, dtype: int64\n",
            "9     15\n",
            "25     8\n",
            "28    11\n",
            "31    17\n",
            "32    16\n",
            "Name: G3, dtype: int64\n"
          ],
          "name": "stdout"
        }
      ]
    },
    {
      "cell_type": "code",
      "metadata": {
        "colab": {
          "base_uri": "https://localhost:8080/"
        },
        "id": "HnGSqb-q4wk8",
        "outputId": "bf6ac7c9-118b-4901-d86a-c46720213a10"
      },
      "source": [
        "print(trainFeatures.head())\n",
        "print(testFeatures.head())"
      ],
      "execution_count": 34,
      "outputs": [
        {
          "output_type": "stream",
          "text": [
            "     G1\n",
            "329  14\n",
            "318  11\n",
            "317   9\n",
            "65   16\n",
            "59   15\n",
            "    G1\n",
            "9   14\n",
            "25   6\n",
            "28  11\n",
            "31  17\n",
            "32  17\n"
          ],
          "name": "stdout"
        }
      ]
    },
    {
      "cell_type": "code",
      "metadata": {
        "id": "XPTSq34jk4o_"
      },
      "source": [
        "# univariate -> num(features) = 1\n",
        "# multvariate -> num(features) > 1 = 11\n",
        "\n",
        "\n",
        "model = tf.keras.Sequential([\n",
        "                             tf.keras.layers.Dense(1)\n",
        "\n",
        "])"
      ],
      "execution_count": 35,
      "outputs": []
    },
    {
      "cell_type": "code",
      "metadata": {
        "id": "4C4GKBdE6iCE"
      },
      "source": [
        "model.compile(\n",
        "    loss = 'mean_absolute_error', #minimizing the MAE loss\n",
        "    optimizer = tf.keras.optimizers.Adam(0.001), #learning rate specified as 0.001\n",
        "    # optimizer = 'adam', #takes the default learning rate\n",
        "    metrics = ['mae', 'mse'] #meanSquare and meanAbsolute error metrics\n",
        ")"
      ],
      "execution_count": 36,
      "outputs": []
    },
    {
      "cell_type": "code",
      "metadata": {
        "colab": {
          "base_uri": "https://localhost:8080/"
        },
        "id": "d_A7DrhB6zvm",
        "outputId": "b6dbee31-2b44-4c64-a16e-61ef0adda001"
      },
      "source": [
        "numEpochs = 300\n",
        "history = model.fit(x = trainFeatures, y = trainLabels, validation_data = (testFeatures, testLabels), epochs = numEpochs)"
      ],
      "execution_count": 37,
      "outputs": [
        {
          "output_type": "stream",
          "text": [
            "Epoch 1/300\n",
            "10/10 [==============================] - 1s 19ms/step - loss: 4.8245 - mae: 4.8245 - mse: 26.2589 - val_loss: 4.7726 - val_mae: 4.7726 - val_mse: 25.2244\n",
            "Epoch 2/300\n",
            "10/10 [==============================] - 0s 3ms/step - loss: 4.7258 - mae: 4.7258 - mse: 25.2637 - val_loss: 4.6629 - val_mae: 4.6629 - val_mse: 24.1158\n",
            "Epoch 3/300\n",
            "10/10 [==============================] - 0s 3ms/step - loss: 4.6246 - mae: 4.6246 - mse: 24.2630 - val_loss: 4.5546 - val_mae: 4.5546 - val_mse: 23.0536\n",
            "Epoch 4/300\n",
            "10/10 [==============================] - 0s 3ms/step - loss: 4.5264 - mae: 4.5264 - mse: 23.3377 - val_loss: 4.4460 - val_mae: 4.4460 - val_mse: 22.0109\n",
            "Epoch 5/300\n",
            "10/10 [==============================] - 0s 3ms/step - loss: 4.4244 - mae: 4.4244 - mse: 22.3767 - val_loss: 4.3405 - val_mae: 4.3405 - val_mse: 21.0185\n",
            "Epoch 6/300\n",
            "10/10 [==============================] - 0s 3ms/step - loss: 4.3264 - mae: 4.3264 - mse: 21.5045 - val_loss: 4.2328 - val_mae: 4.2328 - val_mse: 20.0390\n",
            "Epoch 7/300\n",
            "10/10 [==============================] - 0s 3ms/step - loss: 4.2261 - mae: 4.2261 - mse: 20.6331 - val_loss: 4.1254 - val_mae: 4.1254 - val_mse: 19.0957\n",
            "Epoch 8/300\n",
            "10/10 [==============================] - 0s 5ms/step - loss: 4.1266 - mae: 4.1266 - mse: 19.7931 - val_loss: 4.0184 - val_mae: 4.0184 - val_mse: 18.1884\n",
            "Epoch 9/300\n",
            "10/10 [==============================] - 0s 4ms/step - loss: 4.0285 - mae: 4.0285 - mse: 18.9853 - val_loss: 3.9119 - val_mae: 3.9119 - val_mse: 17.3177\n",
            "Epoch 10/300\n",
            "10/10 [==============================] - 0s 3ms/step - loss: 3.9289 - mae: 3.9289 - mse: 18.2057 - val_loss: 3.8068 - val_mae: 3.8068 - val_mse: 16.4902\n",
            "Epoch 11/300\n",
            "10/10 [==============================] - 0s 3ms/step - loss: 3.8317 - mae: 3.8317 - mse: 17.4710 - val_loss: 3.7006 - val_mae: 3.7006 - val_mse: 15.6869\n",
            "Epoch 12/300\n",
            "10/10 [==============================] - 0s 3ms/step - loss: 3.7351 - mae: 3.7351 - mse: 16.7595 - val_loss: 3.5944 - val_mae: 3.5944 - val_mse: 14.9152\n",
            "Epoch 13/300\n",
            "10/10 [==============================] - 0s 3ms/step - loss: 3.6382 - mae: 3.6382 - mse: 16.0744 - val_loss: 3.4888 - val_mae: 3.4888 - val_mse: 14.1805\n",
            "Epoch 14/300\n",
            "10/10 [==============================] - 0s 3ms/step - loss: 3.5422 - mae: 3.5422 - mse: 15.4161 - val_loss: 3.3835 - val_mae: 3.3835 - val_mse: 13.4797\n",
            "Epoch 15/300\n",
            "10/10 [==============================] - 0s 3ms/step - loss: 3.4466 - mae: 3.4466 - mse: 14.8042 - val_loss: 3.2787 - val_mae: 3.2787 - val_mse: 12.8134\n",
            "Epoch 16/300\n",
            "10/10 [==============================] - 0s 3ms/step - loss: 3.3532 - mae: 3.3532 - mse: 14.2013 - val_loss: 3.1738 - val_mae: 3.1738 - val_mse: 12.1786\n",
            "Epoch 17/300\n",
            "10/10 [==============================] - 0s 4ms/step - loss: 3.2597 - mae: 3.2597 - mse: 13.6461 - val_loss: 3.0703 - val_mae: 3.0703 - val_mse: 11.5827\n",
            "Epoch 18/300\n",
            "10/10 [==============================] - 0s 3ms/step - loss: 3.1685 - mae: 3.1685 - mse: 13.1225 - val_loss: 2.9678 - val_mae: 2.9678 - val_mse: 11.0105\n",
            "Epoch 19/300\n",
            "10/10 [==============================] - 0s 4ms/step - loss: 3.0750 - mae: 3.0750 - mse: 12.6003 - val_loss: 2.8685 - val_mae: 2.8685 - val_mse: 10.4807\n",
            "Epoch 20/300\n",
            "10/10 [==============================] - 0s 4ms/step - loss: 2.9847 - mae: 2.9847 - mse: 12.1204 - val_loss: 2.7694 - val_mae: 2.7694 - val_mse: 9.9824\n",
            "Epoch 21/300\n",
            "10/10 [==============================] - 0s 3ms/step - loss: 2.8983 - mae: 2.8983 - mse: 11.7037 - val_loss: 2.6697 - val_mae: 2.6697 - val_mse: 9.5110\n",
            "Epoch 22/300\n",
            "10/10 [==============================] - 0s 3ms/step - loss: 2.8128 - mae: 2.8128 - mse: 11.2849 - val_loss: 2.5717 - val_mae: 2.5717 - val_mse: 9.0750\n",
            "Epoch 23/300\n",
            "10/10 [==============================] - 0s 3ms/step - loss: 2.7286 - mae: 2.7286 - mse: 10.8864 - val_loss: 2.4797 - val_mae: 2.4797 - val_mse: 8.6843\n",
            "Epoch 24/300\n",
            "10/10 [==============================] - 0s 3ms/step - loss: 2.6492 - mae: 2.6492 - mse: 10.5484 - val_loss: 2.3883 - val_mae: 2.3883 - val_mse: 8.3230\n",
            "Epoch 25/300\n",
            "10/10 [==============================] - 0s 4ms/step - loss: 2.5705 - mae: 2.5705 - mse: 10.2212 - val_loss: 2.2997 - val_mae: 2.2997 - val_mse: 7.9925\n",
            "Epoch 26/300\n",
            "10/10 [==============================] - 0s 3ms/step - loss: 2.4976 - mae: 2.4976 - mse: 9.9374 - val_loss: 2.2156 - val_mae: 2.2156 - val_mse: 7.6977\n",
            "Epoch 27/300\n",
            "10/10 [==============================] - 0s 3ms/step - loss: 2.4294 - mae: 2.4294 - mse: 9.6719 - val_loss: 2.1356 - val_mae: 2.1356 - val_mse: 7.4402\n",
            "Epoch 28/300\n",
            "10/10 [==============================] - 0s 3ms/step - loss: 2.3674 - mae: 2.3674 - mse: 9.4365 - val_loss: 2.0578 - val_mae: 2.0578 - val_mse: 7.2077\n",
            "Epoch 29/300\n",
            "10/10 [==============================] - 0s 3ms/step - loss: 2.3068 - mae: 2.3068 - mse: 9.2482 - val_loss: 1.9838 - val_mae: 1.9838 - val_mse: 7.0008\n",
            "Epoch 30/300\n",
            "10/10 [==============================] - 0s 3ms/step - loss: 2.2487 - mae: 2.2487 - mse: 9.0508 - val_loss: 1.9127 - val_mae: 1.9127 - val_mse: 6.8188\n",
            "Epoch 31/300\n",
            "10/10 [==============================] - 0s 3ms/step - loss: 2.1941 - mae: 2.1941 - mse: 8.8982 - val_loss: 1.8464 - val_mae: 1.8464 - val_mse: 6.6612\n",
            "Epoch 32/300\n",
            "10/10 [==============================] - 0s 3ms/step - loss: 2.1478 - mae: 2.1478 - mse: 8.7663 - val_loss: 1.7869 - val_mae: 1.7869 - val_mse: 6.5295\n",
            "Epoch 33/300\n",
            "10/10 [==============================] - 0s 3ms/step - loss: 2.1079 - mae: 2.1079 - mse: 8.6444 - val_loss: 1.7362 - val_mae: 1.7362 - val_mse: 6.4254\n",
            "Epoch 34/300\n",
            "10/10 [==============================] - 0s 3ms/step - loss: 2.0730 - mae: 2.0730 - mse: 8.5555 - val_loss: 1.7004 - val_mae: 1.7004 - val_mse: 6.3448\n",
            "Epoch 35/300\n",
            "10/10 [==============================] - 0s 3ms/step - loss: 2.0463 - mae: 2.0463 - mse: 8.4908 - val_loss: 1.6683 - val_mae: 1.6683 - val_mse: 6.2722\n",
            "Epoch 36/300\n",
            "10/10 [==============================] - 0s 3ms/step - loss: 2.0173 - mae: 2.0173 - mse: 8.4224 - val_loss: 1.6445 - val_mae: 1.6445 - val_mse: 6.2193\n",
            "Epoch 37/300\n",
            "10/10 [==============================] - 0s 3ms/step - loss: 1.9972 - mae: 1.9972 - mse: 8.3786 - val_loss: 1.6250 - val_mae: 1.6250 - val_mse: 6.1773\n",
            "Epoch 38/300\n",
            "10/10 [==============================] - 0s 3ms/step - loss: 1.9780 - mae: 1.9780 - mse: 8.3328 - val_loss: 1.6120 - val_mae: 1.6120 - val_mse: 6.1500\n",
            "Epoch 39/300\n",
            "10/10 [==============================] - 0s 3ms/step - loss: 1.9652 - mae: 1.9652 - mse: 8.3127 - val_loss: 1.6067 - val_mae: 1.6067 - val_mse: 6.1300\n",
            "Epoch 40/300\n",
            "10/10 [==============================] - 0s 3ms/step - loss: 1.9546 - mae: 1.9546 - mse: 8.2968 - val_loss: 1.6031 - val_mae: 1.6031 - val_mse: 6.1161\n",
            "Epoch 41/300\n",
            "10/10 [==============================] - 0s 3ms/step - loss: 1.9453 - mae: 1.9453 - mse: 8.2770 - val_loss: 1.5998 - val_mae: 1.5998 - val_mse: 6.1063\n",
            "Epoch 42/300\n",
            "10/10 [==============================] - 0s 3ms/step - loss: 1.9349 - mae: 1.9349 - mse: 8.2667 - val_loss: 1.5977 - val_mae: 1.5977 - val_mse: 6.1012\n",
            "Epoch 43/300\n",
            "10/10 [==============================] - 0s 3ms/step - loss: 1.9262 - mae: 1.9262 - mse: 8.2648 - val_loss: 1.5962 - val_mae: 1.5962 - val_mse: 6.0997\n",
            "Epoch 44/300\n",
            "10/10 [==============================] - 0s 3ms/step - loss: 1.9169 - mae: 1.9169 - mse: 8.2670 - val_loss: 1.5947 - val_mae: 1.5947 - val_mse: 6.1024\n",
            "Epoch 45/300\n",
            "10/10 [==============================] - 0s 3ms/step - loss: 1.9067 - mae: 1.9067 - mse: 8.2617 - val_loss: 1.5933 - val_mae: 1.5933 - val_mse: 6.1089\n",
            "Epoch 46/300\n",
            "10/10 [==============================] - 0s 3ms/step - loss: 1.8979 - mae: 1.8979 - mse: 8.2647 - val_loss: 1.5925 - val_mae: 1.5925 - val_mse: 6.1195\n",
            "Epoch 47/300\n",
            "10/10 [==============================] - 0s 3ms/step - loss: 1.8884 - mae: 1.8884 - mse: 8.2756 - val_loss: 1.5917 - val_mae: 1.5917 - val_mse: 6.1331\n",
            "Epoch 48/300\n",
            "10/10 [==============================] - 0s 3ms/step - loss: 1.8805 - mae: 1.8805 - mse: 8.2830 - val_loss: 1.5916 - val_mae: 1.5916 - val_mse: 6.1515\n",
            "Epoch 49/300\n",
            "10/10 [==============================] - 0s 3ms/step - loss: 1.8725 - mae: 1.8725 - mse: 8.2965 - val_loss: 1.5919 - val_mae: 1.5919 - val_mse: 6.1735\n",
            "Epoch 50/300\n",
            "10/10 [==============================] - 0s 4ms/step - loss: 1.8652 - mae: 1.8652 - mse: 8.3137 - val_loss: 1.5931 - val_mae: 1.5931 - val_mse: 6.1956\n",
            "Epoch 51/300\n",
            "10/10 [==============================] - 0s 3ms/step - loss: 1.8590 - mae: 1.8590 - mse: 8.3220 - val_loss: 1.5944 - val_mae: 1.5944 - val_mse: 6.2131\n",
            "Epoch 52/300\n",
            "10/10 [==============================] - 0s 3ms/step - loss: 1.8557 - mae: 1.8557 - mse: 8.3367 - val_loss: 1.5961 - val_mae: 1.5961 - val_mse: 6.2344\n",
            "Epoch 53/300\n",
            "10/10 [==============================] - 0s 3ms/step - loss: 1.8526 - mae: 1.8526 - mse: 8.3559 - val_loss: 1.5989 - val_mae: 1.5989 - val_mse: 6.2523\n",
            "Epoch 54/300\n",
            "10/10 [==============================] - 0s 3ms/step - loss: 1.8510 - mae: 1.8510 - mse: 8.3681 - val_loss: 1.6019 - val_mae: 1.6019 - val_mse: 6.2697\n",
            "Epoch 55/300\n",
            "10/10 [==============================] - 0s 3ms/step - loss: 1.8505 - mae: 1.8505 - mse: 8.3812 - val_loss: 1.6046 - val_mae: 1.6046 - val_mse: 6.2817\n",
            "Epoch 56/300\n",
            "10/10 [==============================] - 0s 3ms/step - loss: 1.8501 - mae: 1.8501 - mse: 8.3893 - val_loss: 1.6062 - val_mae: 1.6062 - val_mse: 6.2887\n",
            "Epoch 57/300\n",
            "10/10 [==============================] - 0s 3ms/step - loss: 1.8501 - mae: 1.8501 - mse: 8.3954 - val_loss: 1.6072 - val_mae: 1.6072 - val_mse: 6.2932\n",
            "Epoch 58/300\n",
            "10/10 [==============================] - 0s 3ms/step - loss: 1.8501 - mae: 1.8501 - mse: 8.3943 - val_loss: 1.6063 - val_mae: 1.6063 - val_mse: 6.2888\n",
            "Epoch 59/300\n",
            "10/10 [==============================] - 0s 3ms/step - loss: 1.8500 - mae: 1.8500 - mse: 8.3945 - val_loss: 1.6068 - val_mae: 1.6068 - val_mse: 6.2909\n",
            "Epoch 60/300\n",
            "10/10 [==============================] - 0s 3ms/step - loss: 1.8498 - mae: 1.8498 - mse: 8.3933 - val_loss: 1.6066 - val_mae: 1.6066 - val_mse: 6.2898\n",
            "Epoch 61/300\n",
            "10/10 [==============================] - 0s 5ms/step - loss: 1.8499 - mae: 1.8499 - mse: 8.3923 - val_loss: 1.6062 - val_mae: 1.6062 - val_mse: 6.2879\n",
            "Epoch 62/300\n",
            "10/10 [==============================] - 0s 3ms/step - loss: 1.8500 - mae: 1.8500 - mse: 8.3944 - val_loss: 1.6075 - val_mae: 1.6075 - val_mse: 6.2929\n",
            "Epoch 63/300\n",
            "10/10 [==============================] - 0s 3ms/step - loss: 1.8498 - mae: 1.8498 - mse: 8.3952 - val_loss: 1.6068 - val_mae: 1.6068 - val_mse: 6.2898\n",
            "Epoch 64/300\n",
            "10/10 [==============================] - 0s 3ms/step - loss: 1.8498 - mae: 1.8498 - mse: 8.3907 - val_loss: 1.6060 - val_mae: 1.6060 - val_mse: 6.2859\n",
            "Epoch 65/300\n",
            "10/10 [==============================] - 0s 3ms/step - loss: 1.8498 - mae: 1.8498 - mse: 8.3894 - val_loss: 1.6058 - val_mae: 1.6058 - val_mse: 6.2851\n",
            "Epoch 66/300\n",
            "10/10 [==============================] - 0s 4ms/step - loss: 1.8496 - mae: 1.8496 - mse: 8.3902 - val_loss: 1.6067 - val_mae: 1.6067 - val_mse: 6.2887\n",
            "Epoch 67/300\n",
            "10/10 [==============================] - 0s 4ms/step - loss: 1.8497 - mae: 1.8497 - mse: 8.3941 - val_loss: 1.6074 - val_mae: 1.6074 - val_mse: 6.2916\n",
            "Epoch 68/300\n",
            "10/10 [==============================] - 0s 4ms/step - loss: 1.8496 - mae: 1.8496 - mse: 8.3922 - val_loss: 1.6060 - val_mae: 1.6060 - val_mse: 6.2853\n",
            "Epoch 69/300\n",
            "10/10 [==============================] - 0s 3ms/step - loss: 1.8496 - mae: 1.8496 - mse: 8.3898 - val_loss: 1.6065 - val_mae: 1.6065 - val_mse: 6.2874\n",
            "Epoch 70/300\n",
            "10/10 [==============================] - 0s 3ms/step - loss: 1.8495 - mae: 1.8495 - mse: 8.3919 - val_loss: 1.6061 - val_mae: 1.6061 - val_mse: 6.2850\n",
            "Epoch 71/300\n",
            "10/10 [==============================] - 0s 3ms/step - loss: 1.8495 - mae: 1.8495 - mse: 8.3876 - val_loss: 1.6055 - val_mae: 1.6055 - val_mse: 6.2820\n",
            "Epoch 72/300\n",
            "10/10 [==============================] - 0s 5ms/step - loss: 1.8494 - mae: 1.8494 - mse: 8.3872 - val_loss: 1.6059 - val_mae: 1.6059 - val_mse: 6.2838\n",
            "Epoch 73/300\n",
            "10/10 [==============================] - 0s 3ms/step - loss: 1.8493 - mae: 1.8493 - mse: 8.3899 - val_loss: 1.6072 - val_mae: 1.6072 - val_mse: 6.2890\n",
            "Epoch 74/300\n",
            "10/10 [==============================] - 0s 3ms/step - loss: 1.8494 - mae: 1.8494 - mse: 8.3904 - val_loss: 1.6062 - val_mae: 1.6062 - val_mse: 6.2846\n",
            "Epoch 75/300\n",
            "10/10 [==============================] - 0s 3ms/step - loss: 1.8493 - mae: 1.8493 - mse: 8.3877 - val_loss: 1.6061 - val_mae: 1.6061 - val_mse: 6.2840\n",
            "Epoch 76/300\n",
            "10/10 [==============================] - 0s 3ms/step - loss: 1.8492 - mae: 1.8492 - mse: 8.3881 - val_loss: 1.6065 - val_mae: 1.6065 - val_mse: 6.2854\n",
            "Epoch 77/300\n",
            "10/10 [==============================] - 0s 3ms/step - loss: 1.8494 - mae: 1.8494 - mse: 8.3930 - val_loss: 1.6073 - val_mae: 1.6073 - val_mse: 6.2885\n",
            "Epoch 78/300\n",
            "10/10 [==============================] - 0s 3ms/step - loss: 1.8493 - mae: 1.8493 - mse: 8.3904 - val_loss: 1.6058 - val_mae: 1.6058 - val_mse: 6.2818\n",
            "Epoch 79/300\n",
            "10/10 [==============================] - 0s 3ms/step - loss: 1.8491 - mae: 1.8491 - mse: 8.3871 - val_loss: 1.6062 - val_mae: 1.6062 - val_mse: 6.2837\n",
            "Epoch 80/300\n",
            "10/10 [==============================] - 0s 3ms/step - loss: 1.8494 - mae: 1.8494 - mse: 8.3916 - val_loss: 1.6068 - val_mae: 1.6068 - val_mse: 6.2860\n",
            "Epoch 81/300\n",
            "10/10 [==============================] - 0s 3ms/step - loss: 1.8492 - mae: 1.8492 - mse: 8.3864 - val_loss: 1.6054 - val_mae: 1.6054 - val_mse: 6.2794\n",
            "Epoch 82/300\n",
            "10/10 [==============================] - 0s 3ms/step - loss: 1.8490 - mae: 1.8490 - mse: 8.3846 - val_loss: 1.6059 - val_mae: 1.6059 - val_mse: 6.2813\n",
            "Epoch 83/300\n",
            "10/10 [==============================] - 0s 4ms/step - loss: 1.8492 - mae: 1.8492 - mse: 8.3893 - val_loss: 1.6068 - val_mae: 1.6068 - val_mse: 6.2850\n",
            "Epoch 84/300\n",
            "10/10 [==============================] - 0s 3ms/step - loss: 1.8496 - mae: 1.8496 - mse: 8.3856 - val_loss: 1.6044 - val_mae: 1.6044 - val_mse: 6.2737\n",
            "Epoch 85/300\n",
            "10/10 [==============================] - 0s 3ms/step - loss: 1.8489 - mae: 1.8489 - mse: 8.3828 - val_loss: 1.6060 - val_mae: 1.6060 - val_mse: 6.2810\n",
            "Epoch 86/300\n",
            "10/10 [==============================] - 0s 4ms/step - loss: 1.8488 - mae: 1.8488 - mse: 8.3853 - val_loss: 1.6063 - val_mae: 1.6063 - val_mse: 6.2821\n",
            "Epoch 87/300\n",
            "10/10 [==============================] - 0s 3ms/step - loss: 1.8488 - mae: 1.8488 - mse: 8.3879 - val_loss: 1.6065 - val_mae: 1.6065 - val_mse: 6.2828\n",
            "Epoch 88/300\n",
            "10/10 [==============================] - 0s 3ms/step - loss: 1.8488 - mae: 1.8488 - mse: 8.3880 - val_loss: 1.6063 - val_mae: 1.6063 - val_mse: 6.2815\n",
            "Epoch 89/300\n",
            "10/10 [==============================] - 0s 3ms/step - loss: 1.8485 - mae: 1.8485 - mse: 8.3847 - val_loss: 1.6050 - val_mae: 1.6050 - val_mse: 6.2753\n",
            "Epoch 90/300\n",
            "10/10 [==============================] - 0s 3ms/step - loss: 1.8488 - mae: 1.8488 - mse: 8.3802 - val_loss: 1.6040 - val_mae: 1.6040 - val_mse: 6.2707\n",
            "Epoch 91/300\n",
            "10/10 [==============================] - 0s 3ms/step - loss: 1.8490 - mae: 1.8490 - mse: 8.3828 - val_loss: 1.6062 - val_mae: 1.6062 - val_mse: 6.2801\n",
            "Epoch 92/300\n",
            "10/10 [==============================] - 0s 3ms/step - loss: 1.8485 - mae: 1.8485 - mse: 8.3845 - val_loss: 1.6059 - val_mae: 1.6059 - val_mse: 6.2786\n",
            "Epoch 93/300\n",
            "10/10 [==============================] - 0s 3ms/step - loss: 1.8484 - mae: 1.8484 - mse: 8.3824 - val_loss: 1.6053 - val_mae: 1.6053 - val_mse: 6.2757\n",
            "Epoch 94/300\n",
            "10/10 [==============================] - 0s 3ms/step - loss: 1.8484 - mae: 1.8484 - mse: 8.3819 - val_loss: 1.6061 - val_mae: 1.6061 - val_mse: 6.2789\n",
            "Epoch 95/300\n",
            "10/10 [==============================] - 0s 3ms/step - loss: 1.8483 - mae: 1.8483 - mse: 8.3839 - val_loss: 1.6059 - val_mae: 1.6059 - val_mse: 6.2777\n",
            "Epoch 96/300\n",
            "10/10 [==============================] - 0s 3ms/step - loss: 1.8483 - mae: 1.8483 - mse: 8.3811 - val_loss: 1.6052 - val_mae: 1.6052 - val_mse: 6.2744\n",
            "Epoch 97/300\n",
            "10/10 [==============================] - 0s 3ms/step - loss: 1.8482 - mae: 1.8482 - mse: 8.3808 - val_loss: 1.6057 - val_mae: 1.6057 - val_mse: 6.2766\n",
            "Epoch 98/300\n",
            "10/10 [==============================] - 0s 3ms/step - loss: 1.8483 - mae: 1.8483 - mse: 8.3838 - val_loss: 1.6061 - val_mae: 1.6061 - val_mse: 6.2778\n",
            "Epoch 99/300\n",
            "10/10 [==============================] - 0s 3ms/step - loss: 1.8481 - mae: 1.8481 - mse: 8.3823 - val_loss: 1.6052 - val_mae: 1.6052 - val_mse: 6.2735\n",
            "Epoch 100/300\n",
            "10/10 [==============================] - 0s 4ms/step - loss: 1.8481 - mae: 1.8481 - mse: 8.3778 - val_loss: 1.6044 - val_mae: 1.6044 - val_mse: 6.2695\n",
            "Epoch 101/300\n",
            "10/10 [==============================] - 0s 4ms/step - loss: 1.8481 - mae: 1.8481 - mse: 8.3779 - val_loss: 1.6054 - val_mae: 1.6054 - val_mse: 6.2740\n",
            "Epoch 102/300\n",
            "10/10 [==============================] - 0s 4ms/step - loss: 1.8481 - mae: 1.8481 - mse: 8.3819 - val_loss: 1.6058 - val_mae: 1.6058 - val_mse: 6.2755\n",
            "Epoch 103/300\n",
            "10/10 [==============================] - 0s 3ms/step - loss: 1.8478 - mae: 1.8478 - mse: 8.3793 - val_loss: 1.6047 - val_mae: 1.6047 - val_mse: 6.2703\n",
            "Epoch 104/300\n",
            "10/10 [==============================] - 0s 4ms/step - loss: 1.8480 - mae: 1.8480 - mse: 8.3778 - val_loss: 1.6051 - val_mae: 1.6051 - val_mse: 6.2719\n",
            "Epoch 105/300\n",
            "10/10 [==============================] - 0s 3ms/step - loss: 1.8478 - mae: 1.8478 - mse: 8.3791 - val_loss: 1.6055 - val_mae: 1.6055 - val_mse: 6.2732\n",
            "Epoch 106/300\n",
            "10/10 [==============================] - 0s 4ms/step - loss: 1.8478 - mae: 1.8478 - mse: 8.3805 - val_loss: 1.6055 - val_mae: 1.6055 - val_mse: 6.2728\n",
            "Epoch 107/300\n",
            "10/10 [==============================] - 0s 3ms/step - loss: 1.8480 - mae: 1.8480 - mse: 8.3752 - val_loss: 1.6033 - val_mae: 1.6033 - val_mse: 6.2625\n",
            "Epoch 108/300\n",
            "10/10 [==============================] - 0s 3ms/step - loss: 1.8478 - mae: 1.8478 - mse: 8.3711 - val_loss: 1.6034 - val_mae: 1.6034 - val_mse: 6.2625\n",
            "Epoch 109/300\n",
            "10/10 [==============================] - 0s 3ms/step - loss: 1.8479 - mae: 1.8479 - mse: 8.3768 - val_loss: 1.6055 - val_mae: 1.6055 - val_mse: 6.2719\n",
            "Epoch 110/300\n",
            "10/10 [==============================] - 0s 3ms/step - loss: 1.8477 - mae: 1.8477 - mse: 8.3795 - val_loss: 1.6047 - val_mae: 1.6047 - val_mse: 6.2682\n",
            "Epoch 111/300\n",
            "10/10 [==============================] - 0s 3ms/step - loss: 1.8477 - mae: 1.8477 - mse: 8.3727 - val_loss: 1.6036 - val_mae: 1.6036 - val_mse: 6.2628\n",
            "Epoch 112/300\n",
            "10/10 [==============================] - 0s 3ms/step - loss: 1.8477 - mae: 1.8477 - mse: 8.3761 - val_loss: 1.6058 - val_mae: 1.6058 - val_mse: 6.2722\n",
            "Epoch 113/300\n",
            "10/10 [==============================] - 0s 3ms/step - loss: 1.8475 - mae: 1.8475 - mse: 8.3794 - val_loss: 1.6056 - val_mae: 1.6056 - val_mse: 6.2711\n",
            "Epoch 114/300\n",
            "10/10 [==============================] - 0s 3ms/step - loss: 1.8474 - mae: 1.8474 - mse: 8.3746 - val_loss: 1.6046 - val_mae: 1.6046 - val_mse: 6.2663\n",
            "Epoch 115/300\n",
            "10/10 [==============================] - 0s 4ms/step - loss: 1.8472 - mae: 1.8472 - mse: 8.3748 - val_loss: 1.6049 - val_mae: 1.6049 - val_mse: 6.2678\n",
            "Epoch 116/300\n",
            "10/10 [==============================] - 0s 3ms/step - loss: 1.8472 - mae: 1.8472 - mse: 8.3748 - val_loss: 1.6052 - val_mae: 1.6052 - val_mse: 6.2684\n",
            "Epoch 117/300\n",
            "10/10 [==============================] - 0s 3ms/step - loss: 1.8472 - mae: 1.8472 - mse: 8.3761 - val_loss: 1.6051 - val_mae: 1.6051 - val_mse: 6.2678\n",
            "Epoch 118/300\n",
            "10/10 [==============================] - 0s 3ms/step - loss: 1.8470 - mae: 1.8470 - mse: 8.3747 - val_loss: 1.6044 - val_mae: 1.6044 - val_mse: 6.2644\n",
            "Epoch 119/300\n",
            "10/10 [==============================] - 0s 3ms/step - loss: 1.8471 - mae: 1.8471 - mse: 8.3726 - val_loss: 1.6048 - val_mae: 1.6048 - val_mse: 6.2660\n",
            "Epoch 120/300\n",
            "10/10 [==============================] - 0s 3ms/step - loss: 1.8469 - mae: 1.8469 - mse: 8.3721 - val_loss: 1.6042 - val_mae: 1.6042 - val_mse: 6.2629\n",
            "Epoch 121/300\n",
            "10/10 [==============================] - 0s 4ms/step - loss: 1.8474 - mae: 1.8474 - mse: 8.3768 - val_loss: 1.6064 - val_mae: 1.6064 - val_mse: 6.2717\n",
            "Epoch 122/300\n",
            "10/10 [==============================] - 0s 5ms/step - loss: 1.8472 - mae: 1.8472 - mse: 8.3748 - val_loss: 1.6035 - val_mae: 1.6035 - val_mse: 6.2587\n",
            "Epoch 123/300\n",
            "10/10 [==============================] - 0s 3ms/step - loss: 1.8468 - mae: 1.8468 - mse: 8.3687 - val_loss: 1.6041 - val_mae: 1.6041 - val_mse: 6.2615\n",
            "Epoch 124/300\n",
            "10/10 [==============================] - 0s 3ms/step - loss: 1.8468 - mae: 1.8468 - mse: 8.3728 - val_loss: 1.6045 - val_mae: 1.6045 - val_mse: 6.2630\n",
            "Epoch 125/300\n",
            "10/10 [==============================] - 0s 3ms/step - loss: 1.8468 - mae: 1.8468 - mse: 8.3706 - val_loss: 1.6043 - val_mae: 1.6043 - val_mse: 6.2614\n",
            "Epoch 126/300\n",
            "10/10 [==============================] - 0s 3ms/step - loss: 1.8466 - mae: 1.8466 - mse: 8.3716 - val_loss: 1.6048 - val_mae: 1.6048 - val_mse: 6.2635\n",
            "Epoch 127/300\n",
            "10/10 [==============================] - 0s 3ms/step - loss: 1.8465 - mae: 1.8465 - mse: 8.3703 - val_loss: 1.6037 - val_mae: 1.6037 - val_mse: 6.2582\n",
            "Epoch 128/300\n",
            "10/10 [==============================] - 0s 3ms/step - loss: 1.8466 - mae: 1.8466 - mse: 8.3699 - val_loss: 1.6051 - val_mae: 1.6051 - val_mse: 6.2642\n",
            "Epoch 129/300\n",
            "10/10 [==============================] - 0s 3ms/step - loss: 1.8464 - mae: 1.8464 - mse: 8.3710 - val_loss: 1.6044 - val_mae: 1.6044 - val_mse: 6.2607\n",
            "Epoch 130/300\n",
            "10/10 [==============================] - 0s 4ms/step - loss: 1.8467 - mae: 1.8467 - mse: 8.3650 - val_loss: 1.6029 - val_mae: 1.6029 - val_mse: 6.2534\n",
            "Epoch 131/300\n",
            "10/10 [==============================] - 0s 3ms/step - loss: 1.8465 - mae: 1.8465 - mse: 8.3655 - val_loss: 1.6050 - val_mae: 1.6050 - val_mse: 6.2626\n",
            "Epoch 132/300\n",
            "10/10 [==============================] - 0s 6ms/step - loss: 1.8462 - mae: 1.8462 - mse: 8.3692 - val_loss: 1.6045 - val_mae: 1.6045 - val_mse: 6.2603\n",
            "Epoch 133/300\n",
            "10/10 [==============================] - 0s 4ms/step - loss: 1.8462 - mae: 1.8462 - mse: 8.3700 - val_loss: 1.6046 - val_mae: 1.6046 - val_mse: 6.2602\n",
            "Epoch 134/300\n",
            "10/10 [==============================] - 0s 3ms/step - loss: 1.8464 - mae: 1.8464 - mse: 8.3654 - val_loss: 1.6024 - val_mae: 1.6024 - val_mse: 6.2501\n",
            "Epoch 135/300\n",
            "10/10 [==============================] - 0s 3ms/step - loss: 1.8462 - mae: 1.8462 - mse: 8.3613 - val_loss: 1.6035 - val_mae: 1.6035 - val_mse: 6.2548\n",
            "Epoch 136/300\n",
            "10/10 [==============================] - 0s 4ms/step - loss: 1.8462 - mae: 1.8462 - mse: 8.3691 - val_loss: 1.6051 - val_mae: 1.6051 - val_mse: 6.2615\n",
            "Epoch 137/300\n",
            "10/10 [==============================] - 0s 4ms/step - loss: 1.8462 - mae: 1.8462 - mse: 8.3664 - val_loss: 1.6036 - val_mae: 1.6036 - val_mse: 6.2544\n",
            "Epoch 138/300\n",
            "10/10 [==============================] - 0s 3ms/step - loss: 1.8462 - mae: 1.8462 - mse: 8.3627 - val_loss: 1.6030 - val_mae: 1.6030 - val_mse: 6.2512\n",
            "Epoch 139/300\n",
            "10/10 [==============================] - 0s 3ms/step - loss: 1.8458 - mae: 1.8458 - mse: 8.3645 - val_loss: 1.6038 - val_mae: 1.6038 - val_mse: 6.2547\n",
            "Epoch 140/300\n",
            "10/10 [==============================] - 0s 3ms/step - loss: 1.8457 - mae: 1.8457 - mse: 8.3640 - val_loss: 1.6041 - val_mae: 1.6041 - val_mse: 6.2558\n",
            "Epoch 141/300\n",
            "10/10 [==============================] - 0s 3ms/step - loss: 1.8457 - mae: 1.8457 - mse: 8.3679 - val_loss: 1.6048 - val_mae: 1.6048 - val_mse: 6.2584\n",
            "Epoch 142/300\n",
            "10/10 [==============================] - 0s 3ms/step - loss: 1.8459 - mae: 1.8459 - mse: 8.3640 - val_loss: 1.6029 - val_mae: 1.6029 - val_mse: 6.2494\n",
            "Epoch 143/300\n",
            "10/10 [==============================] - 0s 3ms/step - loss: 1.8455 - mae: 1.8455 - mse: 8.3628 - val_loss: 1.6050 - val_mae: 1.6050 - val_mse: 6.2585\n",
            "Epoch 144/300\n",
            "10/10 [==============================] - 0s 4ms/step - loss: 1.8456 - mae: 1.8456 - mse: 8.3670 - val_loss: 1.6046 - val_mae: 1.6046 - val_mse: 6.2563\n",
            "Epoch 145/300\n",
            "10/10 [==============================] - 0s 3ms/step - loss: 1.8455 - mae: 1.8455 - mse: 8.3633 - val_loss: 1.6028 - val_mae: 1.6028 - val_mse: 6.2478\n",
            "Epoch 146/300\n",
            "10/10 [==============================] - 0s 3ms/step - loss: 1.8454 - mae: 1.8454 - mse: 8.3578 - val_loss: 1.6025 - val_mae: 1.6025 - val_mse: 6.2465\n",
            "Epoch 147/300\n",
            "10/10 [==============================] - 0s 3ms/step - loss: 1.8453 - mae: 1.8453 - mse: 8.3605 - val_loss: 1.6043 - val_mae: 1.6043 - val_mse: 6.2539\n",
            "Epoch 148/300\n",
            "10/10 [==============================] - 0s 3ms/step - loss: 1.8452 - mae: 1.8452 - mse: 8.3632 - val_loss: 1.6035 - val_mae: 1.6035 - val_mse: 6.2503\n",
            "Epoch 149/300\n",
            "10/10 [==============================] - 0s 3ms/step - loss: 1.8452 - mae: 1.8452 - mse: 8.3581 - val_loss: 1.6023 - val_mae: 1.6023 - val_mse: 6.2444\n",
            "Epoch 150/300\n",
            "10/10 [==============================] - 0s 4ms/step - loss: 1.8453 - mae: 1.8453 - mse: 8.3607 - val_loss: 1.6033 - val_mae: 1.6033 - val_mse: 6.2488\n",
            "Epoch 151/300\n",
            "10/10 [==============================] - 0s 3ms/step - loss: 1.8450 - mae: 1.8450 - mse: 8.3602 - val_loss: 1.6033 - val_mae: 1.6033 - val_mse: 6.2484\n",
            "Epoch 152/300\n",
            "10/10 [==============================] - 0s 4ms/step - loss: 1.8451 - mae: 1.8451 - mse: 8.3585 - val_loss: 1.6039 - val_mae: 1.6039 - val_mse: 6.2507\n",
            "Epoch 153/300\n",
            "10/10 [==============================] - 0s 3ms/step - loss: 1.8449 - mae: 1.8449 - mse: 8.3618 - val_loss: 1.6036 - val_mae: 1.6036 - val_mse: 6.2487\n",
            "Epoch 154/300\n",
            "10/10 [==============================] - 0s 4ms/step - loss: 1.8448 - mae: 1.8448 - mse: 8.3561 - val_loss: 1.6022 - val_mae: 1.6022 - val_mse: 6.2419\n",
            "Epoch 155/300\n",
            "10/10 [==============================] - 0s 3ms/step - loss: 1.8448 - mae: 1.8448 - mse: 8.3547 - val_loss: 1.6028 - val_mae: 1.6028 - val_mse: 6.2446\n",
            "Epoch 156/300\n",
            "10/10 [==============================] - 0s 4ms/step - loss: 1.8449 - mae: 1.8449 - mse: 8.3562 - val_loss: 1.6036 - val_mae: 1.6036 - val_mse: 6.2476\n",
            "Epoch 157/300\n",
            "10/10 [==============================] - 0s 3ms/step - loss: 1.8449 - mae: 1.8449 - mse: 8.3616 - val_loss: 1.6049 - val_mae: 1.6049 - val_mse: 6.2529\n",
            "Epoch 158/300\n",
            "10/10 [==============================] - 0s 6ms/step - loss: 1.8444 - mae: 1.8444 - mse: 8.3604 - val_loss: 1.6027 - val_mae: 1.6027 - val_mse: 6.2433\n",
            "Epoch 159/300\n",
            "10/10 [==============================] - 0s 3ms/step - loss: 1.8445 - mae: 1.8445 - mse: 8.3534 - val_loss: 1.6017 - val_mae: 1.6017 - val_mse: 6.2382\n",
            "Epoch 160/300\n",
            "10/10 [==============================] - 0s 4ms/step - loss: 1.8450 - mae: 1.8450 - mse: 8.3483 - val_loss: 1.6005 - val_mae: 1.6005 - val_mse: 6.2319\n",
            "Epoch 161/300\n",
            "10/10 [==============================] - 0s 3ms/step - loss: 1.8444 - mae: 1.8444 - mse: 8.3476 - val_loss: 1.6022 - val_mae: 1.6022 - val_mse: 6.2396\n",
            "Epoch 162/300\n",
            "10/10 [==============================] - 0s 4ms/step - loss: 1.8441 - mae: 1.8441 - mse: 8.3542 - val_loss: 1.6033 - val_mae: 1.6033 - val_mse: 6.2445\n",
            "Epoch 163/300\n",
            "10/10 [==============================] - 0s 3ms/step - loss: 1.8442 - mae: 1.8442 - mse: 8.3568 - val_loss: 1.6034 - val_mae: 1.6034 - val_mse: 6.2442\n",
            "Epoch 164/300\n",
            "10/10 [==============================] - 0s 3ms/step - loss: 1.8445 - mae: 1.8445 - mse: 8.3593 - val_loss: 1.6039 - val_mae: 1.6039 - val_mse: 6.2460\n",
            "Epoch 165/300\n",
            "10/10 [==============================] - 0s 3ms/step - loss: 1.8441 - mae: 1.8441 - mse: 8.3514 - val_loss: 1.6013 - val_mae: 1.6013 - val_mse: 6.2343\n",
            "Epoch 166/300\n",
            "10/10 [==============================] - 0s 3ms/step - loss: 1.8443 - mae: 1.8443 - mse: 8.3466 - val_loss: 1.6009 - val_mae: 1.6009 - val_mse: 6.2320\n",
            "Epoch 167/300\n",
            "10/10 [==============================] - 0s 3ms/step - loss: 1.8439 - mae: 1.8439 - mse: 8.3463 - val_loss: 1.6016 - val_mae: 1.6016 - val_mse: 6.2347\n",
            "Epoch 168/300\n",
            "10/10 [==============================] - 0s 3ms/step - loss: 1.8438 - mae: 1.8438 - mse: 8.3522 - val_loss: 1.6038 - val_mae: 1.6038 - val_mse: 6.2440\n",
            "Epoch 169/300\n",
            "10/10 [==============================] - 0s 3ms/step - loss: 1.8438 - mae: 1.8438 - mse: 8.3544 - val_loss: 1.6025 - val_mae: 1.6025 - val_mse: 6.2384\n",
            "Epoch 170/300\n",
            "10/10 [==============================] - 0s 3ms/step - loss: 1.8436 - mae: 1.8436 - mse: 8.3495 - val_loss: 1.6017 - val_mae: 1.6017 - val_mse: 6.2341\n",
            "Epoch 171/300\n",
            "10/10 [==============================] - 0s 3ms/step - loss: 1.8437 - mae: 1.8437 - mse: 8.3511 - val_loss: 1.6021 - val_mae: 1.6021 - val_mse: 6.2358\n",
            "Epoch 172/300\n",
            "10/10 [==============================] - 0s 4ms/step - loss: 1.8440 - mae: 1.8440 - mse: 8.3534 - val_loss: 1.6043 - val_mae: 1.6043 - val_mse: 6.2445\n",
            "Epoch 173/300\n",
            "10/10 [==============================] - 0s 3ms/step - loss: 1.8436 - mae: 1.8436 - mse: 8.3490 - val_loss: 1.6007 - val_mae: 1.6007 - val_mse: 6.2283\n",
            "Epoch 174/300\n",
            "10/10 [==============================] - 0s 3ms/step - loss: 1.8435 - mae: 1.8435 - mse: 8.3451 - val_loss: 1.6016 - val_mae: 1.6016 - val_mse: 6.2321\n",
            "Epoch 175/300\n",
            "10/10 [==============================] - 0s 3ms/step - loss: 1.8435 - mae: 1.8435 - mse: 8.3491 - val_loss: 1.6025 - val_mae: 1.6025 - val_mse: 6.2360\n",
            "Epoch 176/300\n",
            "10/10 [==============================] - 0s 3ms/step - loss: 1.8431 - mae: 1.8431 - mse: 8.3474 - val_loss: 1.6019 - val_mae: 1.6019 - val_mse: 6.2328\n",
            "Epoch 177/300\n",
            "10/10 [==============================] - 0s 4ms/step - loss: 1.8431 - mae: 1.8431 - mse: 8.3468 - val_loss: 1.6021 - val_mae: 1.6021 - val_mse: 6.2333\n",
            "Epoch 178/300\n",
            "10/10 [==============================] - 0s 3ms/step - loss: 1.8430 - mae: 1.8430 - mse: 8.3481 - val_loss: 1.6032 - val_mae: 1.6032 - val_mse: 6.2376\n",
            "Epoch 179/300\n",
            "10/10 [==============================] - 0s 4ms/step - loss: 1.8432 - mae: 1.8432 - mse: 8.3477 - val_loss: 1.6017 - val_mae: 1.6017 - val_mse: 6.2310\n",
            "Epoch 180/300\n",
            "10/10 [==============================] - 0s 3ms/step - loss: 1.8429 - mae: 1.8429 - mse: 8.3473 - val_loss: 1.6026 - val_mae: 1.6026 - val_mse: 6.2344\n",
            "Epoch 181/300\n",
            "10/10 [==============================] - 0s 3ms/step - loss: 1.8429 - mae: 1.8429 - mse: 8.3445 - val_loss: 1.6011 - val_mae: 1.6011 - val_mse: 6.2273\n",
            "Epoch 182/300\n",
            "10/10 [==============================] - 0s 3ms/step - loss: 1.8429 - mae: 1.8429 - mse: 8.3420 - val_loss: 1.6015 - val_mae: 1.6015 - val_mse: 6.2288\n",
            "Epoch 183/300\n",
            "10/10 [==============================] - 0s 4ms/step - loss: 1.8427 - mae: 1.8427 - mse: 8.3446 - val_loss: 1.6017 - val_mae: 1.6017 - val_mse: 6.2293\n",
            "Epoch 184/300\n",
            "10/10 [==============================] - 0s 3ms/step - loss: 1.8427 - mae: 1.8427 - mse: 8.3435 - val_loss: 1.6019 - val_mae: 1.6019 - val_mse: 6.2299\n",
            "Epoch 185/300\n",
            "10/10 [==============================] - 0s 4ms/step - loss: 1.8425 - mae: 1.8425 - mse: 8.3445 - val_loss: 1.6015 - val_mae: 1.6015 - val_mse: 6.2275\n",
            "Epoch 186/300\n",
            "10/10 [==============================] - 0s 3ms/step - loss: 1.8426 - mae: 1.8426 - mse: 8.3390 - val_loss: 1.6001 - val_mae: 1.6001 - val_mse: 6.2205\n",
            "Epoch 187/300\n",
            "10/10 [==============================] - 0s 4ms/step - loss: 1.8424 - mae: 1.8424 - mse: 8.3385 - val_loss: 1.6015 - val_mae: 1.6015 - val_mse: 6.2269\n",
            "Epoch 188/300\n",
            "10/10 [==============================] - 0s 4ms/step - loss: 1.8426 - mae: 1.8426 - mse: 8.3467 - val_loss: 1.6033 - val_mae: 1.6033 - val_mse: 6.2341\n",
            "Epoch 189/300\n",
            "10/10 [==============================] - 0s 4ms/step - loss: 1.8423 - mae: 1.8423 - mse: 8.3431 - val_loss: 1.6007 - val_mae: 1.6007 - val_mse: 6.2222\n",
            "Epoch 190/300\n",
            "10/10 [==============================] - 0s 4ms/step - loss: 1.8422 - mae: 1.8422 - mse: 8.3398 - val_loss: 1.6015 - val_mae: 1.6015 - val_mse: 6.2260\n",
            "Epoch 191/300\n",
            "10/10 [==============================] - 0s 4ms/step - loss: 1.8421 - mae: 1.8421 - mse: 8.3405 - val_loss: 1.6020 - val_mae: 1.6020 - val_mse: 6.2277\n",
            "Epoch 192/300\n",
            "10/10 [==============================] - 0s 3ms/step - loss: 1.8421 - mae: 1.8421 - mse: 8.3430 - val_loss: 1.6019 - val_mae: 1.6019 - val_mse: 6.2268\n",
            "Epoch 193/300\n",
            "10/10 [==============================] - 0s 3ms/step - loss: 1.8418 - mae: 1.8418 - mse: 8.3401 - val_loss: 1.6006 - val_mae: 1.6006 - val_mse: 6.2204\n",
            "Epoch 194/300\n",
            "10/10 [==============================] - 0s 3ms/step - loss: 1.8422 - mae: 1.8422 - mse: 8.3334 - val_loss: 1.5995 - val_mae: 1.5995 - val_mse: 6.2149\n",
            "Epoch 195/300\n",
            "10/10 [==============================] - 0s 5ms/step - loss: 1.8418 - mae: 1.8418 - mse: 8.3333 - val_loss: 1.6003 - val_mae: 1.6003 - val_mse: 6.2184\n",
            "Epoch 196/300\n",
            "10/10 [==============================] - 0s 3ms/step - loss: 1.8420 - mae: 1.8420 - mse: 8.3405 - val_loss: 1.6024 - val_mae: 1.6024 - val_mse: 6.2271\n",
            "Epoch 197/300\n",
            "10/10 [==============================] - 0s 3ms/step - loss: 1.8417 - mae: 1.8417 - mse: 8.3412 - val_loss: 1.6016 - val_mae: 1.6016 - val_mse: 6.2234\n",
            "Epoch 198/300\n",
            "10/10 [==============================] - 0s 3ms/step - loss: 1.8415 - mae: 1.8415 - mse: 8.3352 - val_loss: 1.6000 - val_mae: 1.6000 - val_mse: 6.2155\n",
            "Epoch 199/300\n",
            "10/10 [==============================] - 0s 3ms/step - loss: 1.8415 - mae: 1.8415 - mse: 8.3351 - val_loss: 1.6005 - val_mae: 1.6005 - val_mse: 6.2177\n",
            "Epoch 200/300\n",
            "10/10 [==============================] - 0s 3ms/step - loss: 1.8413 - mae: 1.8413 - mse: 8.3361 - val_loss: 1.6010 - val_mae: 1.6010 - val_mse: 6.2196\n",
            "Epoch 201/300\n",
            "10/10 [==============================] - 0s 4ms/step - loss: 1.8412 - mae: 1.8412 - mse: 8.3349 - val_loss: 1.6009 - val_mae: 1.6009 - val_mse: 6.2187\n",
            "Epoch 202/300\n",
            "10/10 [==============================] - 0s 4ms/step - loss: 1.8411 - mae: 1.8411 - mse: 8.3344 - val_loss: 1.6004 - val_mae: 1.6004 - val_mse: 6.2161\n",
            "Epoch 203/300\n",
            "10/10 [==============================] - 0s 3ms/step - loss: 1.8412 - mae: 1.8412 - mse: 8.3340 - val_loss: 1.6000 - val_mae: 1.6000 - val_mse: 6.2139\n",
            "Epoch 204/300\n",
            "10/10 [==============================] - 0s 3ms/step - loss: 1.8413 - mae: 1.8413 - mse: 8.3352 - val_loss: 1.6016 - val_mae: 1.6016 - val_mse: 6.2206\n",
            "Epoch 205/300\n",
            "10/10 [==============================] - 0s 3ms/step - loss: 1.8409 - mae: 1.8409 - mse: 8.3349 - val_loss: 1.6002 - val_mae: 1.6002 - val_mse: 6.2137\n",
            "Epoch 206/300\n",
            "10/10 [==============================] - 0s 4ms/step - loss: 1.8411 - mae: 1.8411 - mse: 8.3285 - val_loss: 1.5991 - val_mae: 1.5991 - val_mse: 6.2081\n",
            "Epoch 207/300\n",
            "10/10 [==============================] - 0s 3ms/step - loss: 1.8408 - mae: 1.8408 - mse: 8.3270 - val_loss: 1.5996 - val_mae: 1.5996 - val_mse: 6.2105\n",
            "Epoch 208/300\n",
            "10/10 [==============================] - 0s 3ms/step - loss: 1.8411 - mae: 1.8411 - mse: 8.3352 - val_loss: 1.6023 - val_mae: 1.6023 - val_mse: 6.2218\n",
            "Epoch 209/300\n",
            "10/10 [==============================] - 0s 4ms/step - loss: 1.8406 - mae: 1.8406 - mse: 8.3337 - val_loss: 1.5999 - val_mae: 1.5999 - val_mse: 6.2112\n",
            "Epoch 210/300\n",
            "10/10 [==============================] - 0s 4ms/step - loss: 1.8408 - mae: 1.8408 - mse: 8.3245 - val_loss: 1.5986 - val_mae: 1.5986 - val_mse: 6.2043\n",
            "Epoch 211/300\n",
            "10/10 [==============================] - 0s 3ms/step - loss: 1.8410 - mae: 1.8410 - mse: 8.3306 - val_loss: 1.6019 - val_mae: 1.6019 - val_mse: 6.2188\n",
            "Epoch 212/300\n",
            "10/10 [==============================] - 0s 3ms/step - loss: 1.8406 - mae: 1.8406 - mse: 8.3358 - val_loss: 1.6007 - val_mae: 1.6007 - val_mse: 6.2134\n",
            "Epoch 213/300\n",
            "10/10 [==============================] - 0s 3ms/step - loss: 1.8407 - mae: 1.8407 - mse: 8.3241 - val_loss: 1.5986 - val_mae: 1.5986 - val_mse: 6.2032\n",
            "Epoch 214/300\n",
            "10/10 [==============================] - 0s 4ms/step - loss: 1.8403 - mae: 1.8403 - mse: 8.3254 - val_loss: 1.5997 - val_mae: 1.5997 - val_mse: 6.2081\n",
            "Epoch 215/300\n",
            "10/10 [==============================] - 0s 3ms/step - loss: 1.8401 - mae: 1.8401 - mse: 8.3259 - val_loss: 1.6005 - val_mae: 1.6005 - val_mse: 6.2114\n",
            "Epoch 216/300\n",
            "10/10 [==============================] - 0s 4ms/step - loss: 1.8403 - mae: 1.8403 - mse: 8.3321 - val_loss: 1.6018 - val_mae: 1.6018 - val_mse: 6.2165\n",
            "Epoch 217/300\n",
            "10/10 [==============================] - 0s 3ms/step - loss: 1.8400 - mae: 1.8400 - mse: 8.3288 - val_loss: 1.5991 - val_mae: 1.5991 - val_mse: 6.2042\n",
            "Epoch 218/300\n",
            "10/10 [==============================] - 0s 4ms/step - loss: 1.8401 - mae: 1.8401 - mse: 8.3257 - val_loss: 1.6011 - val_mae: 1.6011 - val_mse: 6.2126\n",
            "Epoch 219/300\n",
            "10/10 [==============================] - 0s 4ms/step - loss: 1.8398 - mae: 1.8398 - mse: 8.3285 - val_loss: 1.5995 - val_mae: 1.5995 - val_mse: 6.2051\n",
            "Epoch 220/300\n",
            "10/10 [==============================] - 0s 4ms/step - loss: 1.8402 - mae: 1.8402 - mse: 8.3204 - val_loss: 1.5977 - val_mae: 1.5977 - val_mse: 6.1963\n",
            "Epoch 221/300\n",
            "10/10 [==============================] - 0s 3ms/step - loss: 1.8397 - mae: 1.8397 - mse: 8.3202 - val_loss: 1.5990 - val_mae: 1.5990 - val_mse: 6.2017\n",
            "Epoch 222/300\n",
            "10/10 [==============================] - 0s 4ms/step - loss: 1.8395 - mae: 1.8395 - mse: 8.3263 - val_loss: 1.6011 - val_mae: 1.6011 - val_mse: 6.2109\n",
            "Epoch 223/300\n",
            "10/10 [==============================] - 0s 3ms/step - loss: 1.8396 - mae: 1.8396 - mse: 8.3272 - val_loss: 1.5995 - val_mae: 1.5995 - val_mse: 6.2036\n",
            "Epoch 224/300\n",
            "10/10 [==============================] - 0s 4ms/step - loss: 1.8396 - mae: 1.8396 - mse: 8.3263 - val_loss: 1.5997 - val_mae: 1.5997 - val_mse: 6.2041\n",
            "Epoch 225/300\n",
            "10/10 [==============================] - 0s 3ms/step - loss: 1.8393 - mae: 1.8393 - mse: 8.3213 - val_loss: 1.5979 - val_mae: 1.5979 - val_mse: 6.1951\n",
            "Epoch 226/300\n",
            "10/10 [==============================] - 0s 6ms/step - loss: 1.8394 - mae: 1.8394 - mse: 8.3155 - val_loss: 1.5982 - val_mae: 1.5982 - val_mse: 6.1962\n",
            "Epoch 227/300\n",
            "10/10 [==============================] - 0s 4ms/step - loss: 1.8397 - mae: 1.8397 - mse: 8.3257 - val_loss: 1.6008 - val_mae: 1.6008 - val_mse: 6.2075\n",
            "Epoch 228/300\n",
            "10/10 [==============================] - 0s 3ms/step - loss: 1.8395 - mae: 1.8395 - mse: 8.3216 - val_loss: 1.5989 - val_mae: 1.5989 - val_mse: 6.1987\n",
            "Epoch 229/300\n",
            "10/10 [==============================] - 0s 4ms/step - loss: 1.8391 - mae: 1.8391 - mse: 8.3217 - val_loss: 1.5989 - val_mae: 1.5989 - val_mse: 6.1983\n",
            "Epoch 230/300\n",
            "10/10 [==============================] - 0s 4ms/step - loss: 1.8388 - mae: 1.8388 - mse: 8.3190 - val_loss: 1.5991 - val_mae: 1.5991 - val_mse: 6.1989\n",
            "Epoch 231/300\n",
            "10/10 [==============================] - 0s 3ms/step - loss: 1.8392 - mae: 1.8392 - mse: 8.3240 - val_loss: 1.6007 - val_mae: 1.6007 - val_mse: 6.2054\n",
            "Epoch 232/300\n",
            "10/10 [==============================] - 0s 3ms/step - loss: 1.8387 - mae: 1.8387 - mse: 8.3200 - val_loss: 1.5982 - val_mae: 1.5982 - val_mse: 6.1937\n",
            "Epoch 233/300\n",
            "10/10 [==============================] - 0s 3ms/step - loss: 1.8386 - mae: 1.8386 - mse: 8.3153 - val_loss: 1.5988 - val_mae: 1.5988 - val_mse: 6.1962\n",
            "Epoch 234/300\n",
            "10/10 [==============================] - 0s 5ms/step - loss: 1.8391 - mae: 1.8391 - mse: 8.3240 - val_loss: 1.6009 - val_mae: 1.6009 - val_mse: 6.2048\n",
            "Epoch 235/300\n",
            "10/10 [==============================] - 0s 3ms/step - loss: 1.8385 - mae: 1.8385 - mse: 8.3161 - val_loss: 1.5974 - val_mae: 1.5974 - val_mse: 6.1888\n",
            "Epoch 236/300\n",
            "10/10 [==============================] - 0s 4ms/step - loss: 1.8388 - mae: 1.8388 - mse: 8.3076 - val_loss: 1.5979 - val_mae: 1.5979 - val_mse: 6.1909\n",
            "Epoch 237/300\n",
            "10/10 [==============================] - 0s 3ms/step - loss: 1.8382 - mae: 1.8382 - mse: 8.3212 - val_loss: 1.6022 - val_mae: 1.6022 - val_mse: 6.2084\n",
            "Epoch 238/300\n",
            "10/10 [==============================] - 0s 3ms/step - loss: 1.8388 - mae: 1.8388 - mse: 8.3268 - val_loss: 1.5987 - val_mae: 1.5987 - val_mse: 6.1938\n",
            "Epoch 239/300\n",
            "10/10 [==============================] - 0s 3ms/step - loss: 1.8380 - mae: 1.8380 - mse: 8.3159 - val_loss: 1.5979 - val_mae: 1.5979 - val_mse: 6.1896\n",
            "Epoch 240/300\n",
            "10/10 [==============================] - 0s 3ms/step - loss: 1.8382 - mae: 1.8382 - mse: 8.3101 - val_loss: 1.5979 - val_mae: 1.5979 - val_mse: 6.1892\n",
            "Epoch 241/300\n",
            "10/10 [==============================] - 0s 3ms/step - loss: 1.8377 - mae: 1.8377 - mse: 8.3129 - val_loss: 1.5992 - val_mae: 1.5992 - val_mse: 6.1949\n",
            "Epoch 242/300\n",
            "10/10 [==============================] - 0s 3ms/step - loss: 1.8380 - mae: 1.8380 - mse: 8.3198 - val_loss: 1.6002 - val_mae: 1.6002 - val_mse: 6.1987\n",
            "Epoch 243/300\n",
            "10/10 [==============================] - 0s 3ms/step - loss: 1.8376 - mae: 1.8376 - mse: 8.3142 - val_loss: 1.5979 - val_mae: 1.5979 - val_mse: 6.1883\n",
            "Epoch 244/300\n",
            "10/10 [==============================] - 0s 4ms/step - loss: 1.8379 - mae: 1.8379 - mse: 8.3073 - val_loss: 1.5965 - val_mae: 1.5965 - val_mse: 6.1806\n",
            "Epoch 245/300\n",
            "10/10 [==============================] - 0s 4ms/step - loss: 1.8375 - mae: 1.8375 - mse: 8.3075 - val_loss: 1.5987 - val_mae: 1.5987 - val_mse: 6.1907\n",
            "Epoch 246/300\n",
            "10/10 [==============================] - 0s 4ms/step - loss: 1.8376 - mae: 1.8376 - mse: 8.3162 - val_loss: 1.6000 - val_mae: 1.6000 - val_mse: 6.1958\n",
            "Epoch 247/300\n",
            "10/10 [==============================] - 0s 4ms/step - loss: 1.8373 - mae: 1.8373 - mse: 8.3127 - val_loss: 1.5979 - val_mae: 1.5979 - val_mse: 6.1863\n",
            "Epoch 248/300\n",
            "10/10 [==============================] - 0s 4ms/step - loss: 1.8377 - mae: 1.8377 - mse: 8.3051 - val_loss: 1.5966 - val_mae: 1.5966 - val_mse: 6.1799\n",
            "Epoch 249/300\n",
            "10/10 [==============================] - 0s 3ms/step - loss: 1.8371 - mae: 1.8371 - mse: 8.3065 - val_loss: 1.5986 - val_mae: 1.5986 - val_mse: 6.1887\n",
            "Epoch 250/300\n",
            "10/10 [==============================] - 0s 3ms/step - loss: 1.8372 - mae: 1.8372 - mse: 8.3119 - val_loss: 1.5978 - val_mae: 1.5978 - val_mse: 6.1849\n",
            "Epoch 251/300\n",
            "10/10 [==============================] - 0s 4ms/step - loss: 1.8369 - mae: 1.8369 - mse: 8.3092 - val_loss: 1.5986 - val_mae: 1.5986 - val_mse: 6.1879\n",
            "Epoch 252/300\n",
            "10/10 [==============================] - 0s 3ms/step - loss: 1.8375 - mae: 1.8375 - mse: 8.3087 - val_loss: 1.5962 - val_mae: 1.5962 - val_mse: 6.1763\n",
            "Epoch 253/300\n",
            "10/10 [==============================] - 0s 4ms/step - loss: 1.8367 - mae: 1.8367 - mse: 8.3060 - val_loss: 1.5993 - val_mae: 1.5993 - val_mse: 6.1901\n",
            "Epoch 254/300\n",
            "10/10 [==============================] - 0s 4ms/step - loss: 1.8371 - mae: 1.8371 - mse: 8.3090 - val_loss: 1.5981 - val_mae: 1.5981 - val_mse: 6.1848\n",
            "Epoch 255/300\n",
            "10/10 [==============================] - 0s 3ms/step - loss: 1.8367 - mae: 1.8367 - mse: 8.3067 - val_loss: 1.5982 - val_mae: 1.5982 - val_mse: 6.1844\n",
            "Epoch 256/300\n",
            "10/10 [==============================] - 0s 3ms/step - loss: 1.8366 - mae: 1.8366 - mse: 8.3093 - val_loss: 1.5978 - val_mae: 1.5978 - val_mse: 6.1825\n",
            "Epoch 257/300\n",
            "10/10 [==============================] - 0s 3ms/step - loss: 1.8363 - mae: 1.8363 - mse: 8.3049 - val_loss: 1.5972 - val_mae: 1.5972 - val_mse: 6.1791\n",
            "Epoch 258/300\n",
            "10/10 [==============================] - 0s 4ms/step - loss: 1.8363 - mae: 1.8363 - mse: 8.3026 - val_loss: 1.5976 - val_mae: 1.5976 - val_mse: 6.1807\n",
            "Epoch 259/300\n",
            "10/10 [==============================] - 0s 4ms/step - loss: 1.8366 - mae: 1.8366 - mse: 8.3084 - val_loss: 1.5982 - val_mae: 1.5982 - val_mse: 6.1829\n",
            "Epoch 260/300\n",
            "10/10 [==============================] - 0s 3ms/step - loss: 1.8361 - mae: 1.8361 - mse: 8.2996 - val_loss: 1.5960 - val_mae: 1.5960 - val_mse: 6.1719\n",
            "Epoch 261/300\n",
            "10/10 [==============================] - 0s 3ms/step - loss: 1.8362 - mae: 1.8362 - mse: 8.3007 - val_loss: 1.5977 - val_mae: 1.5977 - val_mse: 6.1797\n",
            "Epoch 262/300\n",
            "10/10 [==============================] - 0s 4ms/step - loss: 1.8361 - mae: 1.8361 - mse: 8.3020 - val_loss: 1.5960 - val_mae: 1.5960 - val_mse: 6.1716\n",
            "Epoch 263/300\n",
            "10/10 [==============================] - 0s 4ms/step - loss: 1.8360 - mae: 1.8360 - mse: 8.3000 - val_loss: 1.5981 - val_mae: 1.5981 - val_mse: 6.1807\n",
            "Epoch 264/300\n",
            "10/10 [==============================] - 0s 4ms/step - loss: 1.8363 - mae: 1.8363 - mse: 8.2994 - val_loss: 1.5962 - val_mae: 1.5962 - val_mse: 6.1716\n",
            "Epoch 265/300\n",
            "10/10 [==============================] - 0s 4ms/step - loss: 1.8357 - mae: 1.8357 - mse: 8.2964 - val_loss: 1.5990 - val_mae: 1.5990 - val_mse: 6.1832\n",
            "Epoch 266/300\n",
            "10/10 [==============================] - 0s 3ms/step - loss: 1.8378 - mae: 1.8378 - mse: 8.3127 - val_loss: 1.5973 - val_mae: 1.5973 - val_mse: 6.1760\n",
            "Epoch 267/300\n",
            "10/10 [==============================] - 0s 3ms/step - loss: 1.8378 - mae: 1.8378 - mse: 8.2873 - val_loss: 1.5948 - val_mae: 1.5948 - val_mse: 6.1580\n",
            "Epoch 268/300\n",
            "10/10 [==============================] - 0s 3ms/step - loss: 1.8356 - mae: 1.8356 - mse: 8.2945 - val_loss: 1.5998 - val_mae: 1.5998 - val_mse: 6.1853\n",
            "Epoch 269/300\n",
            "10/10 [==============================] - 0s 3ms/step - loss: 1.8357 - mae: 1.8357 - mse: 8.3053 - val_loss: 1.5961 - val_mae: 1.5961 - val_mse: 6.1696\n",
            "Epoch 270/300\n",
            "10/10 [==============================] - 0s 3ms/step - loss: 1.8353 - mae: 1.8353 - mse: 8.2947 - val_loss: 1.5956 - val_mae: 1.5956 - val_mse: 6.1665\n",
            "Epoch 271/300\n",
            "10/10 [==============================] - 0s 4ms/step - loss: 1.8354 - mae: 1.8354 - mse: 8.2975 - val_loss: 1.5965 - val_mae: 1.5965 - val_mse: 6.1709\n",
            "Epoch 272/300\n",
            "10/10 [==============================] - 0s 3ms/step - loss: 1.8351 - mae: 1.8351 - mse: 8.2957 - val_loss: 1.5963 - val_mae: 1.5963 - val_mse: 6.1697\n",
            "Epoch 273/300\n",
            "10/10 [==============================] - 0s 4ms/step - loss: 1.8351 - mae: 1.8351 - mse: 8.2949 - val_loss: 1.5968 - val_mae: 1.5968 - val_mse: 6.1713\n",
            "Epoch 274/300\n",
            "10/10 [==============================] - 0s 3ms/step - loss: 1.8350 - mae: 1.8350 - mse: 8.2962 - val_loss: 1.5967 - val_mae: 1.5967 - val_mse: 6.1708\n",
            "Epoch 275/300\n",
            "10/10 [==============================] - 0s 3ms/step - loss: 1.8353 - mae: 1.8353 - mse: 8.2997 - val_loss: 1.5961 - val_mae: 1.5961 - val_mse: 6.1671\n",
            "Epoch 276/300\n",
            "10/10 [==============================] - 0s 3ms/step - loss: 1.8350 - mae: 1.8350 - mse: 8.2956 - val_loss: 1.5957 - val_mae: 1.5957 - val_mse: 6.1649\n",
            "Epoch 277/300\n",
            "10/10 [==============================] - 0s 3ms/step - loss: 1.8347 - mae: 1.8347 - mse: 8.2925 - val_loss: 1.5969 - val_mae: 1.5969 - val_mse: 6.1702\n",
            "Epoch 278/300\n",
            "10/10 [==============================] - 0s 3ms/step - loss: 1.8346 - mae: 1.8346 - mse: 8.2957 - val_loss: 1.5959 - val_mae: 1.5959 - val_mse: 6.1651\n",
            "Epoch 279/300\n",
            "10/10 [==============================] - 0s 4ms/step - loss: 1.8348 - mae: 1.8348 - mse: 8.2936 - val_loss: 1.5971 - val_mae: 1.5971 - val_mse: 6.1702\n",
            "Epoch 280/300\n",
            "10/10 [==============================] - 0s 4ms/step - loss: 1.8346 - mae: 1.8346 - mse: 8.2921 - val_loss: 1.5959 - val_mae: 1.5959 - val_mse: 6.1644\n",
            "Epoch 281/300\n",
            "10/10 [==============================] - 0s 4ms/step - loss: 1.8342 - mae: 1.8342 - mse: 8.2930 - val_loss: 1.5973 - val_mae: 1.5973 - val_mse: 6.1698\n",
            "Epoch 282/300\n",
            "10/10 [==============================] - 0s 3ms/step - loss: 1.8344 - mae: 1.8344 - mse: 8.2937 - val_loss: 1.5958 - val_mae: 1.5958 - val_mse: 6.1635\n",
            "Epoch 283/300\n",
            "10/10 [==============================] - 0s 4ms/step - loss: 1.8341 - mae: 1.8341 - mse: 8.2905 - val_loss: 1.5967 - val_mae: 1.5967 - val_mse: 6.1668\n",
            "Epoch 284/300\n",
            "10/10 [==============================] - 0s 3ms/step - loss: 1.8343 - mae: 1.8343 - mse: 8.2915 - val_loss: 1.5964 - val_mae: 1.5964 - val_mse: 6.1649\n",
            "Epoch 285/300\n",
            "10/10 [==============================] - 0s 5ms/step - loss: 1.8340 - mae: 1.8340 - mse: 8.2916 - val_loss: 1.5958 - val_mae: 1.5958 - val_mse: 6.1618\n",
            "Epoch 286/300\n",
            "10/10 [==============================] - 0s 3ms/step - loss: 1.8338 - mae: 1.8338 - mse: 8.2903 - val_loss: 1.5958 - val_mae: 1.5958 - val_mse: 6.1616\n",
            "Epoch 287/300\n",
            "10/10 [==============================] - 0s 3ms/step - loss: 1.8348 - mae: 1.8348 - mse: 8.2938 - val_loss: 1.5949 - val_mae: 1.5949 - val_mse: 6.1541\n",
            "Epoch 288/300\n",
            "10/10 [==============================] - 0s 3ms/step - loss: 1.8340 - mae: 1.8340 - mse: 8.2855 - val_loss: 1.5972 - val_mae: 1.5972 - val_mse: 6.1665\n",
            "Epoch 289/300\n",
            "10/10 [==============================] - 0s 3ms/step - loss: 1.8337 - mae: 1.8337 - mse: 8.2876 - val_loss: 1.5950 - val_mae: 1.5950 - val_mse: 6.1559\n",
            "Epoch 290/300\n",
            "10/10 [==============================] - 0s 4ms/step - loss: 1.8337 - mae: 1.8337 - mse: 8.2881 - val_loss: 1.5952 - val_mae: 1.5952 - val_mse: 6.1576\n",
            "Epoch 291/300\n",
            "10/10 [==============================] - 0s 4ms/step - loss: 1.8338 - mae: 1.8338 - mse: 8.2914 - val_loss: 1.5949 - val_mae: 1.5949 - val_mse: 6.1543\n",
            "Epoch 292/300\n",
            "10/10 [==============================] - 0s 3ms/step - loss: 1.8345 - mae: 1.8345 - mse: 8.2807 - val_loss: 1.5968 - val_mae: 1.5968 - val_mse: 6.1636\n",
            "Epoch 293/300\n",
            "10/10 [==============================] - 0s 4ms/step - loss: 1.8340 - mae: 1.8340 - mse: 8.2899 - val_loss: 1.5948 - val_mae: 1.5948 - val_mse: 6.1482\n",
            "Epoch 294/300\n",
            "10/10 [==============================] - 0s 3ms/step - loss: 1.8349 - mae: 1.8349 - mse: 8.2819 - val_loss: 1.5969 - val_mae: 1.5969 - val_mse: 6.1636\n",
            "Epoch 295/300\n",
            "10/10 [==============================] - 0s 4ms/step - loss: 1.8334 - mae: 1.8334 - mse: 8.2865 - val_loss: 1.5951 - val_mae: 1.5951 - val_mse: 6.1562\n",
            "Epoch 296/300\n",
            "10/10 [==============================] - 0s 4ms/step - loss: 1.8333 - mae: 1.8333 - mse: 8.2860 - val_loss: 1.5955 - val_mae: 1.5955 - val_mse: 6.1577\n",
            "Epoch 297/300\n",
            "10/10 [==============================] - 0s 4ms/step - loss: 1.8336 - mae: 1.8336 - mse: 8.2881 - val_loss: 1.5951 - val_mae: 1.5951 - val_mse: 6.1553\n",
            "Epoch 298/300\n",
            "10/10 [==============================] - 0s 4ms/step - loss: 1.8331 - mae: 1.8331 - mse: 8.2857 - val_loss: 1.5956 - val_mae: 1.5956 - val_mse: 6.1574\n",
            "Epoch 299/300\n",
            "10/10 [==============================] - 0s 3ms/step - loss: 1.8330 - mae: 1.8330 - mse: 8.2843 - val_loss: 1.5948 - val_mae: 1.5948 - val_mse: 6.1514\n",
            "Epoch 300/300\n",
            "10/10 [==============================] - 0s 4ms/step - loss: 1.8337 - mae: 1.8337 - mse: 8.2876 - val_loss: 1.5949 - val_mae: 1.5949 - val_mse: 6.1471\n"
          ],
          "name": "stdout"
        }
      ]
    },
    {
      "cell_type": "code",
      "metadata": {
        "id": "6zYkLGS6wQyy",
        "colab": {
          "base_uri": "https://localhost:8080/"
        },
        "outputId": "b5e22d9c-5e83-4112-f75f-2131cf8f6ffb"
      },
      "source": [
        "print(history)"
      ],
      "execution_count": 38,
      "outputs": [
        {
          "output_type": "stream",
          "text": [
            "<tensorflow.python.keras.callbacks.History object at 0x7fb3f2d82250>\n"
          ],
          "name": "stdout"
        }
      ]
    },
    {
      "cell_type": "code",
      "metadata": {
        "colab": {
          "base_uri": "https://localhost:8080/"
        },
        "id": "1lsbk_ohAu1j",
        "outputId": "ab4ca841-35f0-4264-c936-599fb590b132"
      },
      "source": [
        "model.summary()"
      ],
      "execution_count": 39,
      "outputs": [
        {
          "output_type": "stream",
          "text": [
            "Model: \"sequential\"\n",
            "_________________________________________________________________\n",
            "Layer (type)                 Output Shape              Param #   \n",
            "=================================================================\n",
            "dense (Dense)                (None, 1)                 2         \n",
            "=================================================================\n",
            "Total params: 2\n",
            "Trainable params: 2\n",
            "Non-trainable params: 0\n",
            "_________________________________________________________________\n"
          ],
          "name": "stdout"
        }
      ]
    },
    {
      "cell_type": "code",
      "metadata": {
        "colab": {
          "base_uri": "https://localhost:8080/",
          "height": 1000
        },
        "id": "P6VnkPim7tH7",
        "outputId": "6ee7dcec-9150-4988-f283-5dc1e764dc82"
      },
      "source": [
        "# tempString = 'mse'\n",
        "def curvePlots(tempString):\n",
        "  plt.plot(history.history[tempString])\n",
        "  plt.plot(history.history[f'val_{tempString}'])\n",
        "  plt.xlabel('NumEpochs')\n",
        "  plt.ylabel(tempString)\n",
        "  plt.legend([tempString, f'val_{tempString}'])\n",
        "  plt.show()\n",
        "\n",
        "\n",
        "curvePlots('mse')\n",
        "curvePlots('mae')\n",
        "curvePlots('loss')"
      ],
      "execution_count": 40,
      "outputs": [
        {
          "output_type": "display_data",
          "data": {
            "image/png": "[encoded data removed]",
            "text/plain": [
              "<Figure size 576x396 with 1 Axes>"
            ]
          },
          "metadata": {
            "tags": []
          }
        },
        {
          "output_type": "display_data",
          "data": {
            "image/png": "[encoded data removed]",
            "text/plain": [
              "<Figure size 576x396 with 1 Axes>"
            ]
          },
          "metadata": {
            "tags": []
          }
        },
        {
          "output_type": "display_data",
          "data": {
            "image/png": "[encoded data removed]",
            "text/plain": [
              "<Figure size 576x396 with 1 Axes>"
            ]
          },
          "metadata": {
            "tags": []
          }
        }
      ]
    },
    {
      "cell_type": "code",
      "metadata": {
        "id": "esW0eHQbzoj4",
        "colab": {
          "base_uri": "https://localhost:8080/"
        },
        "outputId": "b0891bbb-b8a6-4561-bf05-fb1542d0eaa7"
      },
      "source": [
        "model.predict([1])"
      ],
      "execution_count": 41,
      "outputs": [
        {
          "output_type": "execute_result",
          "data": {
            "text/plain": [
              "array([[1.008625]], dtype=float32)"
            ]
          },
          "metadata": {
            "tags": []
          },
          "execution_count": 41
        }
      ]
    },
    {
      "cell_type": "code",
      "metadata": {
        "colab": {
          "base_uri": "https://localhost:8080/"
        },
        "id": "KJrLWamX8Tg-",
        "outputId": "ac56bec0-6a75-4012-a284-b2667c446b3f"
      },
      "source": [
        "# testPreds = model.predict(testFeatures).flatten() #array of all prediction values\n",
        "\n",
        "#for single values\n",
        "\n",
        "print(f'Prediction for input value 1: {model.predict([1])}')\n",
        "\n",
        "\n",
        "# for a list of values\n",
        "tempListforPreds = [1,2,3,4,5]\n",
        "print(f'''\n",
        "\n",
        "input List = {tempListforPreds}\n",
        "\n",
        "\n",
        "List of Predictions:\n",
        "{model.predict(tempListforPreds)}\n",
        "\n",
        "List of Predictions (flattened out):\n",
        "{model.predict(tempListforPreds).flatten()}\n",
        "''')"
      ],
      "execution_count": 42,
      "outputs": [
        {
          "output_type": "stream",
          "text": [
            "Prediction for input value 1: [[1.008625]]\n",
            "\n",
            "\n",
            "input List = [1, 2, 3, 4, 5]\n",
            "\n",
            "\n",
            "List of Predictions:\n",
            "[[1.008625 ]\n",
            " [2.0069652]\n",
            " [3.0053055]\n",
            " [4.0036454]\n",
            " [5.001986 ]]\n",
            "\n",
            "List of Predictions (flattened out):\n",
            "[1.008625  2.0069652 3.0053055 4.0036454 5.001986 ]\n",
            "\n"
          ],
          "name": "stdout"
        }
      ]
    },
    {
      "cell_type": "code",
      "metadata": {
        "id": "vJNFh6hc0K6r",
        "colab": {
          "base_uri": "https://localhost:8080/"
        },
        "outputId": "1fed7eab-1bb7-4985-9071-50a7e8482986"
      },
      "source": [
        "print(testFeatures)"
      ],
      "execution_count": 43,
      "outputs": [
        {
          "output_type": "stream",
          "text": [
            "     G1\n",
            "9    14\n",
            "25    6\n",
            "28   11\n",
            "31   17\n",
            "32   17\n",
            "..   ..\n",
            "365  10\n",
            "367   7\n",
            "379  10\n",
            "381   7\n",
            "393  11\n",
            "\n",
            "[79 rows x 1 columns]\n"
          ],
          "name": "stdout"
        }
      ]
    },
    {
      "cell_type": "code",
      "metadata": {
        "id": "MniGZOu50IyN"
      },
      "source": [
        "testPreds = model.predict(testFeatures).flatten() #array of all prediction values"
      ],
      "execution_count": 44,
      "outputs": []
    },
    {
      "cell_type": "code",
      "metadata": {
        "id": "du0Orwu40Qan",
        "colab": {
          "base_uri": "https://localhost:8080/"
        },
        "outputId": "6f5e4b2a-7de4-41be-f6f1-80df9a78fa6a"
      },
      "source": [
        "print(len(testPreds))\n",
        "print(testPreds)"
      ],
      "execution_count": 45,
      "outputs": [
        {
          "output_type": "stream",
          "text": [
            "79\n",
            "[13.987047   6.000326  10.992026  16.982067  16.982067  11.990367\n",
            " 13.987047  18.978748  18.978748   7.9970064 13.987047  12.988707\n",
            "  7.9970064  6.9986663  8.995346  12.988707  10.992026  15.983727\n",
            "  6.9986663  9.993687  14.985387  12.988707  13.987047  15.983727\n",
            "  6.9986663  6.9986663  7.9970064  9.993687  11.990367   9.993687\n",
            " 11.990367  12.988707   9.993687   6.000326   8.995346  11.990367\n",
            "  6.9986663  7.9970064 13.987047   8.995346   8.995346   6.9986663\n",
            " 11.990367   6.000326  12.988707   6.9986663  6.9986663 10.992026\n",
            " 12.988707  16.982067  11.990367  14.985387   8.995346  11.990367\n",
            " 14.985387  11.990367  14.985387  11.990367  14.985387  10.992026\n",
            " 11.990367   7.9970064 15.983727   6.9986663 15.983727  10.992026\n",
            " 15.983727  12.988707   7.9970064  7.9970064 11.990367  17.980408\n",
            " 12.988707  15.983727   9.993687   6.9986663  9.993687   6.9986663\n",
            " 10.992026 ]\n"
          ],
          "name": "stdout"
        }
      ]
    },
    {
      "cell_type": "code",
      "metadata": {
        "colab": {
          "base_uri": "https://localhost:8080/",
          "height": 361
        },
        "id": "EfP8bB_v89Wa",
        "outputId": "f6a77764-dc89-400e-9733-c81da3673a20"
      },
      "source": [
        "# prediciton plot --> how well is your model predicting across the actual labels\n",
        "\n",
        "def predPlot(labels, predictions):\n",
        "  plt.scatter(labels, predictions)\n",
        "  plt.ylabel('Predictions')\n",
        "  plt.xlabel('True Value or Labels')\n",
        "  plt.axis('equal')\n",
        "  plt.axis('square')\n",
        "  plt.xlim([0, plt.xlim()[1]])\n",
        "  plt.ylim([0, plt.ylim()[1]])\n",
        "  plt.show()\n",
        "\n",
        "predPlot(testLabels, testPreds)"
      ],
      "execution_count": 46,
      "outputs": [
        {
          "output_type": "display_data",
          "data": {
            "image/png": "[encoded data removed]",
            "text/plain": [
              "<Figure size 576x396 with 1 Axes>"
            ]
          },
          "metadata": {
            "tags": []
          }
        }
      ]
    },
    {
      "cell_type": "code",
      "metadata": {
        "colab": {
          "base_uri": "https://localhost:8080/",
          "height": 361
        },
        "id": "70608Z0o9tWL",
        "outputId": "149b8f0c-b753-41a9-825a-8d5ba8de9d3c"
      },
      "source": [
        "#error plot --> gaussian distribution \n",
        "\n",
        "def errorPlot(preds, labels, counts):\n",
        "  errors = preds - labels\n",
        "  plt.hist(errors, counts)\n",
        "  plt.xlabel('Error')\n",
        "  plt.ylabel('Counts')\n",
        "  plt.show()\n",
        "\n",
        "errorPlot(testPreds, testLabels, numEpochs)"
      ],
      "execution_count": 47,
      "outputs": [
        {
          "output_type": "display_data",
          "data": {
            "image/png": "[encoded data removed]",
            "text/plain": [
              "<Figure size 576x396 with 1 Axes>"
            ]
          },
          "metadata": {
            "tags": []
          }
        }
      ]
    },
    {
      "cell_type": "markdown",
      "metadata": {
        "id": "oshf2mUG1vPk"
      },
      "source": [
        "Note: \n",
        "\n",
        "\n",
        "Validation loss `val_loss` is a metric that tells you how much deviation from the actual label can you expect in the predicted label\n",
        "\n",
        "To optimize your predicitons -->\n",
        "\n",
        "- Hyperparameter tuning --> `numEpochs`, `optimizer`, `learning_rate`, lossFunctions"
      ]
    }
  ]
}