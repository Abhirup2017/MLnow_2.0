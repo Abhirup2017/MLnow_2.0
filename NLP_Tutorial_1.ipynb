{
  "nbformat": 4,
  "nbformat_minor": 0,
  "metadata": {
    "colab": {
      "name": "NLP Tutorial 1.ipynb",
      "provenance": [],
      "authorship_tag": "ABX9TyN62dANTaSw+dIYeBLH/6R1",
      "include_colab_link": true
    },
    "kernelspec": {
      "name": "python3",
      "display_name": "Python 3"
    },
    "language_info": {
      "name": "python"
    }
  },
  "cells": [
    {
      "cell_type": "markdown",
      "metadata": {
        "id": "view-in-github",
        "colab_type": "text"
      },
      "source": [
        "<a href=\"https://colab.research.google.com/github/Abhirup2017/MLnow_2.0/blob/main/NLP_Tutorial_1.ipynb\" target=\"_parent\"><img src=\"https://colab.research.google.com/assets/colab-badge.svg\" alt=\"Open In Colab\"/></a>"
      ]
    },
    {
      "cell_type": "markdown",
      "metadata": {
        "id": "eHvOziTQ6xQM"
      },
      "source": [
        "# This is the beginning of my NLP tutorial! Hope you all will enjoy it.\n",
        "\n",
        "**Prerequisites of this course** :\n",
        "\n",
        "\n",
        "*   Basic Python\n",
        "\n",
        "*   Machine Learning Concept\n",
        "\n",
        "\n"
      ]
    },
    {
      "cell_type": "markdown",
      "metadata": {
        "id": "lLMSihSH72hu"
      },
      "source": [
        "## 1. Tokenaization\n",
        "\n",
        "`We will start with Tokenaization first. Tokenaization is used to split a sentence into pieces of words. It also splits paragraphs into sentences.`"
      ]
    },
    {
      "cell_type": "markdown",
      "metadata": {
        "id": "hmmQUgLW8ky2"
      },
      "source": [
        "## NLTK Library\n",
        "\n",
        "`It's a python library which is used in building NLP model!`"
      ]
    },
    {
      "cell_type": "code",
      "metadata": {
        "id": "MZnrZRF-54lg"
      },
      "source": [
        "import numpy as np\n",
        "import pandas as pd\n",
        "import matplotlib.pyplot as plt\n",
        "import seaborn as sns"
      ],
      "execution_count": 1,
      "outputs": []
    },
    {
      "cell_type": "code",
      "metadata": {
        "colab": {
          "base_uri": "https://localhost:8080/"
        },
        "id": "sS3teFln9Eym",
        "outputId": "58d89d4f-72e6-43d2-c836-29bd89e0f78e"
      },
      "source": [
        "import nltk\n",
        "nltk.download(\"punkt\")\n",
        "nltk.download('stopwords')\n",
        "nltk.download('wordnet')\n"
      ],
      "execution_count": 2,
      "outputs": [
        {
          "output_type": "stream",
          "text": [
            "[nltk_data] Downloading package punkt to /root/nltk_data...\n",
            "[nltk_data]   Unzipping tokenizers/punkt.zip.\n",
            "[nltk_data] Downloading package stopwords to /root/nltk_data...\n",
            "[nltk_data]   Unzipping corpora/stopwords.zip.\n",
            "[nltk_data] Downloading package wordnet to /root/nltk_data...\n",
            "[nltk_data]   Unzipping corpora/wordnet.zip.\n"
          ],
          "name": "stdout"
        },
        {
          "output_type": "execute_result",
          "data": {
            "text/plain": [
              "True"
            ]
          },
          "metadata": {
            "tags": []
          },
          "execution_count": 2
        }
      ]
    },
    {
      "cell_type": "code",
      "metadata": {
        "colab": {
          "base_uri": "https://localhost:8080/",
          "height": 139
        },
        "id": "akCRKBwPA9rq",
        "outputId": "20b5b02b-e7ad-4cce-f92b-1e13a7254605"
      },
      "source": [
        "paragraph = \"Between cinematic effect rivaled by even few movies and other elements, I have yet to see a tv series match it or even come close. Before Game of Thrones with the exception of Breaking Bad and maybe a few other series, very few had kept me glued from beginning to end. It also did what few have done and not only kept you guessing from episode to episode (whether it be who falls in love, who changes from good to evil, who dies, who comes back, new relationships made, old friendships ending and so on)but also built from the first season to the last progressively. It had an extremely grounded, reastic, morbid, grim, brutal, sad, and other negative effects type of storytelling with few bouts of positive triumph, but that's what made it amazing. Because the dark moments sure become so much lighter when everything seems to be lost. Although many won't approve because of the liberal use of nudity, sexualism, profanity and graphic violence, I defend it wholeheartedly. What in the news and nowadays otherwise is all that much different, at least this one has good writing and equal elements of good. The art direction is impeccable, the writing and acting are perfect across the board, and the visual effects and practical effects are outstanding, especially given this is a tv series and they are better than what most fantasy movies put out. I can't applaud the actors enough, the supporting actors made most lead actors in other series look like amateurs, the leads made most of those in their class look like supporting actors and the good definitely made it easy to cheer for them while the evil were more than capable of carrying out a good effort for people to hate them. If you are into fantasy, medieval, or just good acting entertainment in general and can at least sit through the elements that you consider obscene or over the top, you will love this show - frankly I find it almost impossible to hate it. \"\n",
        "paragraph"
      ],
      "execution_count": 3,
      "outputs": [
        {
          "output_type": "execute_result",
          "data": {
            "application/vnd.google.colaboratory.intrinsic+json": {
              "type": "string"
            },
            "text/plain": [
              "\"Between cinematic effect rivaled by even few movies and other elements, I have yet to see a tv series match it or even come close. Before Game of Thrones with the exception of Breaking Bad and maybe a few other series, very few had kept me glued from beginning to end. It also did what few have done and not only kept you guessing from episode to episode (whether it be who falls in love, who changes from good to evil, who dies, who comes back, new relationships made, old friendships ending and so on)but also built from the first season to the last progressively. It had an extremely grounded, reastic, morbid, grim, brutal, sad, and other negative effects type of storytelling with few bouts of positive triumph, but that's what made it amazing. Because the dark moments sure become so much lighter when everything seems to be lost. Although many won't approve because of the liberal use of nudity, sexualism, profanity and graphic violence, I defend it wholeheartedly. What in the news and nowadays otherwise is all that much different, at least this one has good writing and equal elements of good. The art direction is impeccable, the writing and acting are perfect across the board, and the visual effects and practical effects are outstanding, especially given this is a tv series and they are better than what most fantasy movies put out. I can't applaud the actors enough, the supporting actors made most lead actors in other series look like amateurs, the leads made most of those in their class look like supporting actors and the good definitely made it easy to cheer for them while the evil were more than capable of carrying out a good effort for people to hate them. If you are into fantasy, medieval, or just good acting entertainment in general and can at least sit through the elements that you consider obscene or over the top, you will love this show - frankly I find it almost impossible to hate it. \""
            ]
          },
          "metadata": {
            "tags": []
          },
          "execution_count": 3
        }
      ]
    },
    {
      "cell_type": "code",
      "metadata": {
        "colab": {
          "base_uri": "https://localhost:8080/"
        },
        "id": "P8Kg1b--BJRI",
        "outputId": "d6c16f88-8f81-4f7c-8816-b2198cbc0ddb"
      },
      "source": [
        "sentences = nltk.sent_tokenize(paragraph)\n",
        "sentences"
      ],
      "execution_count": 4,
      "outputs": [
        {
          "output_type": "execute_result",
          "data": {
            "text/plain": [
              "['Between cinematic effect rivaled by even few movies and other elements, I have yet to see a tv series match it or even come close.',\n",
              " 'Before Game of Thrones with the exception of Breaking Bad and maybe a few other series, very few had kept me glued from beginning to end.',\n",
              " 'It also did what few have done and not only kept you guessing from episode to episode (whether it be who falls in love, who changes from good to evil, who dies, who comes back, new relationships made, old friendships ending and so on)but also built from the first season to the last progressively.',\n",
              " \"It had an extremely grounded, reastic, morbid, grim, brutal, sad, and other negative effects type of storytelling with few bouts of positive triumph, but that's what made it amazing.\",\n",
              " 'Because the dark moments sure become so much lighter when everything seems to be lost.',\n",
              " \"Although many won't approve because of the liberal use of nudity, sexualism, profanity and graphic violence, I defend it wholeheartedly.\",\n",
              " 'What in the news and nowadays otherwise is all that much different, at least this one has good writing and equal elements of good.',\n",
              " 'The art direction is impeccable, the writing and acting are perfect across the board, and the visual effects and practical effects are outstanding, especially given this is a tv series and they are better than what most fantasy movies put out.',\n",
              " \"I can't applaud the actors enough, the supporting actors made most lead actors in other series look like amateurs, the leads made most of those in their class look like supporting actors and the good definitely made it easy to cheer for them while the evil were more than capable of carrying out a good effort for people to hate them.\",\n",
              " 'If you are into fantasy, medieval, or just good acting entertainment in general and can at least sit through the elements that you consider obscene or over the top, you will love this show - frankly I find it almost impossible to hate it.']"
            ]
          },
          "metadata": {
            "tags": []
          },
          "execution_count": 4
        }
      ]
    },
    {
      "cell_type": "code",
      "metadata": {
        "colab": {
          "base_uri": "https://localhost:8080/"
        },
        "id": "52_5zQOvBbZ5",
        "outputId": "33ac50db-e90a-483a-ab48-4d5855b844d1"
      },
      "source": [
        "print(len(sentences))\n",
        "print(type(sentences))"
      ],
      "execution_count": 5,
      "outputs": [
        {
          "output_type": "stream",
          "text": [
            "10\n",
            "<class 'list'>\n"
          ],
          "name": "stdout"
        }
      ]
    },
    {
      "cell_type": "code",
      "metadata": {
        "id": "ij_CghnBF3iJ"
      },
      "source": [
        "#words = nltk.word_tokenize(paragraph)\n",
        "#print(len(words))"
      ],
      "execution_count": 6,
      "outputs": []
    },
    {
      "cell_type": "markdown",
      "metadata": {
        "id": "In0Vcz1FJTZ3"
      },
      "source": [
        "## 2. Stemming and Lemmatization"
      ]
    },
    {
      "cell_type": "markdown",
      "metadata": {
        "id": "N9qi8y5uJifH"
      },
      "source": [
        "**We use Stemming and Lemmatization to understand what the word is telling about!**\n",
        "\n",
        "`Stemming will not give any meaningful word, where as Lemmatization will give a meaningful word!`\n",
        "\n",
        "`Stemming takes less time , Lemmatization takes more time`\n",
        "\n",
        "`Stemming used in Sentimental Analysis, Positive-Negative Reviews where as Lemmatization used in Chat bot, Ques-Ans application`"
      ]
    },
    {
      "cell_type": "markdown",
      "metadata": {
        "id": "71mqgHarmSNj"
      },
      "source": [
        "## a. Stemming"
      ]
    },
    {
      "cell_type": "code",
      "metadata": {
        "id": "FpuPgYe2GnHu"
      },
      "source": [
        "from nltk.stem import PorterStemmer\n",
        "from nltk.corpus import stopwords"
      ],
      "execution_count": 7,
      "outputs": []
    },
    {
      "cell_type": "code",
      "metadata": {
        "colab": {
          "base_uri": "https://localhost:8080/"
        },
        "id": "NzpvSw6xMGLo",
        "outputId": "776bda1c-d4eb-4486-faf1-bf786c506ab3"
      },
      "source": [
        "a = stopwords.words('english')\n",
        "print(a, end=\"\")"
      ],
      "execution_count": 8,
      "outputs": [
        {
          "output_type": "stream",
          "text": [
            "['i', 'me', 'my', 'myself', 'we', 'our', 'ours', 'ourselves', 'you', \"you're\", \"you've\", \"you'll\", \"you'd\", 'your', 'yours', 'yourself', 'yourselves', 'he', 'him', 'his', 'himself', 'she', \"she's\", 'her', 'hers', 'herself', 'it', \"it's\", 'its', 'itself', 'they', 'them', 'their', 'theirs', 'themselves', 'what', 'which', 'who', 'whom', 'this', 'that', \"that'll\", 'these', 'those', 'am', 'is', 'are', 'was', 'were', 'be', 'been', 'being', 'have', 'has', 'had', 'having', 'do', 'does', 'did', 'doing', 'a', 'an', 'the', 'and', 'but', 'if', 'or', 'because', 'as', 'until', 'while', 'of', 'at', 'by', 'for', 'with', 'about', 'against', 'between', 'into', 'through', 'during', 'before', 'after', 'above', 'below', 'to', 'from', 'up', 'down', 'in', 'out', 'on', 'off', 'over', 'under', 'again', 'further', 'then', 'once', 'here', 'there', 'when', 'where', 'why', 'how', 'all', 'any', 'both', 'each', 'few', 'more', 'most', 'other', 'some', 'such', 'no', 'nor', 'not', 'only', 'own', 'same', 'so', 'than', 'too', 'very', 's', 't', 'can', 'will', 'just', 'don', \"don't\", 'should', \"should've\", 'now', 'd', 'll', 'm', 'o', 're', 've', 'y', 'ain', 'aren', \"aren't\", 'couldn', \"couldn't\", 'didn', \"didn't\", 'doesn', \"doesn't\", 'hadn', \"hadn't\", 'hasn', \"hasn't\", 'haven', \"haven't\", 'isn', \"isn't\", 'ma', 'mightn', \"mightn't\", 'mustn', \"mustn't\", 'needn', \"needn't\", 'shan', \"shan't\", 'shouldn', \"shouldn't\", 'wasn', \"wasn't\", 'weren', \"weren't\", 'won', \"won't\", 'wouldn', \"wouldn't\"]"
          ],
          "name": "stdout"
        }
      ]
    },
    {
      "cell_type": "code",
      "metadata": {
        "id": "yeq8MRWSLa2l"
      },
      "source": [
        "stemmer = PorterStemmer()"
      ],
      "execution_count": 9,
      "outputs": []
    },
    {
      "cell_type": "code",
      "metadata": {
        "id": "Bp_ScLv1L-or"
      },
      "source": [
        "for i in range(len(sentences)):\n",
        "  words=nltk.word_tokenize(sentences[i])\n",
        "  words = [stemmer.stem(word)for word in words if word not in set(stopwords.words('english'))]\n",
        "  sentences[i] = \" \".join(words)\n"
      ],
      "execution_count": 10,
      "outputs": []
    },
    {
      "cell_type": "code",
      "metadata": {
        "colab": {
          "base_uri": "https://localhost:8080/"
        },
        "id": "ZSHiFplZOyTs",
        "outputId": "a0c550f3-cd44-4ba1-865c-1327cfb3f140"
      },
      "source": [
        "sentences"
      ],
      "execution_count": 11,
      "outputs": [
        {
          "output_type": "execute_result",
          "data": {
            "text/plain": [
              "['between cinemat effect rival even movi element , I yet see tv seri match even come close .',\n",
              " 'befor game throne except break bad mayb seri , kept glu begin end .',\n",
              " 'It also done kept guess episod episod ( whether fall love , chang good evil , die , come back , new relationship made , old friendship end ) also built first season last progress .',\n",
              " \"It extrem ground , reastic , morbid , grim , brutal , sad , neg effect type storytel bout posit triumph , 's made amaz .\",\n",
              " 'becaus dark moment sure becom much lighter everyth seem lost .',\n",
              " \"although mani wo n't approv liber use nuditi , sexual , profan graphic violenc , I defend wholeheartedli .\",\n",
              " 'what news nowaday otherwis much differ , least one good write equal element good .',\n",
              " 'the art direct impecc , write act perfect across board , visual effect practic effect outstand , especi given tv seri better fantasi movi put .',\n",
              " \"I ca n't applaud actor enough , support actor made lead actor seri look like amateur , lead made class look like support actor good definit made easi cheer evil capabl carri good effort peopl hate .\",\n",
              " 'If fantasi , mediev , good act entertain gener least sit element consid obscen top , love show - frankli I find almost imposs hate .']"
            ]
          },
          "metadata": {
            "tags": []
          },
          "execution_count": 11
        }
      ]
    },
    {
      "cell_type": "markdown",
      "metadata": {
        "id": "sPB8xuJdmayS"
      },
      "source": [
        "## b. Lemmatization"
      ]
    },
    {
      "cell_type": "code",
      "metadata": {
        "id": "wSSB3B73Pek7"
      },
      "source": [
        "from nltk.stem import WordNetLemmatizer\n",
        "from nltk.corpus import stopwords"
      ],
      "execution_count": 12,
      "outputs": []
    },
    {
      "cell_type": "code",
      "metadata": {
        "id": "DM5v3QN_Pzp_",
        "colab": {
          "base_uri": "https://localhost:8080/"
        },
        "outputId": "649c5a16-5605-4f03-c6af-645dc2aa70c8"
      },
      "source": [
        "\n",
        "sentences = nltk.sent_tokenize(paragraph.lower())\n",
        "sentences\n"
      ],
      "execution_count": 30,
      "outputs": [
        {
          "output_type": "execute_result",
          "data": {
            "text/plain": [
              "['between cinematic effect rivaled by even few movies and other elements, i have yet to see a tv series match it or even come close.',\n",
              " 'before game of thrones with the exception of breaking bad and maybe a few other series, very few had kept me glued from beginning to end.',\n",
              " 'it also did what few have done and not only kept you guessing from episode to episode (whether it be who falls in love, who changes from good to evil, who dies, who comes back, new relationships made, old friendships ending and so on)but also built from the first season to the last progressively.',\n",
              " \"it had an extremely grounded, reastic, morbid, grim, brutal, sad, and other negative effects type of storytelling with few bouts of positive triumph, but that's what made it amazing.\",\n",
              " 'because the dark moments sure become so much lighter when everything seems to be lost.',\n",
              " \"although many won't approve because of the liberal use of nudity, sexualism, profanity and graphic violence, i defend it wholeheartedly.\",\n",
              " 'what in the news and nowadays otherwise is all that much different, at least this one has good writing and equal elements of good.',\n",
              " 'the art direction is impeccable, the writing and acting are perfect across the board, and the visual effects and practical effects are outstanding, especially given this is a tv series and they are better than what most fantasy movies put out.',\n",
              " \"i can't applaud the actors enough, the supporting actors made most lead actors in other series look like amateurs, the leads made most of those in their class look like supporting actors and the good definitely made it easy to cheer for them while the evil were more than capable of carrying out a good effort for people to hate them.\",\n",
              " 'if you are into fantasy, medieval, or just good acting entertainment in general and can at least sit through the elements that you consider obscene or over the top, you will love this show - frankly i find it almost impossible to hate it.']"
            ]
          },
          "metadata": {
            "tags": []
          },
          "execution_count": 30
        }
      ]
    },
    {
      "cell_type": "code",
      "metadata": {
        "id": "OK2GRnedikrU"
      },
      "source": [
        "lemmatizer = WordNetLemmatizer()"
      ],
      "execution_count": 31,
      "outputs": []
    },
    {
      "cell_type": "code",
      "metadata": {
        "id": "UHv-g6YPiyeE"
      },
      "source": [
        "for i in range(len(sentences)):\n",
        "  words = nltk.word_tokenize(sentences[i])\n",
        "  words = [lemmatizer.lemmatize(word) for word in words if word not in set(stopwords.words(\"english\"))]\n",
        "  sentences[i] = \" \".join(words)"
      ],
      "execution_count": 32,
      "outputs": []
    },
    {
      "cell_type": "code",
      "metadata": {
        "colab": {
          "base_uri": "https://localhost:8080/"
        },
        "id": "nXTzaO-WkD_f",
        "outputId": "a3c16b80-35f3-4b18-e909-c13d0a705e48"
      },
      "source": [
        "sentences"
      ],
      "execution_count": 33,
      "outputs": [
        {
          "output_type": "execute_result",
          "data": {
            "text/plain": [
              "['cinematic effect rivaled even movie element , yet see tv series match even come close .',\n",
              " 'game throne exception breaking bad maybe series , kept glued beginning end .',\n",
              " 'also done kept guessing episode episode ( whether fall love , change good evil , dy , come back , new relationship made , old friendship ending ) also built first season last progressively .',\n",
              " \"extremely grounded , reastic , morbid , grim , brutal , sad , negative effect type storytelling bout positive triumph , 's made amazing .\",\n",
              " 'dark moment sure become much lighter everything seems lost .',\n",
              " \"although many wo n't approve liberal use nudity , sexualism , profanity graphic violence , defend wholeheartedly .\",\n",
              " 'news nowadays otherwise much different , least one good writing equal element good .',\n",
              " 'art direction impeccable , writing acting perfect across board , visual effect practical effect outstanding , especially given tv series better fantasy movie put .',\n",
              " \"ca n't applaud actor enough , supporting actor made lead actor series look like amateur , lead made class look like supporting actor good definitely made easy cheer evil capable carrying good effort people hate .\",\n",
              " 'fantasy , medieval , good acting entertainment general least sit element consider obscene top , love show - frankly find almost impossible hate .']"
            ]
          },
          "metadata": {
            "tags": []
          },
          "execution_count": 33
        }
      ]
    },
    {
      "cell_type": "code",
      "metadata": {
        "id": "h3YQnILklZFX"
      },
      "source": [
        ""
      ],
      "execution_count": 24,
      "outputs": []
    },
    {
      "cell_type": "code",
      "metadata": {
        "id": "HLQuKGYkALfx"
      },
      "source": [
        ""
      ],
      "execution_count": null,
      "outputs": []
    }
  ]
}